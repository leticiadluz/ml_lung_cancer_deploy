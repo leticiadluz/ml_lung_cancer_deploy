{
 "cells": [
  {
   "cell_type": "markdown",
   "id": "f3f334ff",
   "metadata": {},
   "source": [
    "# 1- Introdução: Previsão de câncer de pulmão com R\n",
    "\n",
    "- O objetivo deste projeto é criar um modelo de machine learning utilizando o Tidymodels para prever o risco de câncer de pulmão. Este modelo pode ajudar as pessoas a entenderem melhor o risco de desenvolver câncer de pulmão com base em vários fatores, possibilitando a tomada de decisões apropriadas para a área saúde.\n",
    "- Os dados foram coletados do Kaggle: https://www.kaggle.com/datasets/mysarahmadbhat/lung-cancer/data\n",
    "- Para este projeto, utilizamos o Tidymodels, cuja principal função é fornecer uma interface coerente para todas as etapas do processo de modelagem, desde a preparação dos dados até a validação do modelo e a geração de previsões. O Tidymodels pode ser comparado ao pipeline do scikit-learn em Python, permitindo a criação de fluxos de trabalho com transformações, ajuste de hiperparâmetros e validação cruzada utilizando workflows e recipes.\n",
    "\n",
    "## 1.1 - Limitações\n",
    "- Tamanho do Conjunto de Dados: O conjunto de dados utilizado é relativamente pequeno, contendo apenas 309 instâncias. Esse tamanho reduzido pode limitar a capacidade do modelo de generalizar para populações maiores e mais diversas.\n",
    "- Desbalanceamento dos Dados: Os dados estavam extremamente desbalanceados, com 39 instâncias negativas para o desenvolvimento de câncer contra 270 instâncias positivas. Esse desbalanceamento pode levar a um viés no modelo, fazendo com que ele tenha dificuldade em identificar corretamente os casos negativos e, potencialmente, gerando um alto número de falsos positivos.\n",
    "- Falta de Fonte dos Dados: Os dados no Kaggle não traziam a fonte da coleta, o que levanta preocupações sobre a validade e a representatividade dos dados. A ausência de informações sobre a origem dos dados pode afetar a confiabilidade do modelo treinado.\n",
    "\n",
    "## 1.2 Pontos Positivos\n",
    "- Identificação de Risco: Modelos de previsão podem identificar indivíduos com alto risco de desenvolver câncer de pulmão, permitindo intervenções preventivas e diagnósticos precoces, o que pode aumentar significativamente as chances de tratamento bem-sucedido.\n",
    "- Apoio ao Diagnóstico Médico: O modelo pode ajudar os médicos a rastrear rapidamente os pacientes e identificar aqueles em alto risco que necessitam de exames adicionais. Isso pode ter um impacto significativo na intervenção precoce e no planejamento de tratamentos personalizados, melhorando os resultados de sobrevivência dos pacientes.\n",
    "- Eficiência no Tratamento: Com a capacidade de identificar casos de alto risco, o modelo permite que os profissionais de saúde priorizem e direcionem recursos de maneira mais eficaz, promovendo uma gestão mais eficiente e focada na prevenção e tratamento do câncer de pulmão.\n",
    "\n",
    "## 2 - Análise Exploratória de Dados"
   ]
  },
  {
   "cell_type": "code",
   "execution_count": 1,
   "id": "455a98f6",
   "metadata": {},
   "outputs": [
    {
     "name": "stderr",
     "output_type": "stream",
     "text": [
      "\n",
      "Anexando pacote: 'dplyr'\n",
      "\n",
      "\n",
      "Os seguintes objetos são mascarados por 'package:stats':\n",
      "\n",
      "    filter, lag\n",
      "\n",
      "\n",
      "Os seguintes objetos são mascarados por 'package:base':\n",
      "\n",
      "    intersect, setdiff, setequal, union\n",
      "\n",
      "\n"
     ]
    }
   ],
   "source": [
    "#Bibliotecas para EDA\n",
    "library(readr)\n",
    "library(dplyr)\n",
    "library(DescTools)"
   ]
  },
  {
   "cell_type": "code",
   "execution_count": 2,
   "id": "b1904506",
   "metadata": {},
   "outputs": [
    {
     "name": "stderr",
     "output_type": "stream",
     "text": [
      "\u001b[1mRows: \u001b[22m\u001b[34m309\u001b[39m \u001b[1mColumns: \u001b[22m\u001b[34m16\u001b[39m\n",
      "\u001b[36m──\u001b[39m \u001b[1mColumn specification\u001b[22m \u001b[36m────────────────────────────────────────────────────────────────────────────────────────────────\u001b[39m\n",
      "\u001b[1mDelimiter:\u001b[22m \",\"\n",
      "\u001b[31mchr\u001b[39m  (2): GENDER, LUNG_CANCER\n",
      "\u001b[32mdbl\u001b[39m (14): AGE, SMOKING, YELLOW_FINGERS, ANXIETY, PEER_PRESSURE, CHRONIC DISE...\n",
      "\n",
      "\u001b[36mℹ\u001b[39m Use `spec()` to retrieve the full column specification for this data.\n",
      "\u001b[36mℹ\u001b[39m Specify the column types or set `show_col_types = FALSE` to quiet this message.\n"
     ]
    }
   ],
   "source": [
    "#Carregando o dataset\n",
    "df_lung_cancer = read_csv('survey lung cancer.csv')"
   ]
  },
  {
   "cell_type": "code",
   "execution_count": 3,
   "id": "bb1a9068",
   "metadata": {},
   "outputs": [
    {
     "data": {
      "text/html": [
       "<table class=\"dataframe\">\n",
       "<caption>A tibble: 6 × 16</caption>\n",
       "<thead>\n",
       "\t<tr><th scope=col>GENDER</th><th scope=col>AGE</th><th scope=col>SMOKING</th><th scope=col>YELLOW_FINGERS</th><th scope=col>ANXIETY</th><th scope=col>PEER_PRESSURE</th><th scope=col>CHRONIC DISEASE</th><th scope=col>FATIGUE</th><th scope=col>ALLERGY</th><th scope=col>WHEEZING</th><th scope=col>ALCOHOL CONSUMING</th><th scope=col>COUGHING</th><th scope=col>SHORTNESS OF BREATH</th><th scope=col>SWALLOWING DIFFICULTY</th><th scope=col>CHEST PAIN</th><th scope=col>LUNG_CANCER</th></tr>\n",
       "\t<tr><th scope=col>&lt;chr&gt;</th><th scope=col>&lt;dbl&gt;</th><th scope=col>&lt;dbl&gt;</th><th scope=col>&lt;dbl&gt;</th><th scope=col>&lt;dbl&gt;</th><th scope=col>&lt;dbl&gt;</th><th scope=col>&lt;dbl&gt;</th><th scope=col>&lt;dbl&gt;</th><th scope=col>&lt;dbl&gt;</th><th scope=col>&lt;dbl&gt;</th><th scope=col>&lt;dbl&gt;</th><th scope=col>&lt;dbl&gt;</th><th scope=col>&lt;dbl&gt;</th><th scope=col>&lt;dbl&gt;</th><th scope=col>&lt;dbl&gt;</th><th scope=col>&lt;chr&gt;</th></tr>\n",
       "</thead>\n",
       "<tbody>\n",
       "\t<tr><td>M</td><td>69</td><td>1</td><td>2</td><td>2</td><td>1</td><td>1</td><td>2</td><td>1</td><td>2</td><td>2</td><td>2</td><td>2</td><td>2</td><td>2</td><td>YES</td></tr>\n",
       "\t<tr><td>M</td><td>74</td><td>2</td><td>1</td><td>1</td><td>1</td><td>2</td><td>2</td><td>2</td><td>1</td><td>1</td><td>1</td><td>2</td><td>2</td><td>2</td><td>YES</td></tr>\n",
       "\t<tr><td>F</td><td>59</td><td>1</td><td>1</td><td>1</td><td>2</td><td>1</td><td>2</td><td>1</td><td>2</td><td>1</td><td>2</td><td>2</td><td>1</td><td>2</td><td>NO </td></tr>\n",
       "\t<tr><td>M</td><td>63</td><td>2</td><td>2</td><td>2</td><td>1</td><td>1</td><td>1</td><td>1</td><td>1</td><td>2</td><td>1</td><td>1</td><td>2</td><td>2</td><td>NO </td></tr>\n",
       "\t<tr><td>F</td><td>63</td><td>1</td><td>2</td><td>1</td><td>1</td><td>1</td><td>1</td><td>1</td><td>2</td><td>1</td><td>2</td><td>2</td><td>1</td><td>1</td><td>NO </td></tr>\n",
       "\t<tr><td>F</td><td>75</td><td>1</td><td>2</td><td>1</td><td>1</td><td>2</td><td>2</td><td>2</td><td>2</td><td>1</td><td>2</td><td>2</td><td>1</td><td>1</td><td>YES</td></tr>\n",
       "</tbody>\n",
       "</table>\n"
      ],
      "text/latex": [
       "A tibble: 6 × 16\n",
       "\\begin{tabular}{llllllllllllllll}\n",
       " GENDER & AGE & SMOKING & YELLOW\\_FINGERS & ANXIETY & PEER\\_PRESSURE & CHRONIC DISEASE & FATIGUE & ALLERGY & WHEEZING & ALCOHOL CONSUMING & COUGHING & SHORTNESS OF BREATH & SWALLOWING DIFFICULTY & CHEST PAIN & LUNG\\_CANCER\\\\\n",
       " <chr> & <dbl> & <dbl> & <dbl> & <dbl> & <dbl> & <dbl> & <dbl> & <dbl> & <dbl> & <dbl> & <dbl> & <dbl> & <dbl> & <dbl> & <chr>\\\\\n",
       "\\hline\n",
       "\t M & 69 & 1 & 2 & 2 & 1 & 1 & 2 & 1 & 2 & 2 & 2 & 2 & 2 & 2 & YES\\\\\n",
       "\t M & 74 & 2 & 1 & 1 & 1 & 2 & 2 & 2 & 1 & 1 & 1 & 2 & 2 & 2 & YES\\\\\n",
       "\t F & 59 & 1 & 1 & 1 & 2 & 1 & 2 & 1 & 2 & 1 & 2 & 2 & 1 & 2 & NO \\\\\n",
       "\t M & 63 & 2 & 2 & 2 & 1 & 1 & 1 & 1 & 1 & 2 & 1 & 1 & 2 & 2 & NO \\\\\n",
       "\t F & 63 & 1 & 2 & 1 & 1 & 1 & 1 & 1 & 2 & 1 & 2 & 2 & 1 & 1 & NO \\\\\n",
       "\t F & 75 & 1 & 2 & 1 & 1 & 2 & 2 & 2 & 2 & 1 & 2 & 2 & 1 & 1 & YES\\\\\n",
       "\\end{tabular}\n"
      ],
      "text/markdown": [
       "\n",
       "A tibble: 6 × 16\n",
       "\n",
       "| GENDER &lt;chr&gt; | AGE &lt;dbl&gt; | SMOKING &lt;dbl&gt; | YELLOW_FINGERS &lt;dbl&gt; | ANXIETY &lt;dbl&gt; | PEER_PRESSURE &lt;dbl&gt; | CHRONIC DISEASE &lt;dbl&gt; | FATIGUE &lt;dbl&gt; | ALLERGY &lt;dbl&gt; | WHEEZING &lt;dbl&gt; | ALCOHOL CONSUMING &lt;dbl&gt; | COUGHING &lt;dbl&gt; | SHORTNESS OF BREATH &lt;dbl&gt; | SWALLOWING DIFFICULTY &lt;dbl&gt; | CHEST PAIN &lt;dbl&gt; | LUNG_CANCER &lt;chr&gt; |\n",
       "|---|---|---|---|---|---|---|---|---|---|---|---|---|---|---|---|\n",
       "| M | 69 | 1 | 2 | 2 | 1 | 1 | 2 | 1 | 2 | 2 | 2 | 2 | 2 | 2 | YES |\n",
       "| M | 74 | 2 | 1 | 1 | 1 | 2 | 2 | 2 | 1 | 1 | 1 | 2 | 2 | 2 | YES |\n",
       "| F | 59 | 1 | 1 | 1 | 2 | 1 | 2 | 1 | 2 | 1 | 2 | 2 | 1 | 2 | NO  |\n",
       "| M | 63 | 2 | 2 | 2 | 1 | 1 | 1 | 1 | 1 | 2 | 1 | 1 | 2 | 2 | NO  |\n",
       "| F | 63 | 1 | 2 | 1 | 1 | 1 | 1 | 1 | 2 | 1 | 2 | 2 | 1 | 1 | NO  |\n",
       "| F | 75 | 1 | 2 | 1 | 1 | 2 | 2 | 2 | 2 | 1 | 2 | 2 | 1 | 1 | YES |\n",
       "\n"
      ],
      "text/plain": [
       "  GENDER AGE SMOKING YELLOW_FINGERS ANXIETY PEER_PRESSURE CHRONIC DISEASE\n",
       "1 M      69  1       2              2       1             1              \n",
       "2 M      74  2       1              1       1             2              \n",
       "3 F      59  1       1              1       2             1              \n",
       "4 M      63  2       2              2       1             1              \n",
       "5 F      63  1       2              1       1             1              \n",
       "6 F      75  1       2              1       1             2              \n",
       "  FATIGUE ALLERGY WHEEZING ALCOHOL CONSUMING COUGHING SHORTNESS OF BREATH\n",
       "1 2       1       2        2                 2        2                  \n",
       "2 2       2       1        1                 1        2                  \n",
       "3 2       1       2        1                 2        2                  \n",
       "4 1       1       1        2                 1        1                  \n",
       "5 1       1       2        1                 2        2                  \n",
       "6 2       2       2        1                 2        2                  \n",
       "  SWALLOWING DIFFICULTY CHEST PAIN LUNG_CANCER\n",
       "1 2                     2          YES        \n",
       "2 2                     2          YES        \n",
       "3 1                     2          NO         \n",
       "4 2                     2          NO         \n",
       "5 1                     1          NO         \n",
       "6 1                     1          YES        "
      ]
     },
     "metadata": {},
     "output_type": "display_data"
    }
   ],
   "source": [
    "#Visualizando os dados\n",
    "head(df_lung_cancer)"
   ]
  },
  {
   "cell_type": "code",
   "execution_count": 4,
   "id": "58647f97",
   "metadata": {},
   "outputs": [
    {
     "name": "stdout",
     "output_type": "stream",
     "text": [
      "Rows: 309\n",
      "Columns: 16\n",
      "$ GENDER                  \u001b[3m\u001b[90m<chr>\u001b[39m\u001b[23m \"M\", \"M\", \"F\", \"M\", \"F\", \"F\", \"M\", \"F\", \"F\", \"…\n",
      "$ AGE                     \u001b[3m\u001b[90m<dbl>\u001b[39m\u001b[23m 69, 74, 59, 63, 63, 75, 52, 51, 68, 53, 61, 72…\n",
      "$ SMOKING                 \u001b[3m\u001b[90m<dbl>\u001b[39m\u001b[23m 1, 2, 1, 2, 1, 1, 2, 2, 2, 2, 2, 1, 2, 2, 2, 1…\n",
      "$ YELLOW_FINGERS          \u001b[3m\u001b[90m<dbl>\u001b[39m\u001b[23m 2, 1, 1, 2, 2, 2, 1, 2, 1, 2, 2, 1, 1, 1, 1, 2…\n",
      "$ ANXIETY                 \u001b[3m\u001b[90m<dbl>\u001b[39m\u001b[23m 2, 1, 1, 2, 1, 1, 1, 2, 2, 2, 2, 1, 1, 1, 1, 2…\n",
      "$ PEER_PRESSURE           \u001b[3m\u001b[90m<dbl>\u001b[39m\u001b[23m 1, 1, 2, 1, 1, 1, 1, 2, 1, 2, 2, 1, 1, 1, 1, 2…\n",
      "$ `CHRONIC DISEASE`       \u001b[3m\u001b[90m<dbl>\u001b[39m\u001b[23m 1, 2, 1, 1, 1, 2, 1, 1, 1, 2, 2, 2, 1, 1, 1, 2…\n",
      "$ FATIGUE                 \u001b[3m\u001b[90m<dbl>\u001b[39m\u001b[23m 2, 2, 2, 1, 1, 2, 2, 2, 2, 1, 2, 2, 2, 2, 1, 2…\n",
      "$ ALLERGY                 \u001b[3m\u001b[90m<dbl>\u001b[39m\u001b[23m 1, 2, 1, 1, 1, 2, 1, 2, 1, 2, 1, 2, 1, 2, 2, 2…\n",
      "$ WHEEZING                \u001b[3m\u001b[90m<dbl>\u001b[39m\u001b[23m 2, 1, 2, 1, 2, 2, 2, 1, 1, 1, 2, 2, 1, 2, 2, 2…\n",
      "$ `ALCOHOL CONSUMING`     \u001b[3m\u001b[90m<dbl>\u001b[39m\u001b[23m 2, 1, 1, 2, 1, 1, 2, 1, 1, 2, 1, 2, 1, 2, 2, 1…\n",
      "$ COUGHING                \u001b[3m\u001b[90m<dbl>\u001b[39m\u001b[23m 2, 1, 2, 1, 2, 2, 2, 1, 1, 1, 2, 2, 1, 2, 2, 2…\n",
      "$ `SHORTNESS OF BREATH`   \u001b[3m\u001b[90m<dbl>\u001b[39m\u001b[23m 2, 2, 2, 1, 2, 2, 2, 2, 1, 1, 2, 2, 2, 2, 1, 2…\n",
      "$ `SWALLOWING DIFFICULTY` \u001b[3m\u001b[90m<dbl>\u001b[39m\u001b[23m 2, 2, 1, 2, 1, 1, 1, 2, 1, 2, 2, 1, 1, 1, 1, 2…\n",
      "$ `CHEST PAIN`            \u001b[3m\u001b[90m<dbl>\u001b[39m\u001b[23m 2, 2, 2, 2, 1, 1, 2, 1, 1, 2, 1, 2, 1, 2, 2, 1…\n",
      "$ LUNG_CANCER             \u001b[3m\u001b[90m<chr>\u001b[39m\u001b[23m \"YES\", \"YES\", \"NO\", \"NO\", \"NO\", \"YES\", \"YES\", …\n"
     ]
    }
   ],
   "source": [
    "# Verificando a estrutura dos dados com o pacote dplyr\n",
    "glimpse(df_lung_cancer)"
   ]
  },
  {
   "cell_type": "code",
   "execution_count": 5,
   "id": "25d09498",
   "metadata": {},
   "outputs": [
    {
     "data": {
      "text/html": [
       "<style>\n",
       ".list-inline {list-style: none; margin:0; padding: 0}\n",
       ".list-inline>li {display: inline-block}\n",
       ".list-inline>li:not(:last-child)::after {content: \"\\00b7\"; padding: 0 .5ex}\n",
       "</style>\n",
       "<ol class=list-inline><li>309</li><li>16</li></ol>\n"
      ],
      "text/latex": [
       "\\begin{enumerate*}\n",
       "\\item 309\n",
       "\\item 16\n",
       "\\end{enumerate*}\n"
      ],
      "text/markdown": [
       "1. 309\n",
       "2. 16\n",
       "\n",
       "\n"
      ],
      "text/plain": [
       "[1] 309  16"
      ]
     },
     "metadata": {},
     "output_type": "display_data"
    }
   ],
   "source": [
    "#Verificando as dimensões: linhas e colunas \n",
    "dim(df_lung_cancer)"
   ]
  },
  {
   "cell_type": "code",
   "execution_count": 6,
   "id": "2d0a8ae2",
   "metadata": {},
   "outputs": [
    {
     "data": {
      "text/html": [
       "<table class=\"dataframe\">\n",
       "<caption>A data.frame: 16 × 1</caption>\n",
       "<thead>\n",
       "\t<tr><th></th><th scope=col>colSums.is.na.df_lung_cancer..</th></tr>\n",
       "\t<tr><th></th><th scope=col>&lt;dbl&gt;</th></tr>\n",
       "</thead>\n",
       "<tbody>\n",
       "\t<tr><th scope=row>GENDER</th><td>0</td></tr>\n",
       "\t<tr><th scope=row>AGE</th><td>0</td></tr>\n",
       "\t<tr><th scope=row>SMOKING</th><td>0</td></tr>\n",
       "\t<tr><th scope=row>YELLOW_FINGERS</th><td>0</td></tr>\n",
       "\t<tr><th scope=row>ANXIETY</th><td>0</td></tr>\n",
       "\t<tr><th scope=row>PEER_PRESSURE</th><td>0</td></tr>\n",
       "\t<tr><th scope=row>CHRONIC DISEASE</th><td>0</td></tr>\n",
       "\t<tr><th scope=row>FATIGUE</th><td>0</td></tr>\n",
       "\t<tr><th scope=row>ALLERGY</th><td>0</td></tr>\n",
       "\t<tr><th scope=row>WHEEZING</th><td>0</td></tr>\n",
       "\t<tr><th scope=row>ALCOHOL CONSUMING</th><td>0</td></tr>\n",
       "\t<tr><th scope=row>COUGHING</th><td>0</td></tr>\n",
       "\t<tr><th scope=row>SHORTNESS OF BREATH</th><td>0</td></tr>\n",
       "\t<tr><th scope=row>SWALLOWING DIFFICULTY</th><td>0</td></tr>\n",
       "\t<tr><th scope=row>CHEST PAIN</th><td>0</td></tr>\n",
       "\t<tr><th scope=row>LUNG_CANCER</th><td>0</td></tr>\n",
       "</tbody>\n",
       "</table>\n"
      ],
      "text/latex": [
       "A data.frame: 16 × 1\n",
       "\\begin{tabular}{r|l}\n",
       "  & colSums.is.na.df\\_lung\\_cancer..\\\\\n",
       "  & <dbl>\\\\\n",
       "\\hline\n",
       "\tGENDER & 0\\\\\n",
       "\tAGE & 0\\\\\n",
       "\tSMOKING & 0\\\\\n",
       "\tYELLOW\\_FINGERS & 0\\\\\n",
       "\tANXIETY & 0\\\\\n",
       "\tPEER\\_PRESSURE & 0\\\\\n",
       "\tCHRONIC DISEASE & 0\\\\\n",
       "\tFATIGUE & 0\\\\\n",
       "\tALLERGY & 0\\\\\n",
       "\tWHEEZING & 0\\\\\n",
       "\tALCOHOL CONSUMING & 0\\\\\n",
       "\tCOUGHING & 0\\\\\n",
       "\tSHORTNESS OF BREATH & 0\\\\\n",
       "\tSWALLOWING DIFFICULTY & 0\\\\\n",
       "\tCHEST PAIN & 0\\\\\n",
       "\tLUNG\\_CANCER & 0\\\\\n",
       "\\end{tabular}\n"
      ],
      "text/markdown": [
       "\n",
       "A data.frame: 16 × 1\n",
       "\n",
       "| <!--/--> | colSums.is.na.df_lung_cancer.. &lt;dbl&gt; |\n",
       "|---|---|\n",
       "| GENDER | 0 |\n",
       "| AGE | 0 |\n",
       "| SMOKING | 0 |\n",
       "| YELLOW_FINGERS | 0 |\n",
       "| ANXIETY | 0 |\n",
       "| PEER_PRESSURE | 0 |\n",
       "| CHRONIC DISEASE | 0 |\n",
       "| FATIGUE | 0 |\n",
       "| ALLERGY | 0 |\n",
       "| WHEEZING | 0 |\n",
       "| ALCOHOL CONSUMING | 0 |\n",
       "| COUGHING | 0 |\n",
       "| SHORTNESS OF BREATH | 0 |\n",
       "| SWALLOWING DIFFICULTY | 0 |\n",
       "| CHEST PAIN | 0 |\n",
       "| LUNG_CANCER | 0 |\n",
       "\n"
      ],
      "text/plain": [
       "                      colSums.is.na.df_lung_cancer..\n",
       "GENDER                0                             \n",
       "AGE                   0                             \n",
       "SMOKING               0                             \n",
       "YELLOW_FINGERS        0                             \n",
       "ANXIETY               0                             \n",
       "PEER_PRESSURE         0                             \n",
       "CHRONIC DISEASE       0                             \n",
       "FATIGUE               0                             \n",
       "ALLERGY               0                             \n",
       "WHEEZING              0                             \n",
       "ALCOHOL CONSUMING     0                             \n",
       "COUGHING              0                             \n",
       "SHORTNESS OF BREATH   0                             \n",
       "SWALLOWING DIFFICULTY 0                             \n",
       "CHEST PAIN            0                             \n",
       "LUNG_CANCER           0                             "
      ]
     },
     "metadata": {},
     "output_type": "display_data"
    }
   ],
   "source": [
    "#Verificando valores nulos em valores absolutos:\n",
    "data.frame(colSums(is.na(df_lung_cancer)))"
   ]
  },
  {
   "cell_type": "markdown",
   "id": "7bff799a",
   "metadata": {},
   "source": [
    "### Dicionário dos Dados\n",
    "\n",
    "- **gênero:** m(masculino), f(feminino)\n",
    "- **idade:** idade do paciente\n",
    "- **fumante:** sim=2, não=1\n",
    "- **dedos amarelados:** sim=2, não=1\n",
    "- **ansiedade:** sim=2, não=1\n",
    "- **pressão dos colegas:** sim=2, não=1\n",
    "- **doença crônica:** sim=2, não=1\n",
    "- **fadiga:** sim=2, não=1\n",
    "- **alergia:** sim=2, não=1\n",
    "- **chiado:** sim=2, não=1\n",
    "- **álcool:** sim=2, não=1\n",
    "- **tosse:** sim=2, não=1\n",
    "- **falta de ar:** sim=2, não=1\n",
    "- **dificuldade para engolir:** sim=2, não=1\n",
    "- **dor no peito:** sim=2, não=1\n",
    "- **câncer de pulmão:** sim, não\n",
    "\n",
    "## 2.1 - Análise exploratória univariada\n",
    "\n",
    "### 'LUNG_CANCER'"
   ]
  },
  {
   "cell_type": "code",
   "execution_count": 7,
   "id": "2b0ba36a",
   "metadata": {},
   "outputs": [
    {
     "data": {
      "text/plain": [
       "\n",
       " NO YES \n",
       " 39 270 "
      ]
     },
     "metadata": {},
     "output_type": "display_data"
    }
   ],
   "source": [
    "#Verificando a frequência para cada valor único na coluna \n",
    "table(df_lung_cancer$LUNG_CANCER)"
   ]
  },
  {
   "cell_type": "markdown",
   "id": "4aa5175e",
   "metadata": {},
   "source": [
    "- **Há um desbalanceamento significativo entre as classes, com muito mais indivíduos com câncer de pulmão do que sem.**"
   ]
  },
  {
   "cell_type": "markdown",
   "id": "90894038",
   "metadata": {},
   "source": [
    "### 'GENDER'"
   ]
  },
  {
   "cell_type": "code",
   "execution_count": 8,
   "id": "0f5389d5",
   "metadata": {},
   "outputs": [
    {
     "data": {
      "text/plain": [
       "\n",
       "  F   M \n",
       "147 162 "
      ]
     },
     "metadata": {},
     "output_type": "display_data"
    }
   ],
   "source": [
    "#Verificando a frequência para cada valor único na coluna \n",
    "table(df_lung_cancer$GENDER)"
   ]
  },
  {
   "cell_type": "code",
   "execution_count": 9,
   "id": "63405c2f",
   "metadata": {},
   "outputs": [
    {
     "data": {
      "image/png": "[encoded data removed]",
      "text/plain": [
       "Plot with title \"Gráfico de Barras da Coluna Gênero\""
      ]
     },
     "metadata": {
      "image/png": {
       "height": 420,
       "width": 420
      }
     },
     "output_type": "display_data"
    }
   ],
   "source": [
    "# Criando o gráfico de barras com as frequencias\n",
    "barplot(table(df_lung_cancer$GENDER), \n",
    "        main = 'Gráfico de Barras da Coluna Gênero',\n",
    "        xlab = 'Gênero', \n",
    "        ylab = 'Contagem', \n",
    "        col = 'palegreen',\n",
    "        cex.axis = 1.4, \n",
    "        cex.lab = 1.4,\n",
    "        cex.names = 1.17)"
   ]
  },
  {
   "cell_type": "code",
   "execution_count": 10,
   "id": "6700ca7d",
   "metadata": {},
   "outputs": [
    {
     "data": {
      "text/plain": [
       "   \n",
       "     NO YES\n",
       "  F  22 125\n",
       "  M  17 145"
      ]
     },
     "metadata": {},
     "output_type": "display_data"
    }
   ],
   "source": [
    "# Criando a tabela de contingência entre GENDER e a coluna target\n",
    "table(df_lung_cancer$GENDER, df_lung_cancer$LUNG_CANCER) "
   ]
  },
  {
   "cell_type": "markdown",
   "id": "600f23ea",
   "metadata": {},
   "source": [
    "- A tabela mostra que tanto homens quanto mulheres apresentam uma distribuição uniforme em relação à presença de câncer de pulmão.\n",
    "\n",
    "### 'AGE'\t"
   ]
  },
  {
   "cell_type": "code",
   "execution_count": 11,
   "id": "84df8511",
   "metadata": {},
   "outputs": [
    {
     "data": {
      "text/plain": [
       "   Min. 1st Qu.  Median    Mean 3rd Qu.    Max. \n",
       "  21.00   57.00   62.00   62.67   69.00   87.00 "
      ]
     },
     "metadata": {},
     "output_type": "display_data"
    }
   ],
   "source": [
    "#Verificando as estatísticas da coluna ge\n",
    "summary(df_lung_cancer$AGE)"
   ]
  },
  {
   "cell_type": "code",
   "execution_count": 12,
   "id": "19f7699b",
   "metadata": {},
   "outputs": [
    {
     "data": {
      "text/html": [
       "64"
      ],
      "text/latex": [
       "64"
      ],
      "text/markdown": [
       "64"
      ],
      "text/plain": [
       "[1] 64\n",
       "attr(,\"freq\")\n",
       "[1] 20"
      ]
     },
     "metadata": {},
     "output_type": "display_data"
    }
   ],
   "source": [
    "# Utilizando a biblioteca DescTools para calcular a moda \n",
    "Mode(df_lung_cancer$AGE)"
   ]
  },
  {
   "cell_type": "code",
   "execution_count": 13,
   "id": "a43dfd48",
   "metadata": {},
   "outputs": [
    {
     "data": {
      "image/png": "[encoded data removed]",
      "text/plain": [
       "Plot with title \"Histogram of df_lung_cancer$AGE\""
      ]
     },
     "metadata": {
      "image/png": {
       "height": 420,
       "width": 420
      }
     },
     "output_type": "display_data"
    }
   ],
   "source": [
    "hist(df_lung_cancer$AGE)"
   ]
  },
  {
   "cell_type": "code",
   "execution_count": 14,
   "id": "bfae809a",
   "metadata": {},
   "outputs": [
    {
     "data": {
      "image/png": "[encoded data removed]",
      "text/plain": [
       "plot without title"
      ]
     },
     "metadata": {
      "image/png": {
       "height": 420,
       "width": 420
      }
     },
     "output_type": "display_data"
    }
   ],
   "source": [
    "boxplot(df_lung_cancer$AGE,horizontal =TRUE)"
   ]
  },
  {
   "cell_type": "markdown",
   "id": "db3015c4",
   "metadata": {},
   "source": [
    "- A análise da idade dos pacientes com câncer de pulmão no conjunto de dados revela que a maioria dos pacientes está na faixa etária de 50 a 70 anos, com uma distribuição aproximadamente simétrica. A mediana e a média são quase iguais, e a presença de poucos outliers sugere que a idade dos pacientes é bastante homogênea, sem grandes variações extremas.\n",
    "- A distribuição tem uma cauda curta à esquerda (menos pacientes com idades abaixo de 50 anos) e à direita (menos pacientes com idades acima de 80 anos).\n",
    "- Há alguns outliers identificados abaixo de 40 anos.\n",
    "- A idade mínima dos pacientes é 21 anos e a máxima é 87 anos.\n",
    "- A idade mais comum é 64 anos. \n",
    "- **Vamos realizar um teste t para verificar se há uma diferença significativa na média da idade dos pacientes em relação ao diagnóstico de câncer de pulmão**"
   ]
  },
  {
   "cell_type": "code",
   "execution_count": 15,
   "id": "c4b1a2b2",
   "metadata": {},
   "outputs": [],
   "source": [
    "# Dividindo os dados em dois grupos: com e sem câncer de pulmão\n",
    "idade_com_cancer <- df_lung_cancer$AGE[df_lung_cancer$LUNG_CANCER == \"YES\"]\n",
    "idade_sem_cancer <- df_lung_cancer$AGE[df_lung_cancer$LUNG_CANCER == \"NO\"]"
   ]
  },
  {
   "cell_type": "code",
   "execution_count": 16,
   "id": "56af7fd8",
   "metadata": {},
   "outputs": [
    {
     "data": {
      "text/plain": [
       "\n",
       "\tShapiro-Wilk normality test\n",
       "\n",
       "data:  idade_sem_cancer\n",
       "W = 0.83382, p-value = 4.535e-05\n"
      ]
     },
     "metadata": {},
     "output_type": "display_data"
    }
   ],
   "source": [
    "# Teste de normalidade de Shapiro-Wilk para o grupo sem câncer de pulmão\n",
    "shapiro.test(idade_sem_cancer)"
   ]
  },
  {
   "cell_type": "code",
   "execution_count": 17,
   "id": "4dc24f30",
   "metadata": {},
   "outputs": [
    {
     "data": {
      "text/plain": [
       "\n",
       "\tShapiro-Wilk normality test\n",
       "\n",
       "data:  idade_com_cancer\n",
       "W = 0.98997, p-value = 0.0599\n"
      ]
     },
     "metadata": {},
     "output_type": "display_data"
    }
   ],
   "source": [
    "# Teste de normalidade de Shapiro-Wilk para o grupo com câncer de pulmão\n",
    "shapiro.test(idade_com_cancer)"
   ]
  },
  {
   "cell_type": "markdown",
   "id": "b68f053f",
   "metadata": {},
   "source": [
    "- O valor-p  do grupo sem câncer for menor que 0.05, portanto, rejeitamos a hipótese nula e concluímos que os dados não são normalmente distribuídos.\n",
    "- Como os dados não seguem uma distribuição normal, vamos utilizar o teste de Mann-Whitney U (também conhecido como teste de Wilcoxon rank-sum) em vez do teste t.\n",
    "    - Hipótese Nula (H0):Não há diferença significativa entre as distribuições das idades dos dois grupos (com e sem câncer de pulmão).\n",
    "    - Hipótese Alternativa (H1):Há uma diferença significativa entre as distribuições das idades dos dois grupos (com e sem câncer de pulmão)."
   ]
  },
  {
   "cell_type": "code",
   "execution_count": 18,
   "id": "edcc61c2",
   "metadata": {},
   "outputs": [
    {
     "data": {
      "text/plain": [
       "\n",
       "\tWilcoxon rank sum test with continuity correction\n",
       "\n",
       "data:  idade_com_cancer and idade_sem_cancer\n",
       "W = 5960.5, p-value = 0.1823\n",
       "alternative hypothesis: true location shift is not equal to 0\n"
      ]
     },
     "metadata": {},
     "output_type": "display_data"
    }
   ],
   "source": [
    "# Realizando o teste de Mann-Whitney U\n",
    "wilcox.test(idade_com_cancer, idade_sem_cancer)"
   ]
  },
  {
   "cell_type": "markdown",
   "id": "d44eff45",
   "metadata": {},
   "source": [
    "- Como o valor-p é maior que o nível de significância comum de 0.05, falhamos em rejeitar a hipótese nula. Desta forma, não há evidência suficiente para afirmar que há uma diferença significativa entre as idades dos pacientes com câncer de pulmão e os pacientes sem câncer de pulmão. **Portanto, as idades dos pacientes não diferem significativamente entre os dois grupos de acordo com os dados disponíveis.**\n",
    "\n",
    "### 'SMOKING'"
   ]
  },
  {
   "cell_type": "code",
   "execution_count": 19,
   "id": "4f765eb8",
   "metadata": {},
   "outputs": [
    {
     "data": {
      "text/plain": [
       "\n",
       "  1   2 \n",
       "135 174 "
      ]
     },
     "metadata": {},
     "output_type": "display_data"
    }
   ],
   "source": [
    "#Verificando a frequência para cada valor único na coluna \n",
    "table(df_lung_cancer$SMOKING)"
   ]
  },
  {
   "cell_type": "code",
   "execution_count": 20,
   "id": "38001dad",
   "metadata": {},
   "outputs": [
    {
     "data": {
      "image/png": "[encoded data removed]",
      "text/plain": [
       "Plot with title \"Gráfico de Barras da Coluna Fumante\""
      ]
     },
     "metadata": {
      "image/png": {
       "height": 420,
       "width": 420
      }
     },
     "output_type": "display_data"
    }
   ],
   "source": [
    "# Criando o gráfico de barras com as frequencias\n",
    "barplot(table(df_lung_cancer$SMOKING), \n",
    "        main = 'Gráfico de Barras da Coluna Fumante',\n",
    "        xlab = 'Fumante', \n",
    "        ylab = 'Contagem', \n",
    "        col = 'palegreen',\n",
    "        cex.axis = 1.4, \n",
    "        cex.lab = 1.4,\n",
    "        cex.names = 1.17)"
   ]
  },
  {
   "cell_type": "code",
   "execution_count": 21,
   "id": "e003bc9e",
   "metadata": {},
   "outputs": [
    {
     "data": {
      "text/plain": [
       "   \n",
       "     NO YES\n",
       "  1  20 115\n",
       "  2  19 155"
      ]
     },
     "metadata": {},
     "output_type": "display_data"
    }
   ],
   "source": [
    "# Criando a tabela de contingência entre Smoking e a coluna target\n",
    "table(df_lung_cancer$SMOKING, df_lung_cancer$LUNG_CANCER) "
   ]
  },
  {
   "cell_type": "markdown",
   "id": "8dea4b00",
   "metadata": {},
   "source": [
    "- A maioria dos indivíduos no conjunto de dados são fumantes\n",
    "- A análise mostra que tanto fumantes quanto não fumantes têm uma alta incidência de câncer de pulmão no conjunto de dados, com uma ligeira tendência de maior incidência entre fumantes  em comparação com não fumantes. No entanto, é importante considerar outros fatores de risco e variáveis que podem influenciar a presença de câncer de pulmão para uma análise mais abrangente.\n",
    "- **Também é importante considerar que a maior parte dos dados se refere a pacientes já diagnosticados com câncer e que podem ter parado de fumar justamente por conta do diagnóstico. Este fator pode influenciar a análise já que não temos uma variável com histórico de fumo dos pacientes**\n",
    "- Além disso, o tabagismo é um fator de risco primário para o desenvolvimento do câncer de pulmão.\n",
    "\n",
    "### 'YELLOW_FINGERS'"
   ]
  },
  {
   "cell_type": "code",
   "execution_count": 22,
   "id": "2e0f376f",
   "metadata": {},
   "outputs": [
    {
     "data": {
      "text/plain": [
       "\n",
       "  1   2 \n",
       "133 176 "
      ]
     },
     "metadata": {},
     "output_type": "display_data"
    }
   ],
   "source": [
    "#Verificando a frequência para cada valor único na coluna \n",
    "table(df_lung_cancer$YELLOW_FINGERS)"
   ]
  },
  {
   "cell_type": "code",
   "execution_count": 23,
   "id": "a93d02c3",
   "metadata": {},
   "outputs": [
    {
     "data": {
      "image/png": "[encoded data removed]",
      "text/plain": [
       "Plot with title \"Gráfico de Barras da Coluna Dedos amarelos\""
      ]
     },
     "metadata": {
      "image/png": {
       "height": 420,
       "width": 420
      }
     },
     "output_type": "display_data"
    }
   ],
   "source": [
    "# Criando o gráfico de barras com as frequencias\n",
    "barplot(table(df_lung_cancer$YELLOW_FINGERS), \n",
    "        main = 'Gráfico de Barras da Coluna Dedos amarelos',\n",
    "        xlab = 'Dedos amarelos', \n",
    "        ylab = 'Contagem', \n",
    "        col = 'palegreen',\n",
    "        cex.axis = 1.4, \n",
    "        cex.lab = 1.4,\n",
    "        cex.names = 1.17)"
   ]
  },
  {
   "cell_type": "code",
   "execution_count": 24,
   "id": "2794b498",
   "metadata": {},
   "outputs": [
    {
     "data": {
      "text/plain": [
       "   \n",
       "     NO YES\n",
       "  1  26 107\n",
       "  2  13 163"
      ]
     },
     "metadata": {},
     "output_type": "display_data"
    }
   ],
   "source": [
    "# Criando a tabela de contingência entre YELLOW_FINGERS e a coluna target\n",
    "table(df_lung_cancer$YELLOW_FINGERS, df_lung_cancer$LUNG_CANCER) "
   ]
  },
  {
   "cell_type": "markdown",
   "id": "0d4c43af",
   "metadata": {},
   "source": [
    "- Um dos sinais visíveis dos efeitos do cigarro sobre a pele é o surgimento de manchas amareladas, especialmente nas pontas dos dedos. O contato da nicotina, aliado ao calor do cigarro, faz com que as unhas também fiquem impregnadas com a substância, resultando na coloração amarelada.\n",
    "- A maioria dos indivíduos no conjunto de dados tem dedos amarelos (57%)\n",
    "- A análise mostra que a presença de dedos amarelos está fortemente associada à presença de câncer de pulmão. Indivíduos com dedos amarelos têm uma maior incidência de câncer de pulmão em comparação com aqueles sem dedos amarelos em nosso dataset.\n",
    "\n",
    "### 'ANXIETY'"
   ]
  },
  {
   "cell_type": "code",
   "execution_count": 25,
   "id": "dcce1009",
   "metadata": {},
   "outputs": [
    {
     "data": {
      "text/plain": [
       "\n",
       "  1   2 \n",
       "155 154 "
      ]
     },
     "metadata": {},
     "output_type": "display_data"
    }
   ],
   "source": [
    "#Verificando a frequência para cada valor único na coluna \n",
    "table(df_lung_cancer$ANXIETY)"
   ]
  },
  {
   "cell_type": "code",
   "execution_count": 26,
   "id": "66cd1454",
   "metadata": {},
   "outputs": [
    {
     "data": {
      "image/png": "[encoded data removed]",
      "text/plain": [
       "Plot with title \"Gráfico de Barras da Coluna Ansiedade\""
      ]
     },
     "metadata": {
      "image/png": {
       "height": 420,
       "width": 420
      }
     },
     "output_type": "display_data"
    }
   ],
   "source": [
    "# Criando o gráfico de barras com as frequencias\n",
    "barplot(table(df_lung_cancer$ANXIETY), \n",
    "        main = 'Gráfico de Barras da Coluna Ansiedade',\n",
    "        xlab = 'Ansiedade', \n",
    "        ylab = 'Contagem', \n",
    "        col = 'palegreen',\n",
    "        cex.axis = 1.4, \n",
    "        cex.lab = 1.4,\n",
    "        cex.names = 1.17)"
   ]
  },
  {
   "cell_type": "code",
   "execution_count": 27,
   "id": "1fede640",
   "metadata": {},
   "outputs": [
    {
     "data": {
      "text/plain": [
       "   \n",
       "     NO YES\n",
       "  1  27 128\n",
       "  2  12 142"
      ]
     },
     "metadata": {},
     "output_type": "display_data"
    }
   ],
   "source": [
    "# Criando a tabela de contingência entre ANXIETY e a coluna target\n",
    "table(df_lung_cancer$ANXIETY, df_lung_cancer$LUNG_CANCER) "
   ]
  },
  {
   "cell_type": "markdown",
   "id": "49d28762",
   "metadata": {},
   "source": [
    "- A distribuição entre indivíduos com e sem ansiedade é quase igual.\n",
    "- A análise mostra que a presença de ansiedade está associada a uma maior incidência de câncer de pulmão. \n",
    "- Estudos indicam que fumantes frequentemente apresentam índices consideráveis de ansiedade e depressão, utilizando o cigarro como uma estratégia de fuga dessas condições. Adicionalmente, pesquisas sugerem uma relação entre a existência de transtornos mentais prévios, especialmente os de ansiedade e humor, e o tabagismo. **Desta forma, o diagnóstico de ansiedade não é diretamente um fator para o câncer de pulmão, mas está associado a um fator comum, que é o uso do cigarro.**\n",
    "\n",
    "### 'PEER_PRESSURE'"
   ]
  },
  {
   "cell_type": "code",
   "execution_count": 28,
   "id": "cc019236",
   "metadata": {},
   "outputs": [
    {
     "data": {
      "text/plain": [
       "\n",
       "  1   2 \n",
       "154 155 "
      ]
     },
     "metadata": {},
     "output_type": "display_data"
    }
   ],
   "source": [
    "#Verificando a frequência para cada valor único na coluna \n",
    "table(df_lung_cancer$PEER_PRESSURE)"
   ]
  },
  {
   "cell_type": "code",
   "execution_count": 29,
   "id": "f62b5adf",
   "metadata": {},
   "outputs": [
    {
     "data": {
      "image/png": "[encoded data removed]",
      "text/plain": [
       "Plot with title \"Gráfico de Barras da Coluna Pressão dos colegas\""
      ]
     },
     "metadata": {
      "image/png": {
       "height": 420,
       "width": 420
      }
     },
     "output_type": "display_data"
    }
   ],
   "source": [
    "# Criando o gráfico de barras com as frequencias\n",
    "barplot(table(df_lung_cancer$PEER_PRESSURE), \n",
    "        main = 'Gráfico de Barras da Coluna Pressão dos colegas',\n",
    "        xlab = 'Pressão dos colegas', \n",
    "        ylab = 'Contagem', \n",
    "        col = 'palegreen',\n",
    "        cex.axis = 1.4, \n",
    "        cex.lab = 1.4,\n",
    "        cex.names = 1.17)"
   ]
  },
  {
   "cell_type": "code",
   "execution_count": 30,
   "id": "59afddce",
   "metadata": {},
   "outputs": [
    {
     "data": {
      "text/plain": [
       "   \n",
       "     NO YES\n",
       "  1  29 125\n",
       "  2  10 145"
      ]
     },
     "metadata": {},
     "output_type": "display_data"
    }
   ],
   "source": [
    "# Criando a tabela de contingência entre PEER_PRESSURE e a coluna target\n",
    "table(df_lung_cancer$PEER_PRESSURE, df_lung_cancer$LUNG_CANCER) "
   ]
  },
  {
   "cell_type": "markdown",
   "id": "c4044d83",
   "metadata": {},
   "source": [
    "- A distribuição entre indivíduos que sofrem e não sofrem pressão dos colegas é praticamente igual.\n",
    "- A análise mostra que a presença de pressão dos pares está associada a uma maior incidência de câncer de pulmão. \n",
    "\n",
    "### 'CHRONIC DISEASE'"
   ]
  },
  {
   "cell_type": "code",
   "execution_count": 31,
   "id": "17952d61",
   "metadata": {},
   "outputs": [
    {
     "data": {
      "text/plain": [
       "\n",
       "  1   2 \n",
       "153 156 "
      ]
     },
     "metadata": {},
     "output_type": "display_data"
    }
   ],
   "source": [
    "#Verificando a frequência para cada valor único na coluna \n",
    "table(df_lung_cancer$`CHRONIC DISEASE`)"
   ]
  },
  {
   "cell_type": "code",
   "execution_count": 32,
   "id": "e8d25666",
   "metadata": {},
   "outputs": [
    {
     "data": {
      "image/png": "[encoded data removed]",
      "text/plain": [
       "Plot with title \"Gráfico de Barras da Coluna Doenças Crônicas\""
      ]
     },
     "metadata": {
      "image/png": {
       "height": 420,
       "width": 420
      }
     },
     "output_type": "display_data"
    }
   ],
   "source": [
    "# Criando o gráfico de barras com as frequencias\n",
    "barplot(table(df_lung_cancer$`CHRONIC DISEASE`), \n",
    "        main = 'Gráfico de Barras da Coluna Doenças Crônicas',\n",
    "        xlab = 'Doenças Crônicas', \n",
    "        ylab = 'Contagem', \n",
    "        col = 'palegreen',\n",
    "        cex.axis = 1.4, \n",
    "        cex.lab = 1.4,\n",
    "        cex.names = 1.17)"
   ]
  },
  {
   "cell_type": "code",
   "execution_count": 33,
   "id": "af37a963",
   "metadata": {},
   "outputs": [
    {
     "data": {
      "text/plain": [
       "   \n",
       "     NO YES\n",
       "  1  25 128\n",
       "  2  14 142"
      ]
     },
     "metadata": {},
     "output_type": "display_data"
    }
   ],
   "source": [
    "# Criando a tabela de contingência entre CHRONIC DISEASE e a coluna target\n",
    "table(df_lung_cancer$`CHRONIC DISEASE`, df_lung_cancer$LUNG_CANCER) "
   ]
  },
  {
   "cell_type": "markdown",
   "id": "7d36291d",
   "metadata": {},
   "source": [
    "- Há uma distribuição relativamente equilibrada entre os dois valores possíveis para \"CHRONIC DISEASE\" na amostra.\n",
    "- A análise mostra que a presença de doença crônica está associada a uma maior incidência de câncer de pulmão. Indivíduos com doenças crônicas têm uma maior probabilidade de ter câncer de pulmão em comparação com aqueles que não têm doenças crônicas em nosso dataset.\n",
    "\n",
    "### 'FATIGUE'"
   ]
  },
  {
   "cell_type": "code",
   "execution_count": 34,
   "id": "ed1bb0d1",
   "metadata": {},
   "outputs": [
    {
     "data": {
      "text/plain": [
       "\n",
       "  1   2 \n",
       "101 208 "
      ]
     },
     "metadata": {},
     "output_type": "display_data"
    }
   ],
   "source": [
    "#Verificando a frequência para cada valor único na coluna \n",
    "table(df_lung_cancer$FATIGUE)"
   ]
  },
  {
   "cell_type": "code",
   "execution_count": 35,
   "id": "193ede97",
   "metadata": {},
   "outputs": [
    {
     "data": {
      "image/png": "[encoded data removed]",
      "text/plain": [
       "Plot with title \"Gráfico de Barras da Coluna Fadiga\""
      ]
     },
     "metadata": {
      "image/png": {
       "height": 420,
       "width": 420
      }
     },
     "output_type": "display_data"
    }
   ],
   "source": [
    "# Criando o gráfico de barras com as frequencias\n",
    "barplot(table(df_lung_cancer$FATIGUE), \n",
    "        main = 'Gráfico de Barras da Coluna Fadiga',\n",
    "        xlab = 'Fadiga', \n",
    "        ylab = 'Contagem', \n",
    "        col = 'palegreen',\n",
    "        cex.axis = 1.4, \n",
    "        cex.lab = 1.4,\n",
    "        cex.names = 1.17)"
   ]
  },
  {
   "cell_type": "code",
   "execution_count": 36,
   "id": "5e52409f",
   "metadata": {},
   "outputs": [
    {
     "data": {
      "text/plain": [
       "   \n",
       "     NO YES\n",
       "  1  20  81\n",
       "  2  19 189"
      ]
     },
     "metadata": {},
     "output_type": "display_data"
    }
   ],
   "source": [
    "# Criando a tabela de contingência entre FATIGUE e a coluna target\n",
    "table(df_lung_cancer$FATIGUE, df_lung_cancer$LUNG_CANCER) "
   ]
  },
  {
   "cell_type": "markdown",
   "id": "50c5c2e1",
   "metadata": {},
   "source": [
    "- A distribuição entre indivíduos que sofrem e não sofrem de fadiga é desigual, com uma maior proporção de indivíduos relatando fadiga.\n",
    "- É importante destacar que os componentes do cigarro causam, nos fumantes, uma perda considerável da função pulmonar o que pode explicar a distribuição desigual na variável fadiga em fumantes.\n",
    "\n",
    "### 'ALLERGY'"
   ]
  },
  {
   "cell_type": "code",
   "execution_count": 37,
   "id": "6a31ff1a",
   "metadata": {},
   "outputs": [
    {
     "data": {
      "text/plain": [
       "\n",
       "  1   2 \n",
       "137 172 "
      ]
     },
     "metadata": {},
     "output_type": "display_data"
    }
   ],
   "source": [
    "#Verificando a frequência para cada valor único na coluna \n",
    "table(df_lung_cancer$ALLERGY)"
   ]
  },
  {
   "cell_type": "code",
   "execution_count": 38,
   "id": "dd4cbe95",
   "metadata": {},
   "outputs": [
    {
     "data": {
      "image/png": "[encoded data removed]",
      "text/plain": [
       "Plot with title \"Gráfico de Barras da Coluna Alergia\""
      ]
     },
     "metadata": {
      "image/png": {
       "height": 420,
       "width": 420
      }
     },
     "output_type": "display_data"
    }
   ],
   "source": [
    "# Criando o gráfico de barras com as frequencias\n",
    "barplot(table(df_lung_cancer$ALLERGY), \n",
    "        main = 'Gráfico de Barras da Coluna Alergia',\n",
    "        xlab = 'Alergia', \n",
    "        ylab = 'Contagem', \n",
    "        col = 'palegreen',\n",
    "        cex.axis = 1.4, \n",
    "        cex.lab = 1.4,\n",
    "        cex.names = 1.17)"
   ]
  },
  {
   "cell_type": "code",
   "execution_count": 39,
   "id": "c533c587",
   "metadata": {},
   "outputs": [
    {
     "data": {
      "text/plain": [
       "   \n",
       "     NO YES\n",
       "  1  34 103\n",
       "  2   5 167"
      ]
     },
     "metadata": {},
     "output_type": "display_data"
    }
   ],
   "source": [
    "# Criando a tabela de contingência entre ALLERGY e a coluna target\n",
    "table(df_lung_cancer$ALLERGY, df_lung_cancer$LUNG_CANCER) "
   ]
  },
  {
   "cell_type": "markdown",
   "id": "41c5f53c",
   "metadata": {},
   "source": [
    "- A maioria dos indivíduos no conjunto de dados tem alergia.\n",
    "- A análise mostra que a presença de alergia está fortemente associada a uma maior incidência de câncer de pulmão. \n",
    "- **É importante destacar que o tabagismo é um fator desencadeante importante para alergias respiratórias, como rinite e asma, por exemplo.** \n",
    "\n",
    "### 'WHEEZING'"
   ]
  },
  {
   "cell_type": "code",
   "execution_count": 40,
   "id": "10a56e1c",
   "metadata": {},
   "outputs": [
    {
     "data": {
      "text/plain": [
       "\n",
       "  1   2 \n",
       "137 172 "
      ]
     },
     "metadata": {},
     "output_type": "display_data"
    }
   ],
   "source": [
    "#Verificando a frequência para cada valor único na coluna \n",
    "table(df_lung_cancer$WHEEZING)"
   ]
  },
  {
   "cell_type": "code",
   "execution_count": 41,
   "id": "c4a8dbaf",
   "metadata": {},
   "outputs": [
    {
     "data": {
      "image/png": "[encoded data removed]",
      "text/plain": [
       "Plot with title \"Gráfico de Barras da Coluna Chiado\""
      ]
     },
     "metadata": {
      "image/png": {
       "height": 420,
       "width": 420
      }
     },
     "output_type": "display_data"
    }
   ],
   "source": [
    "# Criando o gráfico de barras com as frequencias\n",
    "barplot(table(df_lung_cancer$WHEEZING), \n",
    "        main = 'Gráfico de Barras da Coluna Chiado',\n",
    "        xlab = 'Chiado', \n",
    "        ylab = 'Contagem', \n",
    "        col = 'palegreen',\n",
    "        cex.axis = 1.4, \n",
    "        cex.lab = 1.4,\n",
    "        cex.names = 1.17)"
   ]
  },
  {
   "cell_type": "code",
   "execution_count": 42,
   "id": "f84d6b3d",
   "metadata": {},
   "outputs": [
    {
     "data": {
      "text/plain": [
       "   \n",
       "     NO YES\n",
       "  1  30 107\n",
       "  2   9 163"
      ]
     },
     "metadata": {},
     "output_type": "display_data"
    }
   ],
   "source": [
    "# Criando a tabela de contingência entre WHEEZING e a coluna target\n",
    "table(df_lung_cancer$WHEEZING, df_lung_cancer$LUNG_CANCER) "
   ]
  },
  {
   "cell_type": "markdown",
   "id": "139e66e4",
   "metadata": {},
   "source": [
    "- A maioria dos indivíduos no conjunto de dados tem chiado \n",
    "- A análise mostra que a presença de chiado está fortemente associada a uma maior incidência de câncer de pulmão.\n",
    "- O chiado é um sintoma respiratório que pode indicar problemas subjacentes nas vias aéreas. Fumantes e ex-fumantes, que são grupos de alto risco para câncer de pulmão, frequentemente apresentam chiado devido aos danos causados às vias aéreas pelo tabagismo.\n",
    "\n",
    "### 'ALCOHOL CONSUMING' "
   ]
  },
  {
   "cell_type": "code",
   "execution_count": 43,
   "id": "4920c5ef",
   "metadata": {},
   "outputs": [
    {
     "data": {
      "text/plain": [
       "\n",
       "  1   2 \n",
       "137 172 "
      ]
     },
     "metadata": {},
     "output_type": "display_data"
    }
   ],
   "source": [
    "#Verificando a frequência para cada valor único na coluna \n",
    "table(df_lung_cancer$`ALCOHOL CONSUMING`)"
   ]
  },
  {
   "cell_type": "code",
   "execution_count": 44,
   "id": "b0dd024d",
   "metadata": {},
   "outputs": [
    {
     "data": {
      "image/png": "[encoded data removed]",
      "text/plain": [
       "Plot with title \"Gráfico de Barras da Coluna Consumo de álcool\""
      ]
     },
     "metadata": {
      "image/png": {
       "height": 420,
       "width": 420
      }
     },
     "output_type": "display_data"
    }
   ],
   "source": [
    "# Criando o gráfico de barras com as frequencias\n",
    "barplot(table(df_lung_cancer$WHEEZING), \n",
    "        main = 'Gráfico de Barras da Coluna Consumo de álcool',\n",
    "        xlab = 'Consumo de álcool', \n",
    "        ylab = 'Contagem', \n",
    "        col = 'palegreen',\n",
    "        cex.axis = 1.4, \n",
    "        cex.lab = 1.4,\n",
    "        cex.names = 1.17)"
   ]
  },
  {
   "cell_type": "code",
   "execution_count": 45,
   "id": "97fcade5",
   "metadata": {},
   "outputs": [
    {
     "data": {
      "text/plain": [
       "   \n",
       "     NO YES\n",
       "  1  32 105\n",
       "  2   7 165"
      ]
     },
     "metadata": {},
     "output_type": "display_data"
    }
   ],
   "source": [
    "# Criando a tabela de contingência entre ALCOHOL CONSUMING e a coluna target\n",
    "table(df_lung_cancer$`ALCOHOL CONSUMING`, df_lung_cancer$LUNG_CANCER) "
   ]
  },
  {
   "cell_type": "markdown",
   "id": "09cb3770",
   "metadata": {},
   "source": [
    "- A maioria dos indivíduos no conjunto de dados consome álcool\n",
    "- A análise mostra que o consumo de álcool está fortemente associado a uma maior incidência de câncer de pulmão. \n",
    "- **O consumo de álcool pode estar relacionado a comportamentos de risco, como o tabagismo, que por sua vez aumenta o risco de desenvolvimento de câncer de pulmão.**\n",
    "\n",
    "### 'COUGHING'"
   ]
  },
  {
   "cell_type": "code",
   "execution_count": 46,
   "id": "77cdbcf0",
   "metadata": {},
   "outputs": [
    {
     "data": {
      "text/plain": [
       "\n",
       "  1   2 \n",
       "130 179 "
      ]
     },
     "metadata": {},
     "output_type": "display_data"
    }
   ],
   "source": [
    "#Verificando a frequência para cada valor único na coluna \n",
    "table(df_lung_cancer$COUGHING)"
   ]
  },
  {
   "cell_type": "code",
   "execution_count": 47,
   "id": "117f2ff8",
   "metadata": {},
   "outputs": [
    {
     "data": {
      "image/png": "[encoded data removed]",
      "text/plain": [
       "Plot with title \"Gráfico de Barras da Coluna Tosse\""
      ]
     },
     "metadata": {
      "image/png": {
       "height": 420,
       "width": 420
      }
     },
     "output_type": "display_data"
    }
   ],
   "source": [
    "# Criando o gráfico de barras com as frequencias\n",
    "barplot(table(df_lung_cancer$COUGHING), \n",
    "        main = 'Gráfico de Barras da Coluna Tosse',\n",
    "        xlab = 'Tosse', \n",
    "        ylab = 'Contagem', \n",
    "        col = 'palegreen',\n",
    "        cex.axis = 1.4, \n",
    "        cex.lab = 1.4,\n",
    "        cex.names = 1.17)"
   ]
  },
  {
   "cell_type": "code",
   "execution_count": 48,
   "id": "95a712ba",
   "metadata": {},
   "outputs": [
    {
     "data": {
      "text/plain": [
       "   \n",
       "     NO YES\n",
       "  1  29 101\n",
       "  2  10 169"
      ]
     },
     "metadata": {},
     "output_type": "display_data"
    }
   ],
   "source": [
    "# Criando a tabela de contingência entre COUGHING e a coluna target\n",
    "table(df_lung_cancer$COUGHING, df_lung_cancer$LUNG_CANCER) "
   ]
  },
  {
   "cell_type": "markdown",
   "id": "7415f1fb",
   "metadata": {},
   "source": [
    "- A análise mostra que a presença de tosse está fortemente associada a uma maior incidência de câncer de pulmão.\n",
    "- A tosse é um sintoma comum em várias condições respiratórias, incluindo infecções, doenças pulmonares crônicas,etc. É importante destacar que a tosse pode ser causada pelo hábito de fumar. \n",
    "\n",
    "### 'SHORTNESS OF BREATH'"
   ]
  },
  {
   "cell_type": "code",
   "execution_count": 49,
   "id": "23e44f1d",
   "metadata": {},
   "outputs": [
    {
     "data": {
      "text/plain": [
       "\n",
       "  1   2 \n",
       "111 198 "
      ]
     },
     "metadata": {},
     "output_type": "display_data"
    }
   ],
   "source": [
    "#Verificando a frequência para cada valor único na coluna \n",
    "table(df_lung_cancer$`SHORTNESS OF BREATH`)"
   ]
  },
  {
   "cell_type": "code",
   "execution_count": 50,
   "id": "3ce9e809",
   "metadata": {},
   "outputs": [
    {
     "data": {
      "image/png": "[encoded data removed]",
      "text/plain": [
       "Plot with title \"Gráfico de Barras da Coluna Falta de ar\""
      ]
     },
     "metadata": {
      "image/png": {
       "height": 420,
       "width": 420
      }
     },
     "output_type": "display_data"
    }
   ],
   "source": [
    "# Criando o gráfico de barras com as frequencias\n",
    "barplot(table(df_lung_cancer$`SHORTNESS OF BREATH`), \n",
    "        main = 'Gráfico de Barras da Coluna Falta de ar',\n",
    "        xlab = 'Falta de ar', \n",
    "        ylab = 'Contagem', \n",
    "        col = 'palegreen',\n",
    "        cex.axis = 1.4, \n",
    "        cex.lab = 1.4,\n",
    "        cex.names = 1.17)"
   ]
  },
  {
   "cell_type": "code",
   "execution_count": 51,
   "id": "492ddd99",
   "metadata": {},
   "outputs": [
    {
     "data": {
      "text/plain": [
       "   \n",
       "     NO YES\n",
       "  1  17  94\n",
       "  2  22 176"
      ]
     },
     "metadata": {},
     "output_type": "display_data"
    }
   ],
   "source": [
    "# Criando a tabela de contingência entre COUGHING e a coluna target\n",
    "table(df_lung_cancer$`SHORTNESS OF BREATH`, df_lung_cancer$LUNG_CANCER) "
   ]
  },
  {
   "cell_type": "markdown",
   "id": "43293e55",
   "metadata": {},
   "source": [
    "- A análise mostra que a falta de ar está fortemente associada a uma maior incidência de câncer de pulmão. A falta de ar é um sintoma comum em várias condições respiratórias, incluindo infecções, doenças pulmonares crônicas, etc. É importante destacar que a falta de ar pode ser causada por diversos fatores, incluindo o hábito de fumar.\n",
    "\n",
    "### 'SWALLOWING DIFFICULTY'"
   ]
  },
  {
   "cell_type": "code",
   "execution_count": 52,
   "id": "85797593",
   "metadata": {},
   "outputs": [
    {
     "data": {
      "text/plain": [
       "\n",
       "  1   2 \n",
       "164 145 "
      ]
     },
     "metadata": {},
     "output_type": "display_data"
    }
   ],
   "source": [
    "#Verificando a frequência para cada valor único na coluna \n",
    "table(df_lung_cancer$`SWALLOWING DIFFICULTY`)"
   ]
  },
  {
   "cell_type": "code",
   "execution_count": 53,
   "id": "b6fe241d",
   "metadata": {},
   "outputs": [
    {
     "data": {
      "image/png": "[encoded data removed]",
      "text/plain": [
       "Plot with title \"Gráfico de Barras da Coluna Dificuldade para engolir\""
      ]
     },
     "metadata": {
      "image/png": {
       "height": 420,
       "width": 420
      }
     },
     "output_type": "display_data"
    }
   ],
   "source": [
    "# Criando o gráfico de barras com as frequencias\n",
    "barplot(table(df_lung_cancer$`SWALLOWING DIFFICULTY`), \n",
    "        main = 'Gráfico de Barras da Coluna Dificuldade para engolir',\n",
    "        xlab = 'Dificuldade para engolir', \n",
    "        ylab = 'Contagem', \n",
    "        col = 'palegreen',\n",
    "        cex.axis = 1.4, \n",
    "        cex.lab = 1.4,\n",
    "        cex.names = 1.17)"
   ]
  },
  {
   "cell_type": "code",
   "execution_count": 54,
   "id": "c74fc7b1",
   "metadata": {},
   "outputs": [
    {
     "data": {
      "text/plain": [
       "   \n",
       "     NO YES\n",
       "  1  34 130\n",
       "  2   5 140"
      ]
     },
     "metadata": {},
     "output_type": "display_data"
    }
   ],
   "source": [
    "# Criando a tabela de contingência entre COUGHING e a coluna target\n",
    "table(df_lung_cancer$`SWALLOWING DIFFICULTY`, df_lung_cancer$LUNG_CANCER) "
   ]
  },
  {
   "cell_type": "markdown",
   "id": "fb96bb7c",
   "metadata": {},
   "source": [
    "- Partimos da mesma análise anterior: A análise mostra que a dificuldade para engolir está fortemente associada a uma maior incidência de câncer de pulmão. A dificuldade para engolir pode ser um sintoma comum em várias condições respiratórias, incluindo infecções, doenças pulmonares crônicas etc. É importante destacar que essa dificuldade pode ser influenciada por diversos fatores, incluindo o hábito de fumar.\n",
    "\n",
    "### 'CHEST PAIN\""
   ]
  },
  {
   "cell_type": "code",
   "execution_count": 55,
   "id": "274379b1",
   "metadata": {},
   "outputs": [
    {
     "data": {
      "text/plain": [
       "\n",
       "  1   2 \n",
       "137 172 "
      ]
     },
     "metadata": {},
     "output_type": "display_data"
    }
   ],
   "source": [
    "#Verificando a frequência para cada valor único na coluna \n",
    "table(df_lung_cancer$`CHEST PAIN`)"
   ]
  },
  {
   "cell_type": "code",
   "execution_count": 56,
   "id": "b6a0432a",
   "metadata": {},
   "outputs": [
    {
     "data": {
      "image/png": "[encoded data removed]",
      "text/plain": [
       "Plot with title \"Gráfico de Barras da Coluna Dor no Peito\""
      ]
     },
     "metadata": {
      "image/png": {
       "height": 420,
       "width": 420
      }
     },
     "output_type": "display_data"
    }
   ],
   "source": [
    "# Criando o gráfico de barras com as frequencias\n",
    "barplot(table(df_lung_cancer$`CHEST PAIN`), \n",
    "        main = 'Gráfico de Barras da Coluna Dor no Peito',\n",
    "        xlab = 'Dor no Peito', \n",
    "        ylab = 'Contagem', \n",
    "        col = 'palegreen',\n",
    "        cex.axis = 1.4, \n",
    "        cex.lab = 1.4,\n",
    "        cex.names = 1.17)"
   ]
  },
  {
   "cell_type": "code",
   "execution_count": 57,
   "id": "6d5ac407",
   "metadata": {},
   "outputs": [
    {
     "data": {
      "text/plain": [
       "   \n",
       "     NO YES\n",
       "  1  27 110\n",
       "  2  12 160"
      ]
     },
     "metadata": {},
     "output_type": "display_data"
    }
   ],
   "source": [
    "# Criando a tabela de contingência entre COUGHING e a coluna target\n",
    "table(df_lung_cancer$`CHEST PAIN`, df_lung_cancer$LUNG_CANCER) "
   ]
  },
  {
   "cell_type": "markdown",
   "id": "0697daa4",
   "metadata": {},
   "source": [
    "- A análise mostra que a dor no peito está fortemente associada a uma maior incidência de câncer de pulmão. A dor no peito pode ser um sintoma comum em várias condições respiratórias, incluindo infecções, doenças pulmonares crônicas, etc. É importante destacar que a dor no peito pode ser influenciada por diversos fatores, incluindo o hábito de fumar.\n",
    "\n",
    "- otimizar log-loss\n",
    "- focal loss\n",
    "- inveter labels"
   ]
  },
  {
   "cell_type": "code",
   "execution_count": 58,
   "id": "55b70b1a",
   "metadata": {},
   "outputs": [
    {
     "data": {
      "text/plain": [
       "\n",
       " NO YES \n",
       " 39 270 "
      ]
     },
     "metadata": {},
     "output_type": "display_data"
    }
   ],
   "source": [
    "table(df_lung_cancer$LUNG_CANCER)"
   ]
  },
  {
   "cell_type": "markdown",
   "id": "9cf2efa4",
   "metadata": {},
   "source": [
    "## 3 - Machine Learning\n",
    "\n",
    "- Exemplo de uso do pacote Tidymodels para modelagem: \n",
    "    - https://www.tidymodels.org/start/case-study/\n",
    "    - https://www.tidymodels.org/\n",
    "\n",
    "### Métrica de escolha: Recall\n",
    "- Em modelos de machine learning voltados para a previsão de doenças graves, como o câncer de pulmão, a escolha das métricas de avaliação é crucial para garantir a eficácia do modelo. Entre as várias métricas disponíveis, o recall é particularmente importante para este tipo de problema.\n",
    "- O recall, também conhecido como sensibilidade, mede a capacidade do modelo de identificar corretamente todas as instâncias positivas (neste caso, todos os pacientes que realmente têm câncer de pulmão), ele também garante a minimização de Falsos Negativos."
   ]
  },
  {
   "cell_type": "code",
   "execution_count": 59,
   "id": "f6dc1532",
   "metadata": {},
   "outputs": [
    {
     "name": "stderr",
     "output_type": "stream",
     "text": [
      "── \u001b[1mAttaching packages\u001b[22m ────────────────────────────────────────────────────────────────────────────── tidymodels 1.2.0 ──\n",
      "\n",
      "\u001b[32m✔\u001b[39m \u001b[34mbroom       \u001b[39m 1.0.6      \u001b[32m✔\u001b[39m \u001b[34mrsample     \u001b[39m 1.2.1 \n",
      "\u001b[32m✔\u001b[39m \u001b[34mdials       \u001b[39m 1.2.1      \u001b[32m✔\u001b[39m \u001b[34mtibble      \u001b[39m 3.2.1 \n",
      "\u001b[32m✔\u001b[39m \u001b[34mggplot2     \u001b[39m 3.5.1      \u001b[32m✔\u001b[39m \u001b[34mtidyr       \u001b[39m 1.3.1 \n",
      "\u001b[32m✔\u001b[39m \u001b[34minfer       \u001b[39m 1.0.7      \u001b[32m✔\u001b[39m \u001b[34mtune        \u001b[39m 1.2.1 \n",
      "\u001b[32m✔\u001b[39m \u001b[34mmodeldata   \u001b[39m 1.4.0      \u001b[32m✔\u001b[39m \u001b[34mworkflows   \u001b[39m 1.1.4 \n",
      "\u001b[32m✔\u001b[39m \u001b[34mparsnip     \u001b[39m 1.2.1      \u001b[32m✔\u001b[39m \u001b[34mworkflowsets\u001b[39m 1.1.0 \n",
      "\u001b[32m✔\u001b[39m \u001b[34mpurrr       \u001b[39m 1.0.2      \u001b[32m✔\u001b[39m \u001b[34myardstick   \u001b[39m 1.3.1 \n",
      "\u001b[32m✔\u001b[39m \u001b[34mrecipes     \u001b[39m 1.0.10     \n",
      "\n",
      "── \u001b[1mConflicts\u001b[22m ───────────────────────────────────────────────────────────────────────────────── tidymodels_conflicts() ──\n",
      "\u001b[31m✖\u001b[39m \u001b[34mpurrr\u001b[39m::\u001b[32mdiscard()\u001b[39m  masks \u001b[34mscales\u001b[39m::discard()\n",
      "\u001b[31m✖\u001b[39m \u001b[34mdplyr\u001b[39m::\u001b[32mfilter()\u001b[39m   masks \u001b[34mstats\u001b[39m::filter()\n",
      "\u001b[31m✖\u001b[39m \u001b[34mdplyr\u001b[39m::\u001b[32mlag()\u001b[39m      masks \u001b[34mstats\u001b[39m::lag()\n",
      "\u001b[31m✖\u001b[39m \u001b[34myardstick\u001b[39m::\u001b[32mspec()\u001b[39m masks \u001b[34mreadr\u001b[39m::spec()\n",
      "\u001b[31m✖\u001b[39m \u001b[34mrecipes\u001b[39m::\u001b[32mstep()\u001b[39m   masks \u001b[34mstats\u001b[39m::step()\n",
      "\u001b[34m•\u001b[39m Learn how to get started at \u001b[32mhttps://www.tidymodels.org/start/\u001b[39m\n",
      "\n"
     ]
    }
   ],
   "source": [
    "library(tidymodels)\n",
    "library(themis) # Para lidar com dados desbalanceados"
   ]
  },
  {
   "cell_type": "markdown",
   "id": "afaf1d57",
   "metadata": {},
   "source": [
    "- Referência para lidar com classes desbalanceadas:\n",
    "    - https://themis.tidymodels.org/\n",
    "    - https://juliasilge.com/blog/himalayan-climbing/\n",
    "    - https://www.tidyverse.org/blog/2022/05/case-weights/"
   ]
  },
  {
   "cell_type": "code",
   "execution_count": 60,
   "id": "5f06933b",
   "metadata": {},
   "outputs": [],
   "source": [
    "# Armazenando o DF em um novo Dataframe\n",
    "df_lung_cancer_ml <- df_lung_cancer "
   ]
  },
  {
   "cell_type": "code",
   "execution_count": 61,
   "id": "100ceac3",
   "metadata": {},
   "outputs": [
    {
     "data": {
      "text/html": [
       "<table class=\"dataframe\">\n",
       "<caption>A tibble: 6 × 16</caption>\n",
       "<thead>\n",
       "\t<tr><th scope=col>GENDER</th><th scope=col>AGE</th><th scope=col>SMOKING</th><th scope=col>YELLOW_FINGERS</th><th scope=col>ANXIETY</th><th scope=col>PEER_PRESSURE</th><th scope=col>CHRONIC DISEASE</th><th scope=col>FATIGUE</th><th scope=col>ALLERGY</th><th scope=col>WHEEZING</th><th scope=col>ALCOHOL CONSUMING</th><th scope=col>COUGHING</th><th scope=col>SHORTNESS OF BREATH</th><th scope=col>SWALLOWING DIFFICULTY</th><th scope=col>CHEST PAIN</th><th scope=col>LUNG_CANCER</th></tr>\n",
       "\t<tr><th scope=col>&lt;chr&gt;</th><th scope=col>&lt;dbl&gt;</th><th scope=col>&lt;dbl&gt;</th><th scope=col>&lt;dbl&gt;</th><th scope=col>&lt;dbl&gt;</th><th scope=col>&lt;dbl&gt;</th><th scope=col>&lt;dbl&gt;</th><th scope=col>&lt;dbl&gt;</th><th scope=col>&lt;dbl&gt;</th><th scope=col>&lt;dbl&gt;</th><th scope=col>&lt;dbl&gt;</th><th scope=col>&lt;dbl&gt;</th><th scope=col>&lt;dbl&gt;</th><th scope=col>&lt;dbl&gt;</th><th scope=col>&lt;dbl&gt;</th><th scope=col>&lt;chr&gt;</th></tr>\n",
       "</thead>\n",
       "<tbody>\n",
       "\t<tr><td>M</td><td>69</td><td>1</td><td>2</td><td>2</td><td>1</td><td>1</td><td>2</td><td>1</td><td>2</td><td>2</td><td>2</td><td>2</td><td>2</td><td>2</td><td>YES</td></tr>\n",
       "\t<tr><td>M</td><td>74</td><td>2</td><td>1</td><td>1</td><td>1</td><td>2</td><td>2</td><td>2</td><td>1</td><td>1</td><td>1</td><td>2</td><td>2</td><td>2</td><td>YES</td></tr>\n",
       "\t<tr><td>F</td><td>59</td><td>1</td><td>1</td><td>1</td><td>2</td><td>1</td><td>2</td><td>1</td><td>2</td><td>1</td><td>2</td><td>2</td><td>1</td><td>2</td><td>NO </td></tr>\n",
       "\t<tr><td>M</td><td>63</td><td>2</td><td>2</td><td>2</td><td>1</td><td>1</td><td>1</td><td>1</td><td>1</td><td>2</td><td>1</td><td>1</td><td>2</td><td>2</td><td>NO </td></tr>\n",
       "\t<tr><td>F</td><td>63</td><td>1</td><td>2</td><td>1</td><td>1</td><td>1</td><td>1</td><td>1</td><td>2</td><td>1</td><td>2</td><td>2</td><td>1</td><td>1</td><td>NO </td></tr>\n",
       "\t<tr><td>F</td><td>75</td><td>1</td><td>2</td><td>1</td><td>1</td><td>2</td><td>2</td><td>2</td><td>2</td><td>1</td><td>2</td><td>2</td><td>1</td><td>1</td><td>YES</td></tr>\n",
       "</tbody>\n",
       "</table>\n"
      ],
      "text/latex": [
       "A tibble: 6 × 16\n",
       "\\begin{tabular}{llllllllllllllll}\n",
       " GENDER & AGE & SMOKING & YELLOW\\_FINGERS & ANXIETY & PEER\\_PRESSURE & CHRONIC DISEASE & FATIGUE & ALLERGY & WHEEZING & ALCOHOL CONSUMING & COUGHING & SHORTNESS OF BREATH & SWALLOWING DIFFICULTY & CHEST PAIN & LUNG\\_CANCER\\\\\n",
       " <chr> & <dbl> & <dbl> & <dbl> & <dbl> & <dbl> & <dbl> & <dbl> & <dbl> & <dbl> & <dbl> & <dbl> & <dbl> & <dbl> & <dbl> & <chr>\\\\\n",
       "\\hline\n",
       "\t M & 69 & 1 & 2 & 2 & 1 & 1 & 2 & 1 & 2 & 2 & 2 & 2 & 2 & 2 & YES\\\\\n",
       "\t M & 74 & 2 & 1 & 1 & 1 & 2 & 2 & 2 & 1 & 1 & 1 & 2 & 2 & 2 & YES\\\\\n",
       "\t F & 59 & 1 & 1 & 1 & 2 & 1 & 2 & 1 & 2 & 1 & 2 & 2 & 1 & 2 & NO \\\\\n",
       "\t M & 63 & 2 & 2 & 2 & 1 & 1 & 1 & 1 & 1 & 2 & 1 & 1 & 2 & 2 & NO \\\\\n",
       "\t F & 63 & 1 & 2 & 1 & 1 & 1 & 1 & 1 & 2 & 1 & 2 & 2 & 1 & 1 & NO \\\\\n",
       "\t F & 75 & 1 & 2 & 1 & 1 & 2 & 2 & 2 & 2 & 1 & 2 & 2 & 1 & 1 & YES\\\\\n",
       "\\end{tabular}\n"
      ],
      "text/markdown": [
       "\n",
       "A tibble: 6 × 16\n",
       "\n",
       "| GENDER &lt;chr&gt; | AGE &lt;dbl&gt; | SMOKING &lt;dbl&gt; | YELLOW_FINGERS &lt;dbl&gt; | ANXIETY &lt;dbl&gt; | PEER_PRESSURE &lt;dbl&gt; | CHRONIC DISEASE &lt;dbl&gt; | FATIGUE &lt;dbl&gt; | ALLERGY &lt;dbl&gt; | WHEEZING &lt;dbl&gt; | ALCOHOL CONSUMING &lt;dbl&gt; | COUGHING &lt;dbl&gt; | SHORTNESS OF BREATH &lt;dbl&gt; | SWALLOWING DIFFICULTY &lt;dbl&gt; | CHEST PAIN &lt;dbl&gt; | LUNG_CANCER &lt;chr&gt; |\n",
       "|---|---|---|---|---|---|---|---|---|---|---|---|---|---|---|---|\n",
       "| M | 69 | 1 | 2 | 2 | 1 | 1 | 2 | 1 | 2 | 2 | 2 | 2 | 2 | 2 | YES |\n",
       "| M | 74 | 2 | 1 | 1 | 1 | 2 | 2 | 2 | 1 | 1 | 1 | 2 | 2 | 2 | YES |\n",
       "| F | 59 | 1 | 1 | 1 | 2 | 1 | 2 | 1 | 2 | 1 | 2 | 2 | 1 | 2 | NO  |\n",
       "| M | 63 | 2 | 2 | 2 | 1 | 1 | 1 | 1 | 1 | 2 | 1 | 1 | 2 | 2 | NO  |\n",
       "| F | 63 | 1 | 2 | 1 | 1 | 1 | 1 | 1 | 2 | 1 | 2 | 2 | 1 | 1 | NO  |\n",
       "| F | 75 | 1 | 2 | 1 | 1 | 2 | 2 | 2 | 2 | 1 | 2 | 2 | 1 | 1 | YES |\n",
       "\n"
      ],
      "text/plain": [
       "  GENDER AGE SMOKING YELLOW_FINGERS ANXIETY PEER_PRESSURE CHRONIC DISEASE\n",
       "1 M      69  1       2              2       1             1              \n",
       "2 M      74  2       1              1       1             2              \n",
       "3 F      59  1       1              1       2             1              \n",
       "4 M      63  2       2              2       1             1              \n",
       "5 F      63  1       2              1       1             1              \n",
       "6 F      75  1       2              1       1             2              \n",
       "  FATIGUE ALLERGY WHEEZING ALCOHOL CONSUMING COUGHING SHORTNESS OF BREATH\n",
       "1 2       1       2        2                 2        2                  \n",
       "2 2       2       1        1                 1        2                  \n",
       "3 2       1       2        1                 2        2                  \n",
       "4 1       1       1        2                 1        1                  \n",
       "5 1       1       2        1                 2        2                  \n",
       "6 2       2       2        1                 2        2                  \n",
       "  SWALLOWING DIFFICULTY CHEST PAIN LUNG_CANCER\n",
       "1 2                     2          YES        \n",
       "2 2                     2          YES        \n",
       "3 1                     2          NO         \n",
       "4 2                     2          NO         \n",
       "5 1                     1          NO         \n",
       "6 1                     1          YES        "
      ]
     },
     "metadata": {},
     "output_type": "display_data"
    }
   ],
   "source": [
    "head(df_lung_cancer_ml)"
   ]
  },
  {
   "cell_type": "code",
   "execution_count": 62,
   "id": "ed896e91",
   "metadata": {},
   "outputs": [],
   "source": [
    "#Transformando a coluna alvo em fator\n",
    "df_lung_cancer_ml <-  df_lung_cancer_ml %>%\n",
    "mutate(LUNG_CANCER = as.factor(LUNG_CANCER))"
   ]
  },
  {
   "cell_type": "code",
   "execution_count": 63,
   "id": "42d72950",
   "metadata": {},
   "outputs": [
    {
     "name": "stdout",
     "output_type": "stream",
     "text": [
      "Rows: 309\n",
      "Columns: 16\n",
      "$ GENDER                  \u001b[3m\u001b[90m<chr>\u001b[39m\u001b[23m \"M\", \"M\", \"F\", \"M\", \"F\", \"F\", \"M\", \"F\", \"F\", \"…\n",
      "$ AGE                     \u001b[3m\u001b[90m<dbl>\u001b[39m\u001b[23m 69, 74, 59, 63, 63, 75, 52, 51, 68, 53, 61, 72…\n",
      "$ SMOKING                 \u001b[3m\u001b[90m<dbl>\u001b[39m\u001b[23m 1, 2, 1, 2, 1, 1, 2, 2, 2, 2, 2, 1, 2, 2, 2, 1…\n",
      "$ YELLOW_FINGERS          \u001b[3m\u001b[90m<dbl>\u001b[39m\u001b[23m 2, 1, 1, 2, 2, 2, 1, 2, 1, 2, 2, 1, 1, 1, 1, 2…\n",
      "$ ANXIETY                 \u001b[3m\u001b[90m<dbl>\u001b[39m\u001b[23m 2, 1, 1, 2, 1, 1, 1, 2, 2, 2, 2, 1, 1, 1, 1, 2…\n",
      "$ PEER_PRESSURE           \u001b[3m\u001b[90m<dbl>\u001b[39m\u001b[23m 1, 1, 2, 1, 1, 1, 1, 2, 1, 2, 2, 1, 1, 1, 1, 2…\n",
      "$ `CHRONIC DISEASE`       \u001b[3m\u001b[90m<dbl>\u001b[39m\u001b[23m 1, 2, 1, 1, 1, 2, 1, 1, 1, 2, 2, 2, 1, 1, 1, 2…\n",
      "$ FATIGUE                 \u001b[3m\u001b[90m<dbl>\u001b[39m\u001b[23m 2, 2, 2, 1, 1, 2, 2, 2, 2, 1, 2, 2, 2, 2, 1, 2…\n",
      "$ ALLERGY                 \u001b[3m\u001b[90m<dbl>\u001b[39m\u001b[23m 1, 2, 1, 1, 1, 2, 1, 2, 1, 2, 1, 2, 1, 2, 2, 2…\n",
      "$ WHEEZING                \u001b[3m\u001b[90m<dbl>\u001b[39m\u001b[23m 2, 1, 2, 1, 2, 2, 2, 1, 1, 1, 2, 2, 1, 2, 2, 2…\n",
      "$ `ALCOHOL CONSUMING`     \u001b[3m\u001b[90m<dbl>\u001b[39m\u001b[23m 2, 1, 1, 2, 1, 1, 2, 1, 1, 2, 1, 2, 1, 2, 2, 1…\n",
      "$ COUGHING                \u001b[3m\u001b[90m<dbl>\u001b[39m\u001b[23m 2, 1, 2, 1, 2, 2, 2, 1, 1, 1, 2, 2, 1, 2, 2, 2…\n",
      "$ `SHORTNESS OF BREATH`   \u001b[3m\u001b[90m<dbl>\u001b[39m\u001b[23m 2, 2, 2, 1, 2, 2, 2, 2, 1, 1, 2, 2, 2, 2, 1, 2…\n",
      "$ `SWALLOWING DIFFICULTY` \u001b[3m\u001b[90m<dbl>\u001b[39m\u001b[23m 2, 2, 1, 2, 1, 1, 1, 2, 1, 2, 2, 1, 1, 1, 1, 2…\n",
      "$ `CHEST PAIN`            \u001b[3m\u001b[90m<dbl>\u001b[39m\u001b[23m 2, 2, 2, 2, 1, 1, 2, 1, 1, 2, 1, 2, 1, 2, 2, 1…\n",
      "$ LUNG_CANCER             \u001b[3m\u001b[90m<fct>\u001b[39m\u001b[23m YES, YES, NO, NO, NO, YES, YES, YES, NO, YES, …\n"
     ]
    }
   ],
   "source": [
    "#Verificando os dados\n",
    "glimpse(df_lung_cancer_ml)"
   ]
  },
  {
   "cell_type": "code",
   "execution_count": 64,
   "id": "12a696fa",
   "metadata": {},
   "outputs": [
    {
     "data": {
      "text/plain": [
       "<Training/Testing/Total>\n",
       "<231/78/309>"
      ]
     },
     "metadata": {},
     "output_type": "display_data"
    }
   ],
   "source": [
    "#Dividindo os dados, padrão 75% dados treino, divisão deve ser estratificada\n",
    "set.seed(123)\n",
    "splits  <- initial_split(df_lung_cancer_ml, strata = LUNG_CANCER)\n",
    "splits "
   ]
  },
  {
   "cell_type": "code",
   "execution_count": 65,
   "id": "dfeba742",
   "metadata": {},
   "outputs": [],
   "source": [
    "#Separando os DFs\n",
    "df_training <- training(splits)\n",
    "df_test  <- testing(splits)"
   ]
  },
  {
   "cell_type": "markdown",
   "id": "a60eeda5",
   "metadata": {},
   "source": [
    "### Logistic Regression"
   ]
  },
  {
   "cell_type": "code",
   "execution_count": 66,
   "id": "66dd575f",
   "metadata": {},
   "outputs": [
    {
     "data": {
      "text/html": [
       "<table class=\"dataframe\">\n",
       "<caption>A tibble: 2 × 6</caption>\n",
       "<thead>\n",
       "\t<tr><th scope=col>.metric</th><th scope=col>.estimator</th><th scope=col>mean</th><th scope=col>n</th><th scope=col>std_err</th><th scope=col>.config</th></tr>\n",
       "\t<tr><th scope=col>&lt;chr&gt;</th><th scope=col>&lt;chr&gt;</th><th scope=col>&lt;dbl&gt;</th><th scope=col>&lt;int&gt;</th><th scope=col>&lt;dbl&gt;</th><th scope=col>&lt;chr&gt;</th></tr>\n",
       "</thead>\n",
       "<tbody>\n",
       "\t<tr><td>accuracy</td><td>binary</td><td>0.9179018</td><td>10</td><td>0.009889083</td><td>Preprocessor1_Model1</td></tr>\n",
       "\t<tr><td>recall  </td><td>binary</td><td>0.6166667</td><td>10</td><td>0.061111111</td><td>Preprocessor1_Model1</td></tr>\n",
       "</tbody>\n",
       "</table>\n"
      ],
      "text/latex": [
       "A tibble: 2 × 6\n",
       "\\begin{tabular}{llllll}\n",
       " .metric & .estimator & mean & n & std\\_err & .config\\\\\n",
       " <chr> & <chr> & <dbl> & <int> & <dbl> & <chr>\\\\\n",
       "\\hline\n",
       "\t accuracy & binary & 0.9179018 & 10 & 0.009889083 & Preprocessor1\\_Model1\\\\\n",
       "\t recall   & binary & 0.6166667 & 10 & 0.061111111 & Preprocessor1\\_Model1\\\\\n",
       "\\end{tabular}\n"
      ],
      "text/markdown": [
       "\n",
       "A tibble: 2 × 6\n",
       "\n",
       "| .metric &lt;chr&gt; | .estimator &lt;chr&gt; | mean &lt;dbl&gt; | n &lt;int&gt; | std_err &lt;dbl&gt; | .config &lt;chr&gt; |\n",
       "|---|---|---|---|---|---|\n",
       "| accuracy | binary | 0.9179018 | 10 | 0.009889083 | Preprocessor1_Model1 |\n",
       "| recall   | binary | 0.6166667 | 10 | 0.061111111 | Preprocessor1_Model1 |\n",
       "\n"
      ],
      "text/plain": [
       "  .metric  .estimator mean      n  std_err     .config             \n",
       "1 accuracy binary     0.9179018 10 0.009889083 Preprocessor1_Model1\n",
       "2 recall   binary     0.6166667 10 0.061111111 Preprocessor1_Model1"
      ]
     },
     "metadata": {},
     "output_type": "display_data"
    }
   ],
   "source": [
    "# Semente para reprodutibilidade\n",
    "set.seed(1234)\n",
    "\n",
    "# Definindo a receita \n",
    "lung_cancer_recipe <- \n",
    "  recipe(LUNG_CANCER ~ ., data = df_training) %>%\n",
    "  step_dummy(GENDER) %>%            # Converte GENDER em dummy\n",
    "  step_zv(all_predictors()) %>%     # Remove variáveis com zero variância\n",
    "  step_normalize(all_predictors())  # Normaliza todas as variáveis preditoras\n",
    "\n",
    "# Especificação do modelo\n",
    "model_lr <- \n",
    "  logistic_reg() %>%\n",
    "  set_engine('glm')\n",
    "\n",
    "# Criando o workflow\n",
    "lr_workflow <- \n",
    "  workflow() %>% \n",
    "  add_model(model_lr) %>% \n",
    "  add_recipe(lung_cancer_recipe)\n",
    "\n",
    "# Validação cruzada estratificada\n",
    "folds <- vfold_cv(df_training, v = 10, strata = LUNG_CANCER)\n",
    "\n",
    "# Definindo as métricas\n",
    "metrics <- metric_set(recall, accuracy)\n",
    "\n",
    "# Ajustando do modelo com validação cruzada\n",
    "lr_fit <- \n",
    "  lr_workflow %>%\n",
    "  fit_resamples(folds, metrics = metrics)\n",
    "\n",
    "# Visualizar os resultados\n",
    "lr_fit %>% collect_metrics()"
   ]
  },
  {
   "cell_type": "code",
   "execution_count": 67,
   "id": "54e3c842",
   "metadata": {},
   "outputs": [
    {
     "data": {
      "text/html": [
       "<table class=\"dataframe\">\n",
       "<caption>A tibble: 20 × 5</caption>\n",
       "<thead>\n",
       "\t<tr><th scope=col>id</th><th scope=col>.metric</th><th scope=col>.estimator</th><th scope=col>.estimate</th><th scope=col>.config</th></tr>\n",
       "\t<tr><th scope=col>&lt;chr&gt;</th><th scope=col>&lt;chr&gt;</th><th scope=col>&lt;chr&gt;</th><th scope=col>&lt;dbl&gt;</th><th scope=col>&lt;chr&gt;</th></tr>\n",
       "</thead>\n",
       "<tbody>\n",
       "\t<tr><td>Fold01</td><td>recall  </td><td>binary</td><td>0.3333333</td><td>Preprocessor1_Model1</td></tr>\n",
       "\t<tr><td>Fold01</td><td>accuracy</td><td>binary</td><td>0.8750000</td><td>Preprocessor1_Model1</td></tr>\n",
       "\t<tr><td>Fold02</td><td>recall  </td><td>binary</td><td>0.3333333</td><td>Preprocessor1_Model1</td></tr>\n",
       "\t<tr><td>Fold02</td><td>accuracy</td><td>binary</td><td>0.9166667</td><td>Preprocessor1_Model1</td></tr>\n",
       "\t<tr><td>Fold03</td><td>recall  </td><td>binary</td><td>1.0000000</td><td>Preprocessor1_Model1</td></tr>\n",
       "\t<tr><td>Fold03</td><td>accuracy</td><td>binary</td><td>0.9565217</td><td>Preprocessor1_Model1</td></tr>\n",
       "\t<tr><td>Fold04</td><td>recall  </td><td>binary</td><td>0.6666667</td><td>Preprocessor1_Model1</td></tr>\n",
       "\t<tr><td>Fold04</td><td>accuracy</td><td>binary</td><td>0.9130435</td><td>Preprocessor1_Model1</td></tr>\n",
       "\t<tr><td>Fold05</td><td>recall  </td><td>binary</td><td>0.6666667</td><td>Preprocessor1_Model1</td></tr>\n",
       "\t<tr><td>Fold05</td><td>accuracy</td><td>binary</td><td>0.9565217</td><td>Preprocessor1_Model1</td></tr>\n",
       "\t<tr><td>Fold06</td><td>recall  </td><td>binary</td><td>0.6666667</td><td>Preprocessor1_Model1</td></tr>\n",
       "\t<tr><td>Fold06</td><td>accuracy</td><td>binary</td><td>0.8695652</td><td>Preprocessor1_Model1</td></tr>\n",
       "\t<tr><td>Fold07</td><td>recall  </td><td>binary</td><td>0.6666667</td><td>Preprocessor1_Model1</td></tr>\n",
       "\t<tr><td>Fold07</td><td>accuracy</td><td>binary</td><td>0.9130435</td><td>Preprocessor1_Model1</td></tr>\n",
       "\t<tr><td>Fold08</td><td>recall  </td><td>binary</td><td>0.6666667</td><td>Preprocessor1_Model1</td></tr>\n",
       "\t<tr><td>Fold08</td><td>accuracy</td><td>binary</td><td>0.9565217</td><td>Preprocessor1_Model1</td></tr>\n",
       "\t<tr><td>Fold09</td><td>recall  </td><td>binary</td><td>0.6666667</td><td>Preprocessor1_Model1</td></tr>\n",
       "\t<tr><td>Fold09</td><td>accuracy</td><td>binary</td><td>0.9130435</td><td>Preprocessor1_Model1</td></tr>\n",
       "\t<tr><td>Fold10</td><td>recall  </td><td>binary</td><td>0.5000000</td><td>Preprocessor1_Model1</td></tr>\n",
       "\t<tr><td>Fold10</td><td>accuracy</td><td>binary</td><td>0.9090909</td><td>Preprocessor1_Model1</td></tr>\n",
       "</tbody>\n",
       "</table>\n"
      ],
      "text/latex": [
       "A tibble: 20 × 5\n",
       "\\begin{tabular}{lllll}\n",
       " id & .metric & .estimator & .estimate & .config\\\\\n",
       " <chr> & <chr> & <chr> & <dbl> & <chr>\\\\\n",
       "\\hline\n",
       "\t Fold01 & recall   & binary & 0.3333333 & Preprocessor1\\_Model1\\\\\n",
       "\t Fold01 & accuracy & binary & 0.8750000 & Preprocessor1\\_Model1\\\\\n",
       "\t Fold02 & recall   & binary & 0.3333333 & Preprocessor1\\_Model1\\\\\n",
       "\t Fold02 & accuracy & binary & 0.9166667 & Preprocessor1\\_Model1\\\\\n",
       "\t Fold03 & recall   & binary & 1.0000000 & Preprocessor1\\_Model1\\\\\n",
       "\t Fold03 & accuracy & binary & 0.9565217 & Preprocessor1\\_Model1\\\\\n",
       "\t Fold04 & recall   & binary & 0.6666667 & Preprocessor1\\_Model1\\\\\n",
       "\t Fold04 & accuracy & binary & 0.9130435 & Preprocessor1\\_Model1\\\\\n",
       "\t Fold05 & recall   & binary & 0.6666667 & Preprocessor1\\_Model1\\\\\n",
       "\t Fold05 & accuracy & binary & 0.9565217 & Preprocessor1\\_Model1\\\\\n",
       "\t Fold06 & recall   & binary & 0.6666667 & Preprocessor1\\_Model1\\\\\n",
       "\t Fold06 & accuracy & binary & 0.8695652 & Preprocessor1\\_Model1\\\\\n",
       "\t Fold07 & recall   & binary & 0.6666667 & Preprocessor1\\_Model1\\\\\n",
       "\t Fold07 & accuracy & binary & 0.9130435 & Preprocessor1\\_Model1\\\\\n",
       "\t Fold08 & recall   & binary & 0.6666667 & Preprocessor1\\_Model1\\\\\n",
       "\t Fold08 & accuracy & binary & 0.9565217 & Preprocessor1\\_Model1\\\\\n",
       "\t Fold09 & recall   & binary & 0.6666667 & Preprocessor1\\_Model1\\\\\n",
       "\t Fold09 & accuracy & binary & 0.9130435 & Preprocessor1\\_Model1\\\\\n",
       "\t Fold10 & recall   & binary & 0.5000000 & Preprocessor1\\_Model1\\\\\n",
       "\t Fold10 & accuracy & binary & 0.9090909 & Preprocessor1\\_Model1\\\\\n",
       "\\end{tabular}\n"
      ],
      "text/markdown": [
       "\n",
       "A tibble: 20 × 5\n",
       "\n",
       "| id &lt;chr&gt; | .metric &lt;chr&gt; | .estimator &lt;chr&gt; | .estimate &lt;dbl&gt; | .config &lt;chr&gt; |\n",
       "|---|---|---|---|---|\n",
       "| Fold01 | recall   | binary | 0.3333333 | Preprocessor1_Model1 |\n",
       "| Fold01 | accuracy | binary | 0.8750000 | Preprocessor1_Model1 |\n",
       "| Fold02 | recall   | binary | 0.3333333 | Preprocessor1_Model1 |\n",
       "| Fold02 | accuracy | binary | 0.9166667 | Preprocessor1_Model1 |\n",
       "| Fold03 | recall   | binary | 1.0000000 | Preprocessor1_Model1 |\n",
       "| Fold03 | accuracy | binary | 0.9565217 | Preprocessor1_Model1 |\n",
       "| Fold04 | recall   | binary | 0.6666667 | Preprocessor1_Model1 |\n",
       "| Fold04 | accuracy | binary | 0.9130435 | Preprocessor1_Model1 |\n",
       "| Fold05 | recall   | binary | 0.6666667 | Preprocessor1_Model1 |\n",
       "| Fold05 | accuracy | binary | 0.9565217 | Preprocessor1_Model1 |\n",
       "| Fold06 | recall   | binary | 0.6666667 | Preprocessor1_Model1 |\n",
       "| Fold06 | accuracy | binary | 0.8695652 | Preprocessor1_Model1 |\n",
       "| Fold07 | recall   | binary | 0.6666667 | Preprocessor1_Model1 |\n",
       "| Fold07 | accuracy | binary | 0.9130435 | Preprocessor1_Model1 |\n",
       "| Fold08 | recall   | binary | 0.6666667 | Preprocessor1_Model1 |\n",
       "| Fold08 | accuracy | binary | 0.9565217 | Preprocessor1_Model1 |\n",
       "| Fold09 | recall   | binary | 0.6666667 | Preprocessor1_Model1 |\n",
       "| Fold09 | accuracy | binary | 0.9130435 | Preprocessor1_Model1 |\n",
       "| Fold10 | recall   | binary | 0.5000000 | Preprocessor1_Model1 |\n",
       "| Fold10 | accuracy | binary | 0.9090909 | Preprocessor1_Model1 |\n",
       "\n"
      ],
      "text/plain": [
       "   id     .metric  .estimator .estimate .config             \n",
       "1  Fold01 recall   binary     0.3333333 Preprocessor1_Model1\n",
       "2  Fold01 accuracy binary     0.8750000 Preprocessor1_Model1\n",
       "3  Fold02 recall   binary     0.3333333 Preprocessor1_Model1\n",
       "4  Fold02 accuracy binary     0.9166667 Preprocessor1_Model1\n",
       "5  Fold03 recall   binary     1.0000000 Preprocessor1_Model1\n",
       "6  Fold03 accuracy binary     0.9565217 Preprocessor1_Model1\n",
       "7  Fold04 recall   binary     0.6666667 Preprocessor1_Model1\n",
       "8  Fold04 accuracy binary     0.9130435 Preprocessor1_Model1\n",
       "9  Fold05 recall   binary     0.6666667 Preprocessor1_Model1\n",
       "10 Fold05 accuracy binary     0.9565217 Preprocessor1_Model1\n",
       "11 Fold06 recall   binary     0.6666667 Preprocessor1_Model1\n",
       "12 Fold06 accuracy binary     0.8695652 Preprocessor1_Model1\n",
       "13 Fold07 recall   binary     0.6666667 Preprocessor1_Model1\n",
       "14 Fold07 accuracy binary     0.9130435 Preprocessor1_Model1\n",
       "15 Fold08 recall   binary     0.6666667 Preprocessor1_Model1\n",
       "16 Fold08 accuracy binary     0.9565217 Preprocessor1_Model1\n",
       "17 Fold09 recall   binary     0.6666667 Preprocessor1_Model1\n",
       "18 Fold09 accuracy binary     0.9130435 Preprocessor1_Model1\n",
       "19 Fold10 recall   binary     0.5000000 Preprocessor1_Model1\n",
       "20 Fold10 accuracy binary     0.9090909 Preprocessor1_Model1"
      ]
     },
     "metadata": {},
     "output_type": "display_data"
    }
   ],
   "source": [
    "#Métricas por fold\n",
    "collect_metrics(lr_fit, summarize = FALSE)"
   ]
  },
  {
   "cell_type": "markdown",
   "id": "fbf11151",
   "metadata": {},
   "source": [
    "### RandomForest"
   ]
  },
  {
   "cell_type": "code",
   "execution_count": 68,
   "id": "d4da920e",
   "metadata": {},
   "outputs": [
    {
     "data": {
      "text/html": [
       "<table class=\"dataframe\">\n",
       "<caption>A tibble: 160 × 9</caption>\n",
       "<thead>\n",
       "\t<tr><th scope=col>mtry</th><th scope=col>trees</th><th scope=col>min_n</th><th scope=col>.metric</th><th scope=col>.estimator</th><th scope=col>mean</th><th scope=col>n</th><th scope=col>std_err</th><th scope=col>.config</th></tr>\n",
       "\t<tr><th scope=col>&lt;int&gt;</th><th scope=col>&lt;int&gt;</th><th scope=col>&lt;int&gt;</th><th scope=col>&lt;chr&gt;</th><th scope=col>&lt;chr&gt;</th><th scope=col>&lt;dbl&gt;</th><th scope=col>&lt;int&gt;</th><th scope=col>&lt;dbl&gt;</th><th scope=col>&lt;chr&gt;</th></tr>\n",
       "</thead>\n",
       "<tbody>\n",
       "\t<tr><td>1</td><td> 50</td><td>2</td><td>accuracy</td><td>binary</td><td>0.87005929</td><td>10</td><td>0.006559558</td><td>Preprocessor1_Model01</td></tr>\n",
       "\t<tr><td>1</td><td> 50</td><td>2</td><td>recall  </td><td>binary</td><td>0.03333333</td><td>10</td><td>0.033333333</td><td>Preprocessor1_Model01</td></tr>\n",
       "\t<tr><td>2</td><td> 50</td><td>2</td><td>accuracy</td><td>binary</td><td>0.90485837</td><td>10</td><td>0.021051959</td><td>Preprocessor1_Model02</td></tr>\n",
       "\t<tr><td>2</td><td> 50</td><td>2</td><td>recall  </td><td>binary</td><td>0.45000000</td><td>10</td><td>0.099535960</td><td>Preprocessor1_Model02</td></tr>\n",
       "\t<tr><td>3</td><td> 50</td><td>2</td><td>accuracy</td><td>binary</td><td>0.92188735</td><td>10</td><td>0.017961742</td><td>Preprocessor1_Model03</td></tr>\n",
       "\t<tr><td>3</td><td> 50</td><td>2</td><td>recall  </td><td>binary</td><td>0.58333333</td><td>10</td><td>0.083333333</td><td>Preprocessor1_Model03</td></tr>\n",
       "\t<tr><td>4</td><td> 50</td><td>2</td><td>accuracy</td><td>binary</td><td>0.90503953</td><td>10</td><td>0.019996547</td><td>Preprocessor1_Model04</td></tr>\n",
       "\t<tr><td>4</td><td> 50</td><td>2</td><td>recall  </td><td>binary</td><td>0.51666667</td><td>10</td><td>0.087665188</td><td>Preprocessor1_Model04</td></tr>\n",
       "\t<tr><td>1</td><td>100</td><td>2</td><td>accuracy</td><td>binary</td><td>0.87025692</td><td>10</td><td>0.006242265</td><td>Preprocessor1_Model05</td></tr>\n",
       "\t<tr><td>1</td><td>100</td><td>2</td><td>recall  </td><td>binary</td><td>0.00000000</td><td>10</td><td>0.000000000</td><td>Preprocessor1_Model05</td></tr>\n",
       "\t<tr><td>2</td><td>100</td><td>2</td><td>accuracy</td><td>binary</td><td>0.90032938</td><td>10</td><td>0.020497816</td><td>Preprocessor1_Model06</td></tr>\n",
       "\t<tr><td>2</td><td>100</td><td>2</td><td>recall  </td><td>binary</td><td>0.45000000</td><td>10</td><td>0.070492097</td><td>Preprocessor1_Model06</td></tr>\n",
       "\t<tr><td>3</td><td>100</td><td>2</td><td>accuracy</td><td>binary</td><td>0.90920619</td><td>10</td><td>0.014993480</td><td>Preprocessor1_Model07</td></tr>\n",
       "\t<tr><td>3</td><td>100</td><td>2</td><td>recall  </td><td>binary</td><td>0.51666667</td><td>10</td><td>0.072222222</td><td>Preprocessor1_Model07</td></tr>\n",
       "\t<tr><td>4</td><td>100</td><td>2</td><td>accuracy</td><td>binary</td><td>0.90920619</td><td>10</td><td>0.013520224</td><td>Preprocessor1_Model08</td></tr>\n",
       "\t<tr><td>4</td><td>100</td><td>2</td><td>recall  </td><td>binary</td><td>0.51666667</td><td>10</td><td>0.052411006</td><td>Preprocessor1_Model08</td></tr>\n",
       "\t<tr><td>1</td><td>150</td><td>2</td><td>accuracy</td><td>binary</td><td>0.86571146</td><td>10</td><td>0.004516722</td><td>Preprocessor1_Model09</td></tr>\n",
       "\t<tr><td>1</td><td>150</td><td>2</td><td>recall  </td><td>binary</td><td>0.00000000</td><td>10</td><td>0.000000000</td><td>Preprocessor1_Model09</td></tr>\n",
       "\t<tr><td>2</td><td>150</td><td>2</td><td>accuracy</td><td>binary</td><td>0.90902503</td><td>10</td><td>0.021870874</td><td>Preprocessor1_Model10</td></tr>\n",
       "\t<tr><td>2</td><td>150</td><td>2</td><td>recall  </td><td>binary</td><td>0.48333333</td><td>10</td><td>0.087665188</td><td>Preprocessor1_Model10</td></tr>\n",
       "\t<tr><td>3</td><td>150</td><td>2</td><td>accuracy</td><td>binary</td><td>0.91790184</td><td>10</td><td>0.017545195</td><td>Preprocessor1_Model11</td></tr>\n",
       "\t<tr><td>3</td><td>150</td><td>2</td><td>recall  </td><td>binary</td><td>0.58333333</td><td>10</td><td>0.083333333</td><td>Preprocessor1_Model11</td></tr>\n",
       "\t<tr><td>4</td><td>150</td><td>2</td><td>accuracy</td><td>binary</td><td>0.90069170</td><td>10</td><td>0.018083591</td><td>Preprocessor1_Model12</td></tr>\n",
       "\t<tr><td>4</td><td>150</td><td>2</td><td>recall  </td><td>binary</td><td>0.48333333</td><td>10</td><td>0.072222222</td><td>Preprocessor1_Model12</td></tr>\n",
       "\t<tr><td>1</td><td>200</td><td>2</td><td>accuracy</td><td>binary</td><td>0.87460474</td><td>10</td><td>0.003897842</td><td>Preprocessor1_Model13</td></tr>\n",
       "\t<tr><td>1</td><td>200</td><td>2</td><td>recall  </td><td>binary</td><td>0.00000000</td><td>10</td><td>0.000000000</td><td>Preprocessor1_Model13</td></tr>\n",
       "\t<tr><td>2</td><td>200</td><td>2</td><td>accuracy</td><td>binary</td><td>0.90902503</td><td>10</td><td>0.018769955</td><td>Preprocessor1_Model14</td></tr>\n",
       "\t<tr><td>2</td><td>200</td><td>2</td><td>recall  </td><td>binary</td><td>0.51666667</td><td>10</td><td>0.072222222</td><td>Preprocessor1_Model14</td></tr>\n",
       "\t<tr><td>3</td><td>200</td><td>2</td><td>accuracy</td><td>binary</td><td>0.90902503</td><td>10</td><td>0.018769955</td><td>Preprocessor1_Model15</td></tr>\n",
       "\t<tr><td>3</td><td>200</td><td>2</td><td>recall  </td><td>binary</td><td>0.51666667</td><td>10</td><td>0.072222222</td><td>Preprocessor1_Model15</td></tr>\n",
       "\t<tr><td>⋮</td><td>⋮</td><td>⋮</td><td>⋮</td><td>⋮</td><td>⋮</td><td>⋮</td><td>⋮</td><td>⋮</td></tr>\n",
       "\t<tr><td>2</td><td> 50</td><td>10</td><td>accuracy</td><td>binary</td><td>0.8874671</td><td>10</td><td>0.020492761</td><td>Preprocessor1_Model66</td></tr>\n",
       "\t<tr><td>2</td><td> 50</td><td>10</td><td>recall  </td><td>binary</td><td>0.3166667</td><td>10</td><td>0.094444444</td><td>Preprocessor1_Model66</td></tr>\n",
       "\t<tr><td>3</td><td> 50</td><td>10</td><td>accuracy</td><td>binary</td><td>0.8789526</td><td>10</td><td>0.017884513</td><td>Preprocessor1_Model67</td></tr>\n",
       "\t<tr><td>3</td><td> 50</td><td>10</td><td>recall  </td><td>binary</td><td>0.2833333</td><td>10</td><td>0.086245415</td><td>Preprocessor1_Model67</td></tr>\n",
       "\t<tr><td>4</td><td> 50</td><td>10</td><td>accuracy</td><td>binary</td><td>0.8919960</td><td>10</td><td>0.015897751</td><td>Preprocessor1_Model68</td></tr>\n",
       "\t<tr><td>4</td><td> 50</td><td>10</td><td>recall  </td><td>binary</td><td>0.3500000</td><td>10</td><td>0.087665188</td><td>Preprocessor1_Model68</td></tr>\n",
       "\t<tr><td>1</td><td>100</td><td>10</td><td>accuracy</td><td>binary</td><td>0.8702569</td><td>10</td><td>0.006242265</td><td>Preprocessor1_Model69</td></tr>\n",
       "\t<tr><td>1</td><td>100</td><td>10</td><td>recall  </td><td>binary</td><td>0.0000000</td><td>10</td><td>0.000000000</td><td>Preprocessor1_Model69</td></tr>\n",
       "\t<tr><td>2</td><td>100</td><td>10</td><td>accuracy</td><td>binary</td><td>0.8874671</td><td>10</td><td>0.017144367</td><td>Preprocessor1_Model70</td></tr>\n",
       "\t<tr><td>2</td><td>100</td><td>10</td><td>recall  </td><td>binary</td><td>0.2833333</td><td>10</td><td>0.086245415</td><td>Preprocessor1_Model70</td></tr>\n",
       "\t<tr><td>3</td><td>100</td><td>10</td><td>accuracy</td><td>binary</td><td>0.8959816</td><td>10</td><td>0.016085645</td><td>Preprocessor1_Model71</td></tr>\n",
       "\t<tr><td>3</td><td>100</td><td>10</td><td>recall  </td><td>binary</td><td>0.3500000</td><td>10</td><td>0.087665188</td><td>Preprocessor1_Model71</td></tr>\n",
       "\t<tr><td>4</td><td>100</td><td>10</td><td>accuracy</td><td>binary</td><td>0.9003294</td><td>10</td><td>0.025103792</td><td>Preprocessor1_Model72</td></tr>\n",
       "\t<tr><td>4</td><td>100</td><td>10</td><td>recall  </td><td>binary</td><td>0.4500000</td><td>10</td><td>0.086245415</td><td>Preprocessor1_Model72</td></tr>\n",
       "\t<tr><td>1</td><td>150</td><td>10</td><td>accuracy</td><td>binary</td><td>0.8746047</td><td>10</td><td>0.003897842</td><td>Preprocessor1_Model73</td></tr>\n",
       "\t<tr><td>1</td><td>150</td><td>10</td><td>recall  </td><td>binary</td><td>0.0000000</td><td>10</td><td>0.000000000</td><td>Preprocessor1_Model73</td></tr>\n",
       "\t<tr><td>2</td><td>150</td><td>10</td><td>accuracy</td><td>binary</td><td>0.8874671</td><td>10</td><td>0.015872030</td><td>Preprocessor1_Model74</td></tr>\n",
       "\t<tr><td>2</td><td>150</td><td>10</td><td>recall  </td><td>binary</td><td>0.2833333</td><td>10</td><td>0.086245415</td><td>Preprocessor1_Model74</td></tr>\n",
       "\t<tr><td>3</td><td>150</td><td>10</td><td>accuracy</td><td>binary</td><td>0.8961627</td><td>10</td><td>0.021470321</td><td>Preprocessor1_Model75</td></tr>\n",
       "\t<tr><td>3</td><td>150</td><td>10</td><td>recall  </td><td>binary</td><td>0.3833333</td><td>10</td><td>0.093128081</td><td>Preprocessor1_Model75</td></tr>\n",
       "\t<tr><td>4</td><td>150</td><td>10</td><td>accuracy</td><td>binary</td><td>0.8961627</td><td>10</td><td>0.016055848</td><td>Preprocessor1_Model76</td></tr>\n",
       "\t<tr><td>4</td><td>150</td><td>10</td><td>recall  </td><td>binary</td><td>0.4166667</td><td>10</td><td>0.083333333</td><td>Preprocessor1_Model76</td></tr>\n",
       "\t<tr><td>1</td><td>200</td><td>10</td><td>accuracy</td><td>binary</td><td>0.8702569</td><td>10</td><td>0.006242265</td><td>Preprocessor1_Model77</td></tr>\n",
       "\t<tr><td>1</td><td>200</td><td>10</td><td>recall  </td><td>binary</td><td>0.0000000</td><td>10</td><td>0.000000000</td><td>Preprocessor1_Model77</td></tr>\n",
       "\t<tr><td>2</td><td>200</td><td>10</td><td>accuracy</td><td>binary</td><td>0.8916337</td><td>10</td><td>0.019677158</td><td>Preprocessor1_Model78</td></tr>\n",
       "\t<tr><td>2</td><td>200</td><td>10</td><td>recall  </td><td>binary</td><td>0.3500000</td><td>10</td><td>0.087665188</td><td>Preprocessor1_Model78</td></tr>\n",
       "\t<tr><td>3</td><td>200</td><td>10</td><td>accuracy</td><td>binary</td><td>0.8916337</td><td>10</td><td>0.019677158</td><td>Preprocessor1_Model79</td></tr>\n",
       "\t<tr><td>3</td><td>200</td><td>10</td><td>recall  </td><td>binary</td><td>0.3500000</td><td>10</td><td>0.087665188</td><td>Preprocessor1_Model79</td></tr>\n",
       "\t<tr><td>4</td><td>200</td><td>10</td><td>accuracy</td><td>binary</td><td>0.8919960</td><td>10</td><td>0.017168182</td><td>Preprocessor1_Model80</td></tr>\n",
       "\t<tr><td>4</td><td>200</td><td>10</td><td>recall  </td><td>binary</td><td>0.3500000</td><td>10</td><td>0.100768651</td><td>Preprocessor1_Model80</td></tr>\n",
       "</tbody>\n",
       "</table>\n"
      ],
      "text/latex": [
       "A tibble: 160 × 9\n",
       "\\begin{tabular}{lllllllll}\n",
       " mtry & trees & min\\_n & .metric & .estimator & mean & n & std\\_err & .config\\\\\n",
       " <int> & <int> & <int> & <chr> & <chr> & <dbl> & <int> & <dbl> & <chr>\\\\\n",
       "\\hline\n",
       "\t 1 &  50 & 2 & accuracy & binary & 0.87005929 & 10 & 0.006559558 & Preprocessor1\\_Model01\\\\\n",
       "\t 1 &  50 & 2 & recall   & binary & 0.03333333 & 10 & 0.033333333 & Preprocessor1\\_Model01\\\\\n",
       "\t 2 &  50 & 2 & accuracy & binary & 0.90485837 & 10 & 0.021051959 & Preprocessor1\\_Model02\\\\\n",
       "\t 2 &  50 & 2 & recall   & binary & 0.45000000 & 10 & 0.099535960 & Preprocessor1\\_Model02\\\\\n",
       "\t 3 &  50 & 2 & accuracy & binary & 0.92188735 & 10 & 0.017961742 & Preprocessor1\\_Model03\\\\\n",
       "\t 3 &  50 & 2 & recall   & binary & 0.58333333 & 10 & 0.083333333 & Preprocessor1\\_Model03\\\\\n",
       "\t 4 &  50 & 2 & accuracy & binary & 0.90503953 & 10 & 0.019996547 & Preprocessor1\\_Model04\\\\\n",
       "\t 4 &  50 & 2 & recall   & binary & 0.51666667 & 10 & 0.087665188 & Preprocessor1\\_Model04\\\\\n",
       "\t 1 & 100 & 2 & accuracy & binary & 0.87025692 & 10 & 0.006242265 & Preprocessor1\\_Model05\\\\\n",
       "\t 1 & 100 & 2 & recall   & binary & 0.00000000 & 10 & 0.000000000 & Preprocessor1\\_Model05\\\\\n",
       "\t 2 & 100 & 2 & accuracy & binary & 0.90032938 & 10 & 0.020497816 & Preprocessor1\\_Model06\\\\\n",
       "\t 2 & 100 & 2 & recall   & binary & 0.45000000 & 10 & 0.070492097 & Preprocessor1\\_Model06\\\\\n",
       "\t 3 & 100 & 2 & accuracy & binary & 0.90920619 & 10 & 0.014993480 & Preprocessor1\\_Model07\\\\\n",
       "\t 3 & 100 & 2 & recall   & binary & 0.51666667 & 10 & 0.072222222 & Preprocessor1\\_Model07\\\\\n",
       "\t 4 & 100 & 2 & accuracy & binary & 0.90920619 & 10 & 0.013520224 & Preprocessor1\\_Model08\\\\\n",
       "\t 4 & 100 & 2 & recall   & binary & 0.51666667 & 10 & 0.052411006 & Preprocessor1\\_Model08\\\\\n",
       "\t 1 & 150 & 2 & accuracy & binary & 0.86571146 & 10 & 0.004516722 & Preprocessor1\\_Model09\\\\\n",
       "\t 1 & 150 & 2 & recall   & binary & 0.00000000 & 10 & 0.000000000 & Preprocessor1\\_Model09\\\\\n",
       "\t 2 & 150 & 2 & accuracy & binary & 0.90902503 & 10 & 0.021870874 & Preprocessor1\\_Model10\\\\\n",
       "\t 2 & 150 & 2 & recall   & binary & 0.48333333 & 10 & 0.087665188 & Preprocessor1\\_Model10\\\\\n",
       "\t 3 & 150 & 2 & accuracy & binary & 0.91790184 & 10 & 0.017545195 & Preprocessor1\\_Model11\\\\\n",
       "\t 3 & 150 & 2 & recall   & binary & 0.58333333 & 10 & 0.083333333 & Preprocessor1\\_Model11\\\\\n",
       "\t 4 & 150 & 2 & accuracy & binary & 0.90069170 & 10 & 0.018083591 & Preprocessor1\\_Model12\\\\\n",
       "\t 4 & 150 & 2 & recall   & binary & 0.48333333 & 10 & 0.072222222 & Preprocessor1\\_Model12\\\\\n",
       "\t 1 & 200 & 2 & accuracy & binary & 0.87460474 & 10 & 0.003897842 & Preprocessor1\\_Model13\\\\\n",
       "\t 1 & 200 & 2 & recall   & binary & 0.00000000 & 10 & 0.000000000 & Preprocessor1\\_Model13\\\\\n",
       "\t 2 & 200 & 2 & accuracy & binary & 0.90902503 & 10 & 0.018769955 & Preprocessor1\\_Model14\\\\\n",
       "\t 2 & 200 & 2 & recall   & binary & 0.51666667 & 10 & 0.072222222 & Preprocessor1\\_Model14\\\\\n",
       "\t 3 & 200 & 2 & accuracy & binary & 0.90902503 & 10 & 0.018769955 & Preprocessor1\\_Model15\\\\\n",
       "\t 3 & 200 & 2 & recall   & binary & 0.51666667 & 10 & 0.072222222 & Preprocessor1\\_Model15\\\\\n",
       "\t ⋮ & ⋮ & ⋮ & ⋮ & ⋮ & ⋮ & ⋮ & ⋮ & ⋮\\\\\n",
       "\t 2 &  50 & 10 & accuracy & binary & 0.8874671 & 10 & 0.020492761 & Preprocessor1\\_Model66\\\\\n",
       "\t 2 &  50 & 10 & recall   & binary & 0.3166667 & 10 & 0.094444444 & Preprocessor1\\_Model66\\\\\n",
       "\t 3 &  50 & 10 & accuracy & binary & 0.8789526 & 10 & 0.017884513 & Preprocessor1\\_Model67\\\\\n",
       "\t 3 &  50 & 10 & recall   & binary & 0.2833333 & 10 & 0.086245415 & Preprocessor1\\_Model67\\\\\n",
       "\t 4 &  50 & 10 & accuracy & binary & 0.8919960 & 10 & 0.015897751 & Preprocessor1\\_Model68\\\\\n",
       "\t 4 &  50 & 10 & recall   & binary & 0.3500000 & 10 & 0.087665188 & Preprocessor1\\_Model68\\\\\n",
       "\t 1 & 100 & 10 & accuracy & binary & 0.8702569 & 10 & 0.006242265 & Preprocessor1\\_Model69\\\\\n",
       "\t 1 & 100 & 10 & recall   & binary & 0.0000000 & 10 & 0.000000000 & Preprocessor1\\_Model69\\\\\n",
       "\t 2 & 100 & 10 & accuracy & binary & 0.8874671 & 10 & 0.017144367 & Preprocessor1\\_Model70\\\\\n",
       "\t 2 & 100 & 10 & recall   & binary & 0.2833333 & 10 & 0.086245415 & Preprocessor1\\_Model70\\\\\n",
       "\t 3 & 100 & 10 & accuracy & binary & 0.8959816 & 10 & 0.016085645 & Preprocessor1\\_Model71\\\\\n",
       "\t 3 & 100 & 10 & recall   & binary & 0.3500000 & 10 & 0.087665188 & Preprocessor1\\_Model71\\\\\n",
       "\t 4 & 100 & 10 & accuracy & binary & 0.9003294 & 10 & 0.025103792 & Preprocessor1\\_Model72\\\\\n",
       "\t 4 & 100 & 10 & recall   & binary & 0.4500000 & 10 & 0.086245415 & Preprocessor1\\_Model72\\\\\n",
       "\t 1 & 150 & 10 & accuracy & binary & 0.8746047 & 10 & 0.003897842 & Preprocessor1\\_Model73\\\\\n",
       "\t 1 & 150 & 10 & recall   & binary & 0.0000000 & 10 & 0.000000000 & Preprocessor1\\_Model73\\\\\n",
       "\t 2 & 150 & 10 & accuracy & binary & 0.8874671 & 10 & 0.015872030 & Preprocessor1\\_Model74\\\\\n",
       "\t 2 & 150 & 10 & recall   & binary & 0.2833333 & 10 & 0.086245415 & Preprocessor1\\_Model74\\\\\n",
       "\t 3 & 150 & 10 & accuracy & binary & 0.8961627 & 10 & 0.021470321 & Preprocessor1\\_Model75\\\\\n",
       "\t 3 & 150 & 10 & recall   & binary & 0.3833333 & 10 & 0.093128081 & Preprocessor1\\_Model75\\\\\n",
       "\t 4 & 150 & 10 & accuracy & binary & 0.8961627 & 10 & 0.016055848 & Preprocessor1\\_Model76\\\\\n",
       "\t 4 & 150 & 10 & recall   & binary & 0.4166667 & 10 & 0.083333333 & Preprocessor1\\_Model76\\\\\n",
       "\t 1 & 200 & 10 & accuracy & binary & 0.8702569 & 10 & 0.006242265 & Preprocessor1\\_Model77\\\\\n",
       "\t 1 & 200 & 10 & recall   & binary & 0.0000000 & 10 & 0.000000000 & Preprocessor1\\_Model77\\\\\n",
       "\t 2 & 200 & 10 & accuracy & binary & 0.8916337 & 10 & 0.019677158 & Preprocessor1\\_Model78\\\\\n",
       "\t 2 & 200 & 10 & recall   & binary & 0.3500000 & 10 & 0.087665188 & Preprocessor1\\_Model78\\\\\n",
       "\t 3 & 200 & 10 & accuracy & binary & 0.8916337 & 10 & 0.019677158 & Preprocessor1\\_Model79\\\\\n",
       "\t 3 & 200 & 10 & recall   & binary & 0.3500000 & 10 & 0.087665188 & Preprocessor1\\_Model79\\\\\n",
       "\t 4 & 200 & 10 & accuracy & binary & 0.8919960 & 10 & 0.017168182 & Preprocessor1\\_Model80\\\\\n",
       "\t 4 & 200 & 10 & recall   & binary & 0.3500000 & 10 & 0.100768651 & Preprocessor1\\_Model80\\\\\n",
       "\\end{tabular}\n"
      ],
      "text/markdown": [
       "\n",
       "A tibble: 160 × 9\n",
       "\n",
       "| mtry &lt;int&gt; | trees &lt;int&gt; | min_n &lt;int&gt; | .metric &lt;chr&gt; | .estimator &lt;chr&gt; | mean &lt;dbl&gt; | n &lt;int&gt; | std_err &lt;dbl&gt; | .config &lt;chr&gt; |\n",
       "|---|---|---|---|---|---|---|---|---|\n",
       "| 1 |  50 | 2 | accuracy | binary | 0.87005929 | 10 | 0.006559558 | Preprocessor1_Model01 |\n",
       "| 1 |  50 | 2 | recall   | binary | 0.03333333 | 10 | 0.033333333 | Preprocessor1_Model01 |\n",
       "| 2 |  50 | 2 | accuracy | binary | 0.90485837 | 10 | 0.021051959 | Preprocessor1_Model02 |\n",
       "| 2 |  50 | 2 | recall   | binary | 0.45000000 | 10 | 0.099535960 | Preprocessor1_Model02 |\n",
       "| 3 |  50 | 2 | accuracy | binary | 0.92188735 | 10 | 0.017961742 | Preprocessor1_Model03 |\n",
       "| 3 |  50 | 2 | recall   | binary | 0.58333333 | 10 | 0.083333333 | Preprocessor1_Model03 |\n",
       "| 4 |  50 | 2 | accuracy | binary | 0.90503953 | 10 | 0.019996547 | Preprocessor1_Model04 |\n",
       "| 4 |  50 | 2 | recall   | binary | 0.51666667 | 10 | 0.087665188 | Preprocessor1_Model04 |\n",
       "| 1 | 100 | 2 | accuracy | binary | 0.87025692 | 10 | 0.006242265 | Preprocessor1_Model05 |\n",
       "| 1 | 100 | 2 | recall   | binary | 0.00000000 | 10 | 0.000000000 | Preprocessor1_Model05 |\n",
       "| 2 | 100 | 2 | accuracy | binary | 0.90032938 | 10 | 0.020497816 | Preprocessor1_Model06 |\n",
       "| 2 | 100 | 2 | recall   | binary | 0.45000000 | 10 | 0.070492097 | Preprocessor1_Model06 |\n",
       "| 3 | 100 | 2 | accuracy | binary | 0.90920619 | 10 | 0.014993480 | Preprocessor1_Model07 |\n",
       "| 3 | 100 | 2 | recall   | binary | 0.51666667 | 10 | 0.072222222 | Preprocessor1_Model07 |\n",
       "| 4 | 100 | 2 | accuracy | binary | 0.90920619 | 10 | 0.013520224 | Preprocessor1_Model08 |\n",
       "| 4 | 100 | 2 | recall   | binary | 0.51666667 | 10 | 0.052411006 | Preprocessor1_Model08 |\n",
       "| 1 | 150 | 2 | accuracy | binary | 0.86571146 | 10 | 0.004516722 | Preprocessor1_Model09 |\n",
       "| 1 | 150 | 2 | recall   | binary | 0.00000000 | 10 | 0.000000000 | Preprocessor1_Model09 |\n",
       "| 2 | 150 | 2 | accuracy | binary | 0.90902503 | 10 | 0.021870874 | Preprocessor1_Model10 |\n",
       "| 2 | 150 | 2 | recall   | binary | 0.48333333 | 10 | 0.087665188 | Preprocessor1_Model10 |\n",
       "| 3 | 150 | 2 | accuracy | binary | 0.91790184 | 10 | 0.017545195 | Preprocessor1_Model11 |\n",
       "| 3 | 150 | 2 | recall   | binary | 0.58333333 | 10 | 0.083333333 | Preprocessor1_Model11 |\n",
       "| 4 | 150 | 2 | accuracy | binary | 0.90069170 | 10 | 0.018083591 | Preprocessor1_Model12 |\n",
       "| 4 | 150 | 2 | recall   | binary | 0.48333333 | 10 | 0.072222222 | Preprocessor1_Model12 |\n",
       "| 1 | 200 | 2 | accuracy | binary | 0.87460474 | 10 | 0.003897842 | Preprocessor1_Model13 |\n",
       "| 1 | 200 | 2 | recall   | binary | 0.00000000 | 10 | 0.000000000 | Preprocessor1_Model13 |\n",
       "| 2 | 200 | 2 | accuracy | binary | 0.90902503 | 10 | 0.018769955 | Preprocessor1_Model14 |\n",
       "| 2 | 200 | 2 | recall   | binary | 0.51666667 | 10 | 0.072222222 | Preprocessor1_Model14 |\n",
       "| 3 | 200 | 2 | accuracy | binary | 0.90902503 | 10 | 0.018769955 | Preprocessor1_Model15 |\n",
       "| 3 | 200 | 2 | recall   | binary | 0.51666667 | 10 | 0.072222222 | Preprocessor1_Model15 |\n",
       "| ⋮ | ⋮ | ⋮ | ⋮ | ⋮ | ⋮ | ⋮ | ⋮ | ⋮ |\n",
       "| 2 |  50 | 10 | accuracy | binary | 0.8874671 | 10 | 0.020492761 | Preprocessor1_Model66 |\n",
       "| 2 |  50 | 10 | recall   | binary | 0.3166667 | 10 | 0.094444444 | Preprocessor1_Model66 |\n",
       "| 3 |  50 | 10 | accuracy | binary | 0.8789526 | 10 | 0.017884513 | Preprocessor1_Model67 |\n",
       "| 3 |  50 | 10 | recall   | binary | 0.2833333 | 10 | 0.086245415 | Preprocessor1_Model67 |\n",
       "| 4 |  50 | 10 | accuracy | binary | 0.8919960 | 10 | 0.015897751 | Preprocessor1_Model68 |\n",
       "| 4 |  50 | 10 | recall   | binary | 0.3500000 | 10 | 0.087665188 | Preprocessor1_Model68 |\n",
       "| 1 | 100 | 10 | accuracy | binary | 0.8702569 | 10 | 0.006242265 | Preprocessor1_Model69 |\n",
       "| 1 | 100 | 10 | recall   | binary | 0.0000000 | 10 | 0.000000000 | Preprocessor1_Model69 |\n",
       "| 2 | 100 | 10 | accuracy | binary | 0.8874671 | 10 | 0.017144367 | Preprocessor1_Model70 |\n",
       "| 2 | 100 | 10 | recall   | binary | 0.2833333 | 10 | 0.086245415 | Preprocessor1_Model70 |\n",
       "| 3 | 100 | 10 | accuracy | binary | 0.8959816 | 10 | 0.016085645 | Preprocessor1_Model71 |\n",
       "| 3 | 100 | 10 | recall   | binary | 0.3500000 | 10 | 0.087665188 | Preprocessor1_Model71 |\n",
       "| 4 | 100 | 10 | accuracy | binary | 0.9003294 | 10 | 0.025103792 | Preprocessor1_Model72 |\n",
       "| 4 | 100 | 10 | recall   | binary | 0.4500000 | 10 | 0.086245415 | Preprocessor1_Model72 |\n",
       "| 1 | 150 | 10 | accuracy | binary | 0.8746047 | 10 | 0.003897842 | Preprocessor1_Model73 |\n",
       "| 1 | 150 | 10 | recall   | binary | 0.0000000 | 10 | 0.000000000 | Preprocessor1_Model73 |\n",
       "| 2 | 150 | 10 | accuracy | binary | 0.8874671 | 10 | 0.015872030 | Preprocessor1_Model74 |\n",
       "| 2 | 150 | 10 | recall   | binary | 0.2833333 | 10 | 0.086245415 | Preprocessor1_Model74 |\n",
       "| 3 | 150 | 10 | accuracy | binary | 0.8961627 | 10 | 0.021470321 | Preprocessor1_Model75 |\n",
       "| 3 | 150 | 10 | recall   | binary | 0.3833333 | 10 | 0.093128081 | Preprocessor1_Model75 |\n",
       "| 4 | 150 | 10 | accuracy | binary | 0.8961627 | 10 | 0.016055848 | Preprocessor1_Model76 |\n",
       "| 4 | 150 | 10 | recall   | binary | 0.4166667 | 10 | 0.083333333 | Preprocessor1_Model76 |\n",
       "| 1 | 200 | 10 | accuracy | binary | 0.8702569 | 10 | 0.006242265 | Preprocessor1_Model77 |\n",
       "| 1 | 200 | 10 | recall   | binary | 0.0000000 | 10 | 0.000000000 | Preprocessor1_Model77 |\n",
       "| 2 | 200 | 10 | accuracy | binary | 0.8916337 | 10 | 0.019677158 | Preprocessor1_Model78 |\n",
       "| 2 | 200 | 10 | recall   | binary | 0.3500000 | 10 | 0.087665188 | Preprocessor1_Model78 |\n",
       "| 3 | 200 | 10 | accuracy | binary | 0.8916337 | 10 | 0.019677158 | Preprocessor1_Model79 |\n",
       "| 3 | 200 | 10 | recall   | binary | 0.3500000 | 10 | 0.087665188 | Preprocessor1_Model79 |\n",
       "| 4 | 200 | 10 | accuracy | binary | 0.8919960 | 10 | 0.017168182 | Preprocessor1_Model80 |\n",
       "| 4 | 200 | 10 | recall   | binary | 0.3500000 | 10 | 0.100768651 | Preprocessor1_Model80 |\n",
       "\n"
      ],
      "text/plain": [
       "    mtry trees min_n .metric  .estimator mean       n  std_err    \n",
       "1   1     50   2     accuracy binary     0.87005929 10 0.006559558\n",
       "2   1     50   2     recall   binary     0.03333333 10 0.033333333\n",
       "3   2     50   2     accuracy binary     0.90485837 10 0.021051959\n",
       "4   2     50   2     recall   binary     0.45000000 10 0.099535960\n",
       "5   3     50   2     accuracy binary     0.92188735 10 0.017961742\n",
       "6   3     50   2     recall   binary     0.58333333 10 0.083333333\n",
       "7   4     50   2     accuracy binary     0.90503953 10 0.019996547\n",
       "8   4     50   2     recall   binary     0.51666667 10 0.087665188\n",
       "9   1    100   2     accuracy binary     0.87025692 10 0.006242265\n",
       "10  1    100   2     recall   binary     0.00000000 10 0.000000000\n",
       "11  2    100   2     accuracy binary     0.90032938 10 0.020497816\n",
       "12  2    100   2     recall   binary     0.45000000 10 0.070492097\n",
       "13  3    100   2     accuracy binary     0.90920619 10 0.014993480\n",
       "14  3    100   2     recall   binary     0.51666667 10 0.072222222\n",
       "15  4    100   2     accuracy binary     0.90920619 10 0.013520224\n",
       "16  4    100   2     recall   binary     0.51666667 10 0.052411006\n",
       "17  1    150   2     accuracy binary     0.86571146 10 0.004516722\n",
       "18  1    150   2     recall   binary     0.00000000 10 0.000000000\n",
       "19  2    150   2     accuracy binary     0.90902503 10 0.021870874\n",
       "20  2    150   2     recall   binary     0.48333333 10 0.087665188\n",
       "21  3    150   2     accuracy binary     0.91790184 10 0.017545195\n",
       "22  3    150   2     recall   binary     0.58333333 10 0.083333333\n",
       "23  4    150   2     accuracy binary     0.90069170 10 0.018083591\n",
       "24  4    150   2     recall   binary     0.48333333 10 0.072222222\n",
       "25  1    200   2     accuracy binary     0.87460474 10 0.003897842\n",
       "26  1    200   2     recall   binary     0.00000000 10 0.000000000\n",
       "27  2    200   2     accuracy binary     0.90902503 10 0.018769955\n",
       "28  2    200   2     recall   binary     0.51666667 10 0.072222222\n",
       "29  3    200   2     accuracy binary     0.90902503 10 0.018769955\n",
       "30  3    200   2     recall   binary     0.51666667 10 0.072222222\n",
       "⋮   ⋮    ⋮     ⋮     ⋮        ⋮          ⋮          ⋮  ⋮          \n",
       "131 2     50   10    accuracy binary     0.8874671  10 0.020492761\n",
       "132 2     50   10    recall   binary     0.3166667  10 0.094444444\n",
       "133 3     50   10    accuracy binary     0.8789526  10 0.017884513\n",
       "134 3     50   10    recall   binary     0.2833333  10 0.086245415\n",
       "135 4     50   10    accuracy binary     0.8919960  10 0.015897751\n",
       "136 4     50   10    recall   binary     0.3500000  10 0.087665188\n",
       "137 1    100   10    accuracy binary     0.8702569  10 0.006242265\n",
       "138 1    100   10    recall   binary     0.0000000  10 0.000000000\n",
       "139 2    100   10    accuracy binary     0.8874671  10 0.017144367\n",
       "140 2    100   10    recall   binary     0.2833333  10 0.086245415\n",
       "141 3    100   10    accuracy binary     0.8959816  10 0.016085645\n",
       "142 3    100   10    recall   binary     0.3500000  10 0.087665188\n",
       "143 4    100   10    accuracy binary     0.9003294  10 0.025103792\n",
       "144 4    100   10    recall   binary     0.4500000  10 0.086245415\n",
       "145 1    150   10    accuracy binary     0.8746047  10 0.003897842\n",
       "146 1    150   10    recall   binary     0.0000000  10 0.000000000\n",
       "147 2    150   10    accuracy binary     0.8874671  10 0.015872030\n",
       "148 2    150   10    recall   binary     0.2833333  10 0.086245415\n",
       "149 3    150   10    accuracy binary     0.8961627  10 0.021470321\n",
       "150 3    150   10    recall   binary     0.3833333  10 0.093128081\n",
       "151 4    150   10    accuracy binary     0.8961627  10 0.016055848\n",
       "152 4    150   10    recall   binary     0.4166667  10 0.083333333\n",
       "153 1    200   10    accuracy binary     0.8702569  10 0.006242265\n",
       "154 1    200   10    recall   binary     0.0000000  10 0.000000000\n",
       "155 2    200   10    accuracy binary     0.8916337  10 0.019677158\n",
       "156 2    200   10    recall   binary     0.3500000  10 0.087665188\n",
       "157 3    200   10    accuracy binary     0.8916337  10 0.019677158\n",
       "158 3    200   10    recall   binary     0.3500000  10 0.087665188\n",
       "159 4    200   10    accuracy binary     0.8919960  10 0.017168182\n",
       "160 4    200   10    recall   binary     0.3500000  10 0.100768651\n",
       "    .config              \n",
       "1   Preprocessor1_Model01\n",
       "2   Preprocessor1_Model01\n",
       "3   Preprocessor1_Model02\n",
       "4   Preprocessor1_Model02\n",
       "5   Preprocessor1_Model03\n",
       "6   Preprocessor1_Model03\n",
       "7   Preprocessor1_Model04\n",
       "8   Preprocessor1_Model04\n",
       "9   Preprocessor1_Model05\n",
       "10  Preprocessor1_Model05\n",
       "11  Preprocessor1_Model06\n",
       "12  Preprocessor1_Model06\n",
       "13  Preprocessor1_Model07\n",
       "14  Preprocessor1_Model07\n",
       "15  Preprocessor1_Model08\n",
       "16  Preprocessor1_Model08\n",
       "17  Preprocessor1_Model09\n",
       "18  Preprocessor1_Model09\n",
       "19  Preprocessor1_Model10\n",
       "20  Preprocessor1_Model10\n",
       "21  Preprocessor1_Model11\n",
       "22  Preprocessor1_Model11\n",
       "23  Preprocessor1_Model12\n",
       "24  Preprocessor1_Model12\n",
       "25  Preprocessor1_Model13\n",
       "26  Preprocessor1_Model13\n",
       "27  Preprocessor1_Model14\n",
       "28  Preprocessor1_Model14\n",
       "29  Preprocessor1_Model15\n",
       "30  Preprocessor1_Model15\n",
       "⋮   ⋮                    \n",
       "131 Preprocessor1_Model66\n",
       "132 Preprocessor1_Model66\n",
       "133 Preprocessor1_Model67\n",
       "134 Preprocessor1_Model67\n",
       "135 Preprocessor1_Model68\n",
       "136 Preprocessor1_Model68\n",
       "137 Preprocessor1_Model69\n",
       "138 Preprocessor1_Model69\n",
       "139 Preprocessor1_Model70\n",
       "140 Preprocessor1_Model70\n",
       "141 Preprocessor1_Model71\n",
       "142 Preprocessor1_Model71\n",
       "143 Preprocessor1_Model72\n",
       "144 Preprocessor1_Model72\n",
       "145 Preprocessor1_Model73\n",
       "146 Preprocessor1_Model73\n",
       "147 Preprocessor1_Model74\n",
       "148 Preprocessor1_Model74\n",
       "149 Preprocessor1_Model75\n",
       "150 Preprocessor1_Model75\n",
       "151 Preprocessor1_Model76\n",
       "152 Preprocessor1_Model76\n",
       "153 Preprocessor1_Model77\n",
       "154 Preprocessor1_Model77\n",
       "155 Preprocessor1_Model78\n",
       "156 Preprocessor1_Model78\n",
       "157 Preprocessor1_Model79\n",
       "158 Preprocessor1_Model79\n",
       "159 Preprocessor1_Model80\n",
       "160 Preprocessor1_Model80"
      ]
     },
     "metadata": {},
     "output_type": "display_data"
    }
   ],
   "source": [
    "library(ranger)\n",
    "\n",
    "# Semente para reprodutibilidade\n",
    "set.seed(1234)\n",
    "\n",
    "# Pré-processamento\n",
    "lung_cancer_recipe <- \n",
    "  recipe(LUNG_CANCER ~ ., data = df_training) %>%\n",
    "  step_mutate(GENDER = factor(GENDER)) %>%  # Converte GENDER em fator\n",
    "  step_zv(all_predictors())     # Remove variáveis com zero variância\n",
    "\n",
    "# Especificando o modelo de random forest com hiperparâmetros a serem ajustados\n",
    "rf_mod <- \n",
    "  rand_forest(mtry = tune(), min_n = tune(), trees = tune()) %>% \n",
    "  set_engine('ranger') %>%  \n",
    "  set_mode('classification')\n",
    "\n",
    "# Workflow\n",
    "rf_workflow <- \n",
    "  workflow() %>% \n",
    "  add_model(rf_mod) %>% \n",
    "  add_recipe(lung_cancer_recipe)\n",
    "\n",
    "# Definindo a grade de hiperparâmetros com grid_regular\n",
    "rf_grid <- grid_regular(\n",
    "  mtry(range = c(1, 4)),\n",
    "  trees(range = c(50, 200)),\n",
    "  min_n(range = c(2, 10)),\n",
    "  levels = c(4, 4, 5)  # Definindo o número de níveis para cada hiperparâmetro\n",
    ")\n",
    "\n",
    "# Validação cruzada\n",
    "folds <- vfold_cv(df_training, v = 10, strata = LUNG_CANCER)\n",
    "\n",
    "# Definindo as métricas\n",
    "metrics <- metric_set(recall, accuracy)\n",
    "\n",
    "# Ajustando do modelo com validação cruzada e tunagem de hiperparâmetros\n",
    "tune_results <- tune_grid(\n",
    "  rf_workflow,\n",
    "  resamples = folds,\n",
    "  grid = rf_grid,\n",
    "  metrics = metrics,  \n",
    "  control = control_grid(save_pred = TRUE)\n",
    ")\n",
    "\n",
    "# Visualizando os resultados\n",
    "tune_results %>% collect_metrics()"
   ]
  },
  {
   "cell_type": "code",
   "execution_count": 69,
   "id": "5968885a",
   "metadata": {},
   "outputs": [
    {
     "data": {
      "text/html": [
       "<table class=\"dataframe\">\n",
       "<caption>A tibble: 1 × 9</caption>\n",
       "<thead>\n",
       "\t<tr><th scope=col>mtry</th><th scope=col>trees</th><th scope=col>min_n</th><th scope=col>.metric</th><th scope=col>.estimator</th><th scope=col>mean</th><th scope=col>n</th><th scope=col>std_err</th><th scope=col>.config</th></tr>\n",
       "\t<tr><th scope=col>&lt;int&gt;</th><th scope=col>&lt;int&gt;</th><th scope=col>&lt;int&gt;</th><th scope=col>&lt;chr&gt;</th><th scope=col>&lt;chr&gt;</th><th scope=col>&lt;dbl&gt;</th><th scope=col>&lt;int&gt;</th><th scope=col>&lt;dbl&gt;</th><th scope=col>&lt;chr&gt;</th></tr>\n",
       "</thead>\n",
       "<tbody>\n",
       "\t<tr><td>3</td><td>50</td><td>2</td><td>recall</td><td>binary</td><td>0.5833333</td><td>10</td><td>0.08333333</td><td>Preprocessor1_Model03</td></tr>\n",
       "</tbody>\n",
       "</table>\n"
      ],
      "text/latex": [
       "A tibble: 1 × 9\n",
       "\\begin{tabular}{lllllllll}\n",
       " mtry & trees & min\\_n & .metric & .estimator & mean & n & std\\_err & .config\\\\\n",
       " <int> & <int> & <int> & <chr> & <chr> & <dbl> & <int> & <dbl> & <chr>\\\\\n",
       "\\hline\n",
       "\t 3 & 50 & 2 & recall & binary & 0.5833333 & 10 & 0.08333333 & Preprocessor1\\_Model03\\\\\n",
       "\\end{tabular}\n"
      ],
      "text/markdown": [
       "\n",
       "A tibble: 1 × 9\n",
       "\n",
       "| mtry &lt;int&gt; | trees &lt;int&gt; | min_n &lt;int&gt; | .metric &lt;chr&gt; | .estimator &lt;chr&gt; | mean &lt;dbl&gt; | n &lt;int&gt; | std_err &lt;dbl&gt; | .config &lt;chr&gt; |\n",
       "|---|---|---|---|---|---|---|---|---|\n",
       "| 3 | 50 | 2 | recall | binary | 0.5833333 | 10 | 0.08333333 | Preprocessor1_Model03 |\n",
       "\n"
      ],
      "text/plain": [
       "  mtry trees min_n .metric .estimator mean      n  std_err   \n",
       "1 3    50    2     recall  binary     0.5833333 10 0.08333333\n",
       "  .config              \n",
       "1 Preprocessor1_Model03"
      ]
     },
     "metadata": {},
     "output_type": "display_data"
    }
   ],
   "source": [
    "# Coletando e exibindo as métricas dos melhores parâmetros\n",
    "best_metrics <- show_best(tune_results, metric = 'recall', n = 1)\n",
    "best_metrics"
   ]
  },
  {
   "cell_type": "markdown",
   "id": "64e6d0b3",
   "metadata": {},
   "source": [
    "### Vamos tentar diminuir o erro corrigindo o desbalanceamento de classes"
   ]
  },
  {
   "cell_type": "code",
   "execution_count": 70,
   "id": "a87308e9",
   "metadata": {},
   "outputs": [
    {
     "data": {
      "text/plain": [
       "\n",
       " NO YES \n",
       " 29 202 "
      ]
     },
     "metadata": {},
     "output_type": "display_data"
    }
   ],
   "source": [
    "table(df_training$LUNG_CANCER)"
   ]
  },
  {
   "cell_type": "code",
   "execution_count": 71,
   "id": "06981c0e",
   "metadata": {},
   "outputs": [
    {
     "data": {
      "text/html": [
       "7.96551724137931"
      ],
      "text/latex": [
       "7.96551724137931"
      ],
      "text/markdown": [
       "7.96551724137931"
      ],
      "text/plain": [
       "[1] 7.965517"
      ]
     },
     "metadata": {},
     "output_type": "display_data"
    },
    {
     "data": {
      "text/html": [
       "1.14356435643564"
      ],
      "text/latex": [
       "1.14356435643564"
      ],
      "text/markdown": [
       "1.14356435643564"
      ],
      "text/plain": [
       "[1] 1.143564"
      ]
     },
     "metadata": {},
     "output_type": "display_data"
    }
   ],
   "source": [
    "peso_no <- 231 / 29\n",
    "peso_yes <- 231 / 202\n",
    "\n",
    "peso_no\n",
    "peso_yes"
   ]
  },
  {
   "cell_type": "code",
   "execution_count": 72,
   "id": "a5476782",
   "metadata": {},
   "outputs": [],
   "source": [
    "# Adicionando pesos de importância ao conjunto de dados\n",
    "df_training <- df_training %>%\n",
    "  mutate(\n",
    "    case_wts = ifelse(LUNG_CANCER == 'NO', peso_no, peso_yes),\n",
    "    case_wts = importance_weights(case_wts)\n",
    "  )"
   ]
  },
  {
   "cell_type": "code",
   "execution_count": 73,
   "id": "d5b31b00",
   "metadata": {},
   "outputs": [
    {
     "data": {
      "text/html": [
       "<table class=\"dataframe\">\n",
       "<caption>A tibble: 6 × 17</caption>\n",
       "<thead>\n",
       "\t<tr><th scope=col>GENDER</th><th scope=col>AGE</th><th scope=col>SMOKING</th><th scope=col>YELLOW_FINGERS</th><th scope=col>ANXIETY</th><th scope=col>PEER_PRESSURE</th><th scope=col>CHRONIC DISEASE</th><th scope=col>FATIGUE</th><th scope=col>ALLERGY</th><th scope=col>WHEEZING</th><th scope=col>ALCOHOL CONSUMING</th><th scope=col>COUGHING</th><th scope=col>SHORTNESS OF BREATH</th><th scope=col>SWALLOWING DIFFICULTY</th><th scope=col>CHEST PAIN</th><th scope=col>LUNG_CANCER</th><th scope=col>case_wts</th></tr>\n",
       "\t<tr><th scope=col>&lt;chr&gt;</th><th scope=col>&lt;dbl&gt;</th><th scope=col>&lt;dbl&gt;</th><th scope=col>&lt;dbl&gt;</th><th scope=col>&lt;dbl&gt;</th><th scope=col>&lt;dbl&gt;</th><th scope=col>&lt;dbl&gt;</th><th scope=col>&lt;dbl&gt;</th><th scope=col>&lt;dbl&gt;</th><th scope=col>&lt;dbl&gt;</th><th scope=col>&lt;dbl&gt;</th><th scope=col>&lt;dbl&gt;</th><th scope=col>&lt;dbl&gt;</th><th scope=col>&lt;dbl&gt;</th><th scope=col>&lt;dbl&gt;</th><th scope=col>&lt;fct&gt;</th><th scope=col>&lt;imp_wts&gt;</th></tr>\n",
       "</thead>\n",
       "<tbody>\n",
       "\t<tr><td>F</td><td>63</td><td>1</td><td>2</td><td>1</td><td>1</td><td>1</td><td>1</td><td>1</td><td>2</td><td>1</td><td>2</td><td>2</td><td>1</td><td>1</td><td>NO</td><td>7.965517</td></tr>\n",
       "\t<tr><td>F</td><td>68</td><td>2</td><td>1</td><td>2</td><td>1</td><td>1</td><td>2</td><td>1</td><td>1</td><td>1</td><td>1</td><td>1</td><td>1</td><td>1</td><td>NO</td><td>7.965517</td></tr>\n",
       "\t<tr><td>F</td><td>60</td><td>2</td><td>1</td><td>1</td><td>1</td><td>1</td><td>2</td><td>1</td><td>1</td><td>1</td><td>1</td><td>2</td><td>1</td><td>1</td><td>NO</td><td>7.965517</td></tr>\n",
       "\t<tr><td>F</td><td>61</td><td>1</td><td>1</td><td>1</td><td>1</td><td>2</td><td>2</td><td>1</td><td>1</td><td>1</td><td>1</td><td>2</td><td>1</td><td>1</td><td>NO</td><td>7.965517</td></tr>\n",
       "\t<tr><td>F</td><td>21</td><td>2</td><td>1</td><td>1</td><td>1</td><td>2</td><td>2</td><td>2</td><td>1</td><td>1</td><td>1</td><td>2</td><td>1</td><td>1</td><td>NO</td><td>7.965517</td></tr>\n",
       "\t<tr><td>M</td><td>69</td><td>1</td><td>1</td><td>1</td><td>2</td><td>1</td><td>2</td><td>1</td><td>2</td><td>1</td><td>2</td><td>2</td><td>1</td><td>2</td><td>NO</td><td>7.965517</td></tr>\n",
       "</tbody>\n",
       "</table>\n"
      ],
      "text/latex": [
       "A tibble: 6 × 17\n",
       "\\begin{tabular}{lllllllllllllllll}\n",
       " GENDER & AGE & SMOKING & YELLOW\\_FINGERS & ANXIETY & PEER\\_PRESSURE & CHRONIC DISEASE & FATIGUE & ALLERGY & WHEEZING & ALCOHOL CONSUMING & COUGHING & SHORTNESS OF BREATH & SWALLOWING DIFFICULTY & CHEST PAIN & LUNG\\_CANCER & case\\_wts\\\\\n",
       " <chr> & <dbl> & <dbl> & <dbl> & <dbl> & <dbl> & <dbl> & <dbl> & <dbl> & <dbl> & <dbl> & <dbl> & <dbl> & <dbl> & <dbl> & <fct> & <imp\\_wts>\\\\\n",
       "\\hline\n",
       "\t F & 63 & 1 & 2 & 1 & 1 & 1 & 1 & 1 & 2 & 1 & 2 & 2 & 1 & 1 & NO & 7.965517\\\\\n",
       "\t F & 68 & 2 & 1 & 2 & 1 & 1 & 2 & 1 & 1 & 1 & 1 & 1 & 1 & 1 & NO & 7.965517\\\\\n",
       "\t F & 60 & 2 & 1 & 1 & 1 & 1 & 2 & 1 & 1 & 1 & 1 & 2 & 1 & 1 & NO & 7.965517\\\\\n",
       "\t F & 61 & 1 & 1 & 1 & 1 & 2 & 2 & 1 & 1 & 1 & 1 & 2 & 1 & 1 & NO & 7.965517\\\\\n",
       "\t F & 21 & 2 & 1 & 1 & 1 & 2 & 2 & 2 & 1 & 1 & 1 & 2 & 1 & 1 & NO & 7.965517\\\\\n",
       "\t M & 69 & 1 & 1 & 1 & 2 & 1 & 2 & 1 & 2 & 1 & 2 & 2 & 1 & 2 & NO & 7.965517\\\\\n",
       "\\end{tabular}\n"
      ],
      "text/markdown": [
       "\n",
       "A tibble: 6 × 17\n",
       "\n",
       "| GENDER &lt;chr&gt; | AGE &lt;dbl&gt; | SMOKING &lt;dbl&gt; | YELLOW_FINGERS &lt;dbl&gt; | ANXIETY &lt;dbl&gt; | PEER_PRESSURE &lt;dbl&gt; | CHRONIC DISEASE &lt;dbl&gt; | FATIGUE &lt;dbl&gt; | ALLERGY &lt;dbl&gt; | WHEEZING &lt;dbl&gt; | ALCOHOL CONSUMING &lt;dbl&gt; | COUGHING &lt;dbl&gt; | SHORTNESS OF BREATH &lt;dbl&gt; | SWALLOWING DIFFICULTY &lt;dbl&gt; | CHEST PAIN &lt;dbl&gt; | LUNG_CANCER &lt;fct&gt; | case_wts &lt;imp_wts&gt; |\n",
       "|---|---|---|---|---|---|---|---|---|---|---|---|---|---|---|---|---|\n",
       "| F | 63 | 1 | 2 | 1 | 1 | 1 | 1 | 1 | 2 | 1 | 2 | 2 | 1 | 1 | NO | 7.965517 |\n",
       "| F | 68 | 2 | 1 | 2 | 1 | 1 | 2 | 1 | 1 | 1 | 1 | 1 | 1 | 1 | NO | 7.965517 |\n",
       "| F | 60 | 2 | 1 | 1 | 1 | 1 | 2 | 1 | 1 | 1 | 1 | 2 | 1 | 1 | NO | 7.965517 |\n",
       "| F | 61 | 1 | 1 | 1 | 1 | 2 | 2 | 1 | 1 | 1 | 1 | 2 | 1 | 1 | NO | 7.965517 |\n",
       "| F | 21 | 2 | 1 | 1 | 1 | 2 | 2 | 2 | 1 | 1 | 1 | 2 | 1 | 1 | NO | 7.965517 |\n",
       "| M | 69 | 1 | 1 | 1 | 2 | 1 | 2 | 1 | 2 | 1 | 2 | 2 | 1 | 2 | NO | 7.965517 |\n",
       "\n"
      ],
      "text/plain": [
       "  GENDER AGE SMOKING YELLOW_FINGERS ANXIETY PEER_PRESSURE CHRONIC DISEASE\n",
       "1 F      63  1       2              1       1             1              \n",
       "2 F      68  2       1              2       1             1              \n",
       "3 F      60  2       1              1       1             1              \n",
       "4 F      61  1       1              1       1             2              \n",
       "5 F      21  2       1              1       1             2              \n",
       "6 M      69  1       1              1       2             1              \n",
       "  FATIGUE ALLERGY WHEEZING ALCOHOL CONSUMING COUGHING SHORTNESS OF BREATH\n",
       "1 1       1       2        1                 2        2                  \n",
       "2 2       1       1        1                 1        1                  \n",
       "3 2       1       1        1                 1        2                  \n",
       "4 2       1       1        1                 1        2                  \n",
       "5 2       2       1        1                 1        2                  \n",
       "6 2       1       2        1                 2        2                  \n",
       "  SWALLOWING DIFFICULTY CHEST PAIN LUNG_CANCER case_wts\n",
       "1 1                     1          NO          7.965517\n",
       "2 1                     1          NO          7.965517\n",
       "3 1                     1          NO          7.965517\n",
       "4 1                     1          NO          7.965517\n",
       "5 1                     1          NO          7.965517\n",
       "6 1                     2          NO          7.965517"
      ]
     },
     "metadata": {},
     "output_type": "display_data"
    }
   ],
   "source": [
    "head(df_training)"
   ]
  },
  {
   "cell_type": "code",
   "execution_count": 74,
   "id": "d2db0c2a",
   "metadata": {},
   "outputs": [
    {
     "data": {
      "text/html": [
       "<table class=\"dataframe\">\n",
       "<caption>A tibble: 160 × 9</caption>\n",
       "<thead>\n",
       "\t<tr><th scope=col>mtry</th><th scope=col>trees</th><th scope=col>min_n</th><th scope=col>.metric</th><th scope=col>.estimator</th><th scope=col>mean</th><th scope=col>n</th><th scope=col>std_err</th><th scope=col>.config</th></tr>\n",
       "\t<tr><th scope=col>&lt;int&gt;</th><th scope=col>&lt;int&gt;</th><th scope=col>&lt;int&gt;</th><th scope=col>&lt;chr&gt;</th><th scope=col>&lt;chr&gt;</th><th scope=col>&lt;dbl&gt;</th><th scope=col>&lt;int&gt;</th><th scope=col>&lt;dbl&gt;</th><th scope=col>&lt;chr&gt;</th></tr>\n",
       "</thead>\n",
       "<tbody>\n",
       "\t<tr><td>1</td><td> 50</td><td>2</td><td>accuracy</td><td>binary</td><td>0.8997530</td><td>10</td><td>0.02287741</td><td>Preprocessor1_Model01</td></tr>\n",
       "\t<tr><td>1</td><td> 50</td><td>2</td><td>recall  </td><td>binary</td><td>0.7500000</td><td>10</td><td>0.07556373</td><td>Preprocessor1_Model01</td></tr>\n",
       "\t<tr><td>2</td><td> 50</td><td>2</td><td>accuracy</td><td>binary</td><td>0.8999506</td><td>10</td><td>0.02267387</td><td>Preprocessor1_Model02</td></tr>\n",
       "\t<tr><td>2</td><td> 50</td><td>2</td><td>recall  </td><td>binary</td><td>0.7166667</td><td>10</td><td>0.08624541</td><td>Preprocessor1_Model02</td></tr>\n",
       "\t<tr><td>3</td><td> 50</td><td>2</td><td>accuracy</td><td>binary</td><td>0.9001318</td><td>10</td><td>0.02603058</td><td>Preprocessor1_Model03</td></tr>\n",
       "\t<tr><td>3</td><td> 50</td><td>2</td><td>recall  </td><td>binary</td><td>0.6500000</td><td>10</td><td>0.08766519</td><td>Preprocessor1_Model03</td></tr>\n",
       "\t<tr><td>4</td><td> 50</td><td>2</td><td>accuracy</td><td>binary</td><td>0.8916337</td><td>10</td><td>0.02528317</td><td>Preprocessor1_Model04</td></tr>\n",
       "\t<tr><td>4</td><td> 50</td><td>2</td><td>recall  </td><td>binary</td><td>0.6833333</td><td>10</td><td>0.09444444</td><td>Preprocessor1_Model04</td></tr>\n",
       "\t<tr><td>1</td><td>100</td><td>2</td><td>accuracy</td><td>binary</td><td>0.8959816</td><td>10</td><td>0.02165151</td><td>Preprocessor1_Model05</td></tr>\n",
       "\t<tr><td>1</td><td>100</td><td>2</td><td>recall  </td><td>binary</td><td>0.7666667</td><td>10</td><td>0.08678055</td><td>Preprocessor1_Model05</td></tr>\n",
       "\t<tr><td>2</td><td>100</td><td>2</td><td>accuracy</td><td>binary</td><td>0.8912549</td><td>10</td><td>0.02627627</td><td>Preprocessor1_Model06</td></tr>\n",
       "\t<tr><td>2</td><td>100</td><td>2</td><td>recall  </td><td>binary</td><td>0.6833333</td><td>10</td><td>0.08031573</td><td>Preprocessor1_Model06</td></tr>\n",
       "\t<tr><td>3</td><td>100</td><td>2</td><td>accuracy</td><td>binary</td><td>0.8912549</td><td>10</td><td>0.02627627</td><td>Preprocessor1_Model07</td></tr>\n",
       "\t<tr><td>3</td><td>100</td><td>2</td><td>recall  </td><td>binary</td><td>0.6833333</td><td>10</td><td>0.08031573</td><td>Preprocessor1_Model07</td></tr>\n",
       "\t<tr><td>4</td><td>100</td><td>2</td><td>accuracy</td><td>binary</td><td>0.9003294</td><td>10</td><td>0.02825301</td><td>Preprocessor1_Model08</td></tr>\n",
       "\t<tr><td>4</td><td>100</td><td>2</td><td>recall  </td><td>binary</td><td>0.6500000</td><td>10</td><td>0.08766519</td><td>Preprocessor1_Model08</td></tr>\n",
       "\t<tr><td>1</td><td>150</td><td>2</td><td>accuracy</td><td>binary</td><td>0.9001318</td><td>10</td><td>0.02162293</td><td>Preprocessor1_Model09</td></tr>\n",
       "\t<tr><td>1</td><td>150</td><td>2</td><td>recall  </td><td>binary</td><td>0.7166667</td><td>10</td><td>0.08624541</td><td>Preprocessor1_Model09</td></tr>\n",
       "\t<tr><td>2</td><td>150</td><td>2</td><td>accuracy</td><td>binary</td><td>0.8999506</td><td>10</td><td>0.02267387</td><td>Preprocessor1_Model10</td></tr>\n",
       "\t<tr><td>2</td><td>150</td><td>2</td><td>recall  </td><td>binary</td><td>0.7166667</td><td>10</td><td>0.08624541</td><td>Preprocessor1_Model10</td></tr>\n",
       "\t<tr><td>3</td><td>150</td><td>2</td><td>accuracy</td><td>binary</td><td>0.8914361</td><td>10</td><td>0.02775361</td><td>Preprocessor1_Model11</td></tr>\n",
       "\t<tr><td>3</td><td>150</td><td>2</td><td>recall  </td><td>binary</td><td>0.6500000</td><td>10</td><td>0.08766519</td><td>Preprocessor1_Model11</td></tr>\n",
       "\t<tr><td>4</td><td>150</td><td>2</td><td>accuracy</td><td>binary</td><td>0.8870883</td><td>10</td><td>0.02177692</td><td>Preprocessor1_Model12</td></tr>\n",
       "\t<tr><td>4</td><td>150</td><td>2</td><td>recall  </td><td>binary</td><td>0.6500000</td><td>10</td><td>0.08766519</td><td>Preprocessor1_Model12</td></tr>\n",
       "\t<tr><td>1</td><td>200</td><td>2</td><td>accuracy</td><td>binary</td><td>0.9086462</td><td>10</td><td>0.02722210</td><td>Preprocessor1_Model13</td></tr>\n",
       "\t<tr><td>1</td><td>200</td><td>2</td><td>recall  </td><td>binary</td><td>0.7166667</td><td>10</td><td>0.08624541</td><td>Preprocessor1_Model13</td></tr>\n",
       "\t<tr><td>2</td><td>200</td><td>2</td><td>accuracy</td><td>binary</td><td>0.8956028</td><td>10</td><td>0.02281135</td><td>Preprocessor1_Model14</td></tr>\n",
       "\t<tr><td>2</td><td>200</td><td>2</td><td>recall  </td><td>binary</td><td>0.6833333</td><td>10</td><td>0.08031573</td><td>Preprocessor1_Model14</td></tr>\n",
       "\t<tr><td>3</td><td>200</td><td>2</td><td>accuracy</td><td>binary</td><td>0.8999506</td><td>10</td><td>0.02445650</td><td>Preprocessor1_Model15</td></tr>\n",
       "\t<tr><td>3</td><td>200</td><td>2</td><td>recall  </td><td>binary</td><td>0.6833333</td><td>10</td><td>0.08031573</td><td>Preprocessor1_Model15</td></tr>\n",
       "\t<tr><td>⋮</td><td>⋮</td><td>⋮</td><td>⋮</td><td>⋮</td><td>⋮</td><td>⋮</td><td>⋮</td><td>⋮</td></tr>\n",
       "\t<tr><td>2</td><td> 50</td><td>10</td><td>accuracy</td><td>binary</td><td>0.8956028</td><td>10</td><td>0.02281135</td><td>Preprocessor1_Model66</td></tr>\n",
       "\t<tr><td>2</td><td> 50</td><td>10</td><td>recall  </td><td>binary</td><td>0.6833333</td><td>10</td><td>0.08031573</td><td>Preprocessor1_Model66</td></tr>\n",
       "\t<tr><td>3</td><td> 50</td><td>10</td><td>accuracy</td><td>binary</td><td>0.8958004</td><td>10</td><td>0.02613821</td><td>Preprocessor1_Model67</td></tr>\n",
       "\t<tr><td>3</td><td> 50</td><td>10</td><td>recall  </td><td>binary</td><td>0.6833333</td><td>10</td><td>0.08031573</td><td>Preprocessor1_Model67</td></tr>\n",
       "\t<tr><td>4</td><td> 50</td><td>10</td><td>accuracy</td><td>binary</td><td>0.8912385</td><td>10</td><td>0.02715056</td><td>Preprocessor1_Model68</td></tr>\n",
       "\t<tr><td>4</td><td> 50</td><td>10</td><td>recall  </td><td>binary</td><td>0.6500000</td><td>10</td><td>0.08766519</td><td>Preprocessor1_Model68</td></tr>\n",
       "\t<tr><td>1</td><td>100</td><td>10</td><td>accuracy</td><td>binary</td><td>0.8954051</td><td>10</td><td>0.02719335</td><td>Preprocessor1_Model69</td></tr>\n",
       "\t<tr><td>1</td><td>100</td><td>10</td><td>recall  </td><td>binary</td><td>0.7166667</td><td>10</td><td>0.08624541</td><td>Preprocessor1_Model69</td></tr>\n",
       "\t<tr><td>2</td><td>100</td><td>10</td><td>accuracy</td><td>binary</td><td>0.8954051</td><td>10</td><td>0.02390495</td><td>Preprocessor1_Model70</td></tr>\n",
       "\t<tr><td>2</td><td>100</td><td>10</td><td>recall  </td><td>binary</td><td>0.7166667</td><td>10</td><td>0.08624541</td><td>Preprocessor1_Model70</td></tr>\n",
       "\t<tr><td>3</td><td>100</td><td>10</td><td>accuracy</td><td>binary</td><td>0.8956028</td><td>10</td><td>0.02187121</td><td>Preprocessor1_Model71</td></tr>\n",
       "\t<tr><td>3</td><td>100</td><td>10</td><td>recall  </td><td>binary</td><td>0.7166667</td><td>10</td><td>0.08624541</td><td>Preprocessor1_Model71</td></tr>\n",
       "\t<tr><td>4</td><td>100</td><td>10</td><td>accuracy</td><td>binary</td><td>0.8957839</td><td>10</td><td>0.02449497</td><td>Preprocessor1_Model72</td></tr>\n",
       "\t<tr><td>4</td><td>100</td><td>10</td><td>recall  </td><td>binary</td><td>0.6500000</td><td>10</td><td>0.08766519</td><td>Preprocessor1_Model72</td></tr>\n",
       "\t<tr><td>1</td><td>150</td><td>10</td><td>accuracy</td><td>binary</td><td>0.9086462</td><td>10</td><td>0.02722210</td><td>Preprocessor1_Model73</td></tr>\n",
       "\t<tr><td>1</td><td>150</td><td>10</td><td>recall  </td><td>binary</td><td>0.7166667</td><td>10</td><td>0.08624541</td><td>Preprocessor1_Model73</td></tr>\n",
       "\t<tr><td>2</td><td>150</td><td>10</td><td>accuracy</td><td>binary</td><td>0.8999506</td><td>10</td><td>0.02267387</td><td>Preprocessor1_Model74</td></tr>\n",
       "\t<tr><td>2</td><td>150</td><td>10</td><td>recall  </td><td>binary</td><td>0.7166667</td><td>10</td><td>0.08624541</td><td>Preprocessor1_Model74</td></tr>\n",
       "\t<tr><td>3</td><td>150</td><td>10</td><td>accuracy</td><td>binary</td><td>0.8912549</td><td>10</td><td>0.02782909</td><td>Preprocessor1_Model75</td></tr>\n",
       "\t<tr><td>3</td><td>150</td><td>10</td><td>recall  </td><td>binary</td><td>0.7166667</td><td>10</td><td>0.08624541</td><td>Preprocessor1_Model75</td></tr>\n",
       "\t<tr><td>4</td><td>150</td><td>10</td><td>accuracy</td><td>binary</td><td>0.8870883</td><td>10</td><td>0.02615863</td><td>Preprocessor1_Model76</td></tr>\n",
       "\t<tr><td>4</td><td>150</td><td>10</td><td>recall  </td><td>binary</td><td>0.6500000</td><td>10</td><td>0.08766519</td><td>Preprocessor1_Model76</td></tr>\n",
       "\t<tr><td>1</td><td>200</td><td>10</td><td>accuracy</td><td>binary</td><td>0.9090250</td><td>10</td><td>0.02702560</td><td>Preprocessor1_Model77</td></tr>\n",
       "\t<tr><td>1</td><td>200</td><td>10</td><td>recall  </td><td>binary</td><td>0.7666667</td><td>10</td><td>0.08678055</td><td>Preprocessor1_Model77</td></tr>\n",
       "\t<tr><td>2</td><td>200</td><td>10</td><td>accuracy</td><td>binary</td><td>0.8956028</td><td>10</td><td>0.02281135</td><td>Preprocessor1_Model78</td></tr>\n",
       "\t<tr><td>2</td><td>200</td><td>10</td><td>recall  </td><td>binary</td><td>0.6833333</td><td>10</td><td>0.08031573</td><td>Preprocessor1_Model78</td></tr>\n",
       "\t<tr><td>3</td><td>200</td><td>10</td><td>accuracy</td><td>binary</td><td>0.8914361</td><td>10</td><td>0.02619632</td><td>Preprocessor1_Model79</td></tr>\n",
       "\t<tr><td>3</td><td>200</td><td>10</td><td>recall  </td><td>binary</td><td>0.6833333</td><td>10</td><td>0.09444444</td><td>Preprocessor1_Model79</td></tr>\n",
       "\t<tr><td>4</td><td>200</td><td>10</td><td>accuracy</td><td>binary</td><td>0.8868906</td><td>10</td><td>0.02711068</td><td>Preprocessor1_Model80</td></tr>\n",
       "\t<tr><td>4</td><td>200</td><td>10</td><td>recall  </td><td>binary</td><td>0.6833333</td><td>10</td><td>0.09444444</td><td>Preprocessor1_Model80</td></tr>\n",
       "</tbody>\n",
       "</table>\n"
      ],
      "text/latex": [
       "A tibble: 160 × 9\n",
       "\\begin{tabular}{lllllllll}\n",
       " mtry & trees & min\\_n & .metric & .estimator & mean & n & std\\_err & .config\\\\\n",
       " <int> & <int> & <int> & <chr> & <chr> & <dbl> & <int> & <dbl> & <chr>\\\\\n",
       "\\hline\n",
       "\t 1 &  50 & 2 & accuracy & binary & 0.8997530 & 10 & 0.02287741 & Preprocessor1\\_Model01\\\\\n",
       "\t 1 &  50 & 2 & recall   & binary & 0.7500000 & 10 & 0.07556373 & Preprocessor1\\_Model01\\\\\n",
       "\t 2 &  50 & 2 & accuracy & binary & 0.8999506 & 10 & 0.02267387 & Preprocessor1\\_Model02\\\\\n",
       "\t 2 &  50 & 2 & recall   & binary & 0.7166667 & 10 & 0.08624541 & Preprocessor1\\_Model02\\\\\n",
       "\t 3 &  50 & 2 & accuracy & binary & 0.9001318 & 10 & 0.02603058 & Preprocessor1\\_Model03\\\\\n",
       "\t 3 &  50 & 2 & recall   & binary & 0.6500000 & 10 & 0.08766519 & Preprocessor1\\_Model03\\\\\n",
       "\t 4 &  50 & 2 & accuracy & binary & 0.8916337 & 10 & 0.02528317 & Preprocessor1\\_Model04\\\\\n",
       "\t 4 &  50 & 2 & recall   & binary & 0.6833333 & 10 & 0.09444444 & Preprocessor1\\_Model04\\\\\n",
       "\t 1 & 100 & 2 & accuracy & binary & 0.8959816 & 10 & 0.02165151 & Preprocessor1\\_Model05\\\\\n",
       "\t 1 & 100 & 2 & recall   & binary & 0.7666667 & 10 & 0.08678055 & Preprocessor1\\_Model05\\\\\n",
       "\t 2 & 100 & 2 & accuracy & binary & 0.8912549 & 10 & 0.02627627 & Preprocessor1\\_Model06\\\\\n",
       "\t 2 & 100 & 2 & recall   & binary & 0.6833333 & 10 & 0.08031573 & Preprocessor1\\_Model06\\\\\n",
       "\t 3 & 100 & 2 & accuracy & binary & 0.8912549 & 10 & 0.02627627 & Preprocessor1\\_Model07\\\\\n",
       "\t 3 & 100 & 2 & recall   & binary & 0.6833333 & 10 & 0.08031573 & Preprocessor1\\_Model07\\\\\n",
       "\t 4 & 100 & 2 & accuracy & binary & 0.9003294 & 10 & 0.02825301 & Preprocessor1\\_Model08\\\\\n",
       "\t 4 & 100 & 2 & recall   & binary & 0.6500000 & 10 & 0.08766519 & Preprocessor1\\_Model08\\\\\n",
       "\t 1 & 150 & 2 & accuracy & binary & 0.9001318 & 10 & 0.02162293 & Preprocessor1\\_Model09\\\\\n",
       "\t 1 & 150 & 2 & recall   & binary & 0.7166667 & 10 & 0.08624541 & Preprocessor1\\_Model09\\\\\n",
       "\t 2 & 150 & 2 & accuracy & binary & 0.8999506 & 10 & 0.02267387 & Preprocessor1\\_Model10\\\\\n",
       "\t 2 & 150 & 2 & recall   & binary & 0.7166667 & 10 & 0.08624541 & Preprocessor1\\_Model10\\\\\n",
       "\t 3 & 150 & 2 & accuracy & binary & 0.8914361 & 10 & 0.02775361 & Preprocessor1\\_Model11\\\\\n",
       "\t 3 & 150 & 2 & recall   & binary & 0.6500000 & 10 & 0.08766519 & Preprocessor1\\_Model11\\\\\n",
       "\t 4 & 150 & 2 & accuracy & binary & 0.8870883 & 10 & 0.02177692 & Preprocessor1\\_Model12\\\\\n",
       "\t 4 & 150 & 2 & recall   & binary & 0.6500000 & 10 & 0.08766519 & Preprocessor1\\_Model12\\\\\n",
       "\t 1 & 200 & 2 & accuracy & binary & 0.9086462 & 10 & 0.02722210 & Preprocessor1\\_Model13\\\\\n",
       "\t 1 & 200 & 2 & recall   & binary & 0.7166667 & 10 & 0.08624541 & Preprocessor1\\_Model13\\\\\n",
       "\t 2 & 200 & 2 & accuracy & binary & 0.8956028 & 10 & 0.02281135 & Preprocessor1\\_Model14\\\\\n",
       "\t 2 & 200 & 2 & recall   & binary & 0.6833333 & 10 & 0.08031573 & Preprocessor1\\_Model14\\\\\n",
       "\t 3 & 200 & 2 & accuracy & binary & 0.8999506 & 10 & 0.02445650 & Preprocessor1\\_Model15\\\\\n",
       "\t 3 & 200 & 2 & recall   & binary & 0.6833333 & 10 & 0.08031573 & Preprocessor1\\_Model15\\\\\n",
       "\t ⋮ & ⋮ & ⋮ & ⋮ & ⋮ & ⋮ & ⋮ & ⋮ & ⋮\\\\\n",
       "\t 2 &  50 & 10 & accuracy & binary & 0.8956028 & 10 & 0.02281135 & Preprocessor1\\_Model66\\\\\n",
       "\t 2 &  50 & 10 & recall   & binary & 0.6833333 & 10 & 0.08031573 & Preprocessor1\\_Model66\\\\\n",
       "\t 3 &  50 & 10 & accuracy & binary & 0.8958004 & 10 & 0.02613821 & Preprocessor1\\_Model67\\\\\n",
       "\t 3 &  50 & 10 & recall   & binary & 0.6833333 & 10 & 0.08031573 & Preprocessor1\\_Model67\\\\\n",
       "\t 4 &  50 & 10 & accuracy & binary & 0.8912385 & 10 & 0.02715056 & Preprocessor1\\_Model68\\\\\n",
       "\t 4 &  50 & 10 & recall   & binary & 0.6500000 & 10 & 0.08766519 & Preprocessor1\\_Model68\\\\\n",
       "\t 1 & 100 & 10 & accuracy & binary & 0.8954051 & 10 & 0.02719335 & Preprocessor1\\_Model69\\\\\n",
       "\t 1 & 100 & 10 & recall   & binary & 0.7166667 & 10 & 0.08624541 & Preprocessor1\\_Model69\\\\\n",
       "\t 2 & 100 & 10 & accuracy & binary & 0.8954051 & 10 & 0.02390495 & Preprocessor1\\_Model70\\\\\n",
       "\t 2 & 100 & 10 & recall   & binary & 0.7166667 & 10 & 0.08624541 & Preprocessor1\\_Model70\\\\\n",
       "\t 3 & 100 & 10 & accuracy & binary & 0.8956028 & 10 & 0.02187121 & Preprocessor1\\_Model71\\\\\n",
       "\t 3 & 100 & 10 & recall   & binary & 0.7166667 & 10 & 0.08624541 & Preprocessor1\\_Model71\\\\\n",
       "\t 4 & 100 & 10 & accuracy & binary & 0.8957839 & 10 & 0.02449497 & Preprocessor1\\_Model72\\\\\n",
       "\t 4 & 100 & 10 & recall   & binary & 0.6500000 & 10 & 0.08766519 & Preprocessor1\\_Model72\\\\\n",
       "\t 1 & 150 & 10 & accuracy & binary & 0.9086462 & 10 & 0.02722210 & Preprocessor1\\_Model73\\\\\n",
       "\t 1 & 150 & 10 & recall   & binary & 0.7166667 & 10 & 0.08624541 & Preprocessor1\\_Model73\\\\\n",
       "\t 2 & 150 & 10 & accuracy & binary & 0.8999506 & 10 & 0.02267387 & Preprocessor1\\_Model74\\\\\n",
       "\t 2 & 150 & 10 & recall   & binary & 0.7166667 & 10 & 0.08624541 & Preprocessor1\\_Model74\\\\\n",
       "\t 3 & 150 & 10 & accuracy & binary & 0.8912549 & 10 & 0.02782909 & Preprocessor1\\_Model75\\\\\n",
       "\t 3 & 150 & 10 & recall   & binary & 0.7166667 & 10 & 0.08624541 & Preprocessor1\\_Model75\\\\\n",
       "\t 4 & 150 & 10 & accuracy & binary & 0.8870883 & 10 & 0.02615863 & Preprocessor1\\_Model76\\\\\n",
       "\t 4 & 150 & 10 & recall   & binary & 0.6500000 & 10 & 0.08766519 & Preprocessor1\\_Model76\\\\\n",
       "\t 1 & 200 & 10 & accuracy & binary & 0.9090250 & 10 & 0.02702560 & Preprocessor1\\_Model77\\\\\n",
       "\t 1 & 200 & 10 & recall   & binary & 0.7666667 & 10 & 0.08678055 & Preprocessor1\\_Model77\\\\\n",
       "\t 2 & 200 & 10 & accuracy & binary & 0.8956028 & 10 & 0.02281135 & Preprocessor1\\_Model78\\\\\n",
       "\t 2 & 200 & 10 & recall   & binary & 0.6833333 & 10 & 0.08031573 & Preprocessor1\\_Model78\\\\\n",
       "\t 3 & 200 & 10 & accuracy & binary & 0.8914361 & 10 & 0.02619632 & Preprocessor1\\_Model79\\\\\n",
       "\t 3 & 200 & 10 & recall   & binary & 0.6833333 & 10 & 0.09444444 & Preprocessor1\\_Model79\\\\\n",
       "\t 4 & 200 & 10 & accuracy & binary & 0.8868906 & 10 & 0.02711068 & Preprocessor1\\_Model80\\\\\n",
       "\t 4 & 200 & 10 & recall   & binary & 0.6833333 & 10 & 0.09444444 & Preprocessor1\\_Model80\\\\\n",
       "\\end{tabular}\n"
      ],
      "text/markdown": [
       "\n",
       "A tibble: 160 × 9\n",
       "\n",
       "| mtry &lt;int&gt; | trees &lt;int&gt; | min_n &lt;int&gt; | .metric &lt;chr&gt; | .estimator &lt;chr&gt; | mean &lt;dbl&gt; | n &lt;int&gt; | std_err &lt;dbl&gt; | .config &lt;chr&gt; |\n",
       "|---|---|---|---|---|---|---|---|---|\n",
       "| 1 |  50 | 2 | accuracy | binary | 0.8997530 | 10 | 0.02287741 | Preprocessor1_Model01 |\n",
       "| 1 |  50 | 2 | recall   | binary | 0.7500000 | 10 | 0.07556373 | Preprocessor1_Model01 |\n",
       "| 2 |  50 | 2 | accuracy | binary | 0.8999506 | 10 | 0.02267387 | Preprocessor1_Model02 |\n",
       "| 2 |  50 | 2 | recall   | binary | 0.7166667 | 10 | 0.08624541 | Preprocessor1_Model02 |\n",
       "| 3 |  50 | 2 | accuracy | binary | 0.9001318 | 10 | 0.02603058 | Preprocessor1_Model03 |\n",
       "| 3 |  50 | 2 | recall   | binary | 0.6500000 | 10 | 0.08766519 | Preprocessor1_Model03 |\n",
       "| 4 |  50 | 2 | accuracy | binary | 0.8916337 | 10 | 0.02528317 | Preprocessor1_Model04 |\n",
       "| 4 |  50 | 2 | recall   | binary | 0.6833333 | 10 | 0.09444444 | Preprocessor1_Model04 |\n",
       "| 1 | 100 | 2 | accuracy | binary | 0.8959816 | 10 | 0.02165151 | Preprocessor1_Model05 |\n",
       "| 1 | 100 | 2 | recall   | binary | 0.7666667 | 10 | 0.08678055 | Preprocessor1_Model05 |\n",
       "| 2 | 100 | 2 | accuracy | binary | 0.8912549 | 10 | 0.02627627 | Preprocessor1_Model06 |\n",
       "| 2 | 100 | 2 | recall   | binary | 0.6833333 | 10 | 0.08031573 | Preprocessor1_Model06 |\n",
       "| 3 | 100 | 2 | accuracy | binary | 0.8912549 | 10 | 0.02627627 | Preprocessor1_Model07 |\n",
       "| 3 | 100 | 2 | recall   | binary | 0.6833333 | 10 | 0.08031573 | Preprocessor1_Model07 |\n",
       "| 4 | 100 | 2 | accuracy | binary | 0.9003294 | 10 | 0.02825301 | Preprocessor1_Model08 |\n",
       "| 4 | 100 | 2 | recall   | binary | 0.6500000 | 10 | 0.08766519 | Preprocessor1_Model08 |\n",
       "| 1 | 150 | 2 | accuracy | binary | 0.9001318 | 10 | 0.02162293 | Preprocessor1_Model09 |\n",
       "| 1 | 150 | 2 | recall   | binary | 0.7166667 | 10 | 0.08624541 | Preprocessor1_Model09 |\n",
       "| 2 | 150 | 2 | accuracy | binary | 0.8999506 | 10 | 0.02267387 | Preprocessor1_Model10 |\n",
       "| 2 | 150 | 2 | recall   | binary | 0.7166667 | 10 | 0.08624541 | Preprocessor1_Model10 |\n",
       "| 3 | 150 | 2 | accuracy | binary | 0.8914361 | 10 | 0.02775361 | Preprocessor1_Model11 |\n",
       "| 3 | 150 | 2 | recall   | binary | 0.6500000 | 10 | 0.08766519 | Preprocessor1_Model11 |\n",
       "| 4 | 150 | 2 | accuracy | binary | 0.8870883 | 10 | 0.02177692 | Preprocessor1_Model12 |\n",
       "| 4 | 150 | 2 | recall   | binary | 0.6500000 | 10 | 0.08766519 | Preprocessor1_Model12 |\n",
       "| 1 | 200 | 2 | accuracy | binary | 0.9086462 | 10 | 0.02722210 | Preprocessor1_Model13 |\n",
       "| 1 | 200 | 2 | recall   | binary | 0.7166667 | 10 | 0.08624541 | Preprocessor1_Model13 |\n",
       "| 2 | 200 | 2 | accuracy | binary | 0.8956028 | 10 | 0.02281135 | Preprocessor1_Model14 |\n",
       "| 2 | 200 | 2 | recall   | binary | 0.6833333 | 10 | 0.08031573 | Preprocessor1_Model14 |\n",
       "| 3 | 200 | 2 | accuracy | binary | 0.8999506 | 10 | 0.02445650 | Preprocessor1_Model15 |\n",
       "| 3 | 200 | 2 | recall   | binary | 0.6833333 | 10 | 0.08031573 | Preprocessor1_Model15 |\n",
       "| ⋮ | ⋮ | ⋮ | ⋮ | ⋮ | ⋮ | ⋮ | ⋮ | ⋮ |\n",
       "| 2 |  50 | 10 | accuracy | binary | 0.8956028 | 10 | 0.02281135 | Preprocessor1_Model66 |\n",
       "| 2 |  50 | 10 | recall   | binary | 0.6833333 | 10 | 0.08031573 | Preprocessor1_Model66 |\n",
       "| 3 |  50 | 10 | accuracy | binary | 0.8958004 | 10 | 0.02613821 | Preprocessor1_Model67 |\n",
       "| 3 |  50 | 10 | recall   | binary | 0.6833333 | 10 | 0.08031573 | Preprocessor1_Model67 |\n",
       "| 4 |  50 | 10 | accuracy | binary | 0.8912385 | 10 | 0.02715056 | Preprocessor1_Model68 |\n",
       "| 4 |  50 | 10 | recall   | binary | 0.6500000 | 10 | 0.08766519 | Preprocessor1_Model68 |\n",
       "| 1 | 100 | 10 | accuracy | binary | 0.8954051 | 10 | 0.02719335 | Preprocessor1_Model69 |\n",
       "| 1 | 100 | 10 | recall   | binary | 0.7166667 | 10 | 0.08624541 | Preprocessor1_Model69 |\n",
       "| 2 | 100 | 10 | accuracy | binary | 0.8954051 | 10 | 0.02390495 | Preprocessor1_Model70 |\n",
       "| 2 | 100 | 10 | recall   | binary | 0.7166667 | 10 | 0.08624541 | Preprocessor1_Model70 |\n",
       "| 3 | 100 | 10 | accuracy | binary | 0.8956028 | 10 | 0.02187121 | Preprocessor1_Model71 |\n",
       "| 3 | 100 | 10 | recall   | binary | 0.7166667 | 10 | 0.08624541 | Preprocessor1_Model71 |\n",
       "| 4 | 100 | 10 | accuracy | binary | 0.8957839 | 10 | 0.02449497 | Preprocessor1_Model72 |\n",
       "| 4 | 100 | 10 | recall   | binary | 0.6500000 | 10 | 0.08766519 | Preprocessor1_Model72 |\n",
       "| 1 | 150 | 10 | accuracy | binary | 0.9086462 | 10 | 0.02722210 | Preprocessor1_Model73 |\n",
       "| 1 | 150 | 10 | recall   | binary | 0.7166667 | 10 | 0.08624541 | Preprocessor1_Model73 |\n",
       "| 2 | 150 | 10 | accuracy | binary | 0.8999506 | 10 | 0.02267387 | Preprocessor1_Model74 |\n",
       "| 2 | 150 | 10 | recall   | binary | 0.7166667 | 10 | 0.08624541 | Preprocessor1_Model74 |\n",
       "| 3 | 150 | 10 | accuracy | binary | 0.8912549 | 10 | 0.02782909 | Preprocessor1_Model75 |\n",
       "| 3 | 150 | 10 | recall   | binary | 0.7166667 | 10 | 0.08624541 | Preprocessor1_Model75 |\n",
       "| 4 | 150 | 10 | accuracy | binary | 0.8870883 | 10 | 0.02615863 | Preprocessor1_Model76 |\n",
       "| 4 | 150 | 10 | recall   | binary | 0.6500000 | 10 | 0.08766519 | Preprocessor1_Model76 |\n",
       "| 1 | 200 | 10 | accuracy | binary | 0.9090250 | 10 | 0.02702560 | Preprocessor1_Model77 |\n",
       "| 1 | 200 | 10 | recall   | binary | 0.7666667 | 10 | 0.08678055 | Preprocessor1_Model77 |\n",
       "| 2 | 200 | 10 | accuracy | binary | 0.8956028 | 10 | 0.02281135 | Preprocessor1_Model78 |\n",
       "| 2 | 200 | 10 | recall   | binary | 0.6833333 | 10 | 0.08031573 | Preprocessor1_Model78 |\n",
       "| 3 | 200 | 10 | accuracy | binary | 0.8914361 | 10 | 0.02619632 | Preprocessor1_Model79 |\n",
       "| 3 | 200 | 10 | recall   | binary | 0.6833333 | 10 | 0.09444444 | Preprocessor1_Model79 |\n",
       "| 4 | 200 | 10 | accuracy | binary | 0.8868906 | 10 | 0.02711068 | Preprocessor1_Model80 |\n",
       "| 4 | 200 | 10 | recall   | binary | 0.6833333 | 10 | 0.09444444 | Preprocessor1_Model80 |\n",
       "\n"
      ],
      "text/plain": [
       "    mtry trees min_n .metric  .estimator mean      n  std_err   \n",
       "1   1     50   2     accuracy binary     0.8997530 10 0.02287741\n",
       "2   1     50   2     recall   binary     0.7500000 10 0.07556373\n",
       "3   2     50   2     accuracy binary     0.8999506 10 0.02267387\n",
       "4   2     50   2     recall   binary     0.7166667 10 0.08624541\n",
       "5   3     50   2     accuracy binary     0.9001318 10 0.02603058\n",
       "6   3     50   2     recall   binary     0.6500000 10 0.08766519\n",
       "7   4     50   2     accuracy binary     0.8916337 10 0.02528317\n",
       "8   4     50   2     recall   binary     0.6833333 10 0.09444444\n",
       "9   1    100   2     accuracy binary     0.8959816 10 0.02165151\n",
       "10  1    100   2     recall   binary     0.7666667 10 0.08678055\n",
       "11  2    100   2     accuracy binary     0.8912549 10 0.02627627\n",
       "12  2    100   2     recall   binary     0.6833333 10 0.08031573\n",
       "13  3    100   2     accuracy binary     0.8912549 10 0.02627627\n",
       "14  3    100   2     recall   binary     0.6833333 10 0.08031573\n",
       "15  4    100   2     accuracy binary     0.9003294 10 0.02825301\n",
       "16  4    100   2     recall   binary     0.6500000 10 0.08766519\n",
       "17  1    150   2     accuracy binary     0.9001318 10 0.02162293\n",
       "18  1    150   2     recall   binary     0.7166667 10 0.08624541\n",
       "19  2    150   2     accuracy binary     0.8999506 10 0.02267387\n",
       "20  2    150   2     recall   binary     0.7166667 10 0.08624541\n",
       "21  3    150   2     accuracy binary     0.8914361 10 0.02775361\n",
       "22  3    150   2     recall   binary     0.6500000 10 0.08766519\n",
       "23  4    150   2     accuracy binary     0.8870883 10 0.02177692\n",
       "24  4    150   2     recall   binary     0.6500000 10 0.08766519\n",
       "25  1    200   2     accuracy binary     0.9086462 10 0.02722210\n",
       "26  1    200   2     recall   binary     0.7166667 10 0.08624541\n",
       "27  2    200   2     accuracy binary     0.8956028 10 0.02281135\n",
       "28  2    200   2     recall   binary     0.6833333 10 0.08031573\n",
       "29  3    200   2     accuracy binary     0.8999506 10 0.02445650\n",
       "30  3    200   2     recall   binary     0.6833333 10 0.08031573\n",
       "⋮   ⋮    ⋮     ⋮     ⋮        ⋮          ⋮         ⋮  ⋮         \n",
       "131 2     50   10    accuracy binary     0.8956028 10 0.02281135\n",
       "132 2     50   10    recall   binary     0.6833333 10 0.08031573\n",
       "133 3     50   10    accuracy binary     0.8958004 10 0.02613821\n",
       "134 3     50   10    recall   binary     0.6833333 10 0.08031573\n",
       "135 4     50   10    accuracy binary     0.8912385 10 0.02715056\n",
       "136 4     50   10    recall   binary     0.6500000 10 0.08766519\n",
       "137 1    100   10    accuracy binary     0.8954051 10 0.02719335\n",
       "138 1    100   10    recall   binary     0.7166667 10 0.08624541\n",
       "139 2    100   10    accuracy binary     0.8954051 10 0.02390495\n",
       "140 2    100   10    recall   binary     0.7166667 10 0.08624541\n",
       "141 3    100   10    accuracy binary     0.8956028 10 0.02187121\n",
       "142 3    100   10    recall   binary     0.7166667 10 0.08624541\n",
       "143 4    100   10    accuracy binary     0.8957839 10 0.02449497\n",
       "144 4    100   10    recall   binary     0.6500000 10 0.08766519\n",
       "145 1    150   10    accuracy binary     0.9086462 10 0.02722210\n",
       "146 1    150   10    recall   binary     0.7166667 10 0.08624541\n",
       "147 2    150   10    accuracy binary     0.8999506 10 0.02267387\n",
       "148 2    150   10    recall   binary     0.7166667 10 0.08624541\n",
       "149 3    150   10    accuracy binary     0.8912549 10 0.02782909\n",
       "150 3    150   10    recall   binary     0.7166667 10 0.08624541\n",
       "151 4    150   10    accuracy binary     0.8870883 10 0.02615863\n",
       "152 4    150   10    recall   binary     0.6500000 10 0.08766519\n",
       "153 1    200   10    accuracy binary     0.9090250 10 0.02702560\n",
       "154 1    200   10    recall   binary     0.7666667 10 0.08678055\n",
       "155 2    200   10    accuracy binary     0.8956028 10 0.02281135\n",
       "156 2    200   10    recall   binary     0.6833333 10 0.08031573\n",
       "157 3    200   10    accuracy binary     0.8914361 10 0.02619632\n",
       "158 3    200   10    recall   binary     0.6833333 10 0.09444444\n",
       "159 4    200   10    accuracy binary     0.8868906 10 0.02711068\n",
       "160 4    200   10    recall   binary     0.6833333 10 0.09444444\n",
       "    .config              \n",
       "1   Preprocessor1_Model01\n",
       "2   Preprocessor1_Model01\n",
       "3   Preprocessor1_Model02\n",
       "4   Preprocessor1_Model02\n",
       "5   Preprocessor1_Model03\n",
       "6   Preprocessor1_Model03\n",
       "7   Preprocessor1_Model04\n",
       "8   Preprocessor1_Model04\n",
       "9   Preprocessor1_Model05\n",
       "10  Preprocessor1_Model05\n",
       "11  Preprocessor1_Model06\n",
       "12  Preprocessor1_Model06\n",
       "13  Preprocessor1_Model07\n",
       "14  Preprocessor1_Model07\n",
       "15  Preprocessor1_Model08\n",
       "16  Preprocessor1_Model08\n",
       "17  Preprocessor1_Model09\n",
       "18  Preprocessor1_Model09\n",
       "19  Preprocessor1_Model10\n",
       "20  Preprocessor1_Model10\n",
       "21  Preprocessor1_Model11\n",
       "22  Preprocessor1_Model11\n",
       "23  Preprocessor1_Model12\n",
       "24  Preprocessor1_Model12\n",
       "25  Preprocessor1_Model13\n",
       "26  Preprocessor1_Model13\n",
       "27  Preprocessor1_Model14\n",
       "28  Preprocessor1_Model14\n",
       "29  Preprocessor1_Model15\n",
       "30  Preprocessor1_Model15\n",
       "⋮   ⋮                    \n",
       "131 Preprocessor1_Model66\n",
       "132 Preprocessor1_Model66\n",
       "133 Preprocessor1_Model67\n",
       "134 Preprocessor1_Model67\n",
       "135 Preprocessor1_Model68\n",
       "136 Preprocessor1_Model68\n",
       "137 Preprocessor1_Model69\n",
       "138 Preprocessor1_Model69\n",
       "139 Preprocessor1_Model70\n",
       "140 Preprocessor1_Model70\n",
       "141 Preprocessor1_Model71\n",
       "142 Preprocessor1_Model71\n",
       "143 Preprocessor1_Model72\n",
       "144 Preprocessor1_Model72\n",
       "145 Preprocessor1_Model73\n",
       "146 Preprocessor1_Model73\n",
       "147 Preprocessor1_Model74\n",
       "148 Preprocessor1_Model74\n",
       "149 Preprocessor1_Model75\n",
       "150 Preprocessor1_Model75\n",
       "151 Preprocessor1_Model76\n",
       "152 Preprocessor1_Model76\n",
       "153 Preprocessor1_Model77\n",
       "154 Preprocessor1_Model77\n",
       "155 Preprocessor1_Model78\n",
       "156 Preprocessor1_Model78\n",
       "157 Preprocessor1_Model79\n",
       "158 Preprocessor1_Model79\n",
       "159 Preprocessor1_Model80\n",
       "160 Preprocessor1_Model80"
      ]
     },
     "metadata": {},
     "output_type": "display_data"
    }
   ],
   "source": [
    "# Semente para reprodutibilidade\n",
    "set.seed(1234)\n",
    "\n",
    "# Pré-processamento\n",
    "lung_cancer_recipe <- \n",
    "  recipe(LUNG_CANCER ~ ., data = df_training) %>%\n",
    "  step_mutate(GENDER = factor(GENDER)) %>%  # Converte GENDER em fator\n",
    "  step_zv(all_predictors())     # Remove variáveis com zero variância\n",
    "\n",
    "# Especificando o modelo de random forest com hiperparâmetros a serem ajustados\n",
    "rf_mod <- \n",
    "  rand_forest(mtry = tune(), min_n = tune(), trees = tune()) %>% \n",
    "  set_engine('ranger') %>%  \n",
    "  set_mode('classification')\n",
    "\n",
    "# Criando o workflow e adicionando os pesos de caso\n",
    "rf_workflow <- \n",
    "  workflow() %>% \n",
    "  add_model(rf_mod) %>% \n",
    "  add_recipe(lung_cancer_recipe) %>% \n",
    "  add_case_weights(case_wts)\n",
    "\n",
    "# Definindo a grade de hiperparâmetros com grid_regular\n",
    "rf_grid <- grid_regular(\n",
    "  mtry(range = c(1, 4)),\n",
    "  trees(range = c(50, 200)),\n",
    "  min_n(range = c(2, 10)),\n",
    "  levels = c(4, 4, 5)  # Definindo o número de níveis para cada hiperparâmetro\n",
    ")\n",
    "\n",
    "# Validação cruzada\n",
    "folds <- vfold_cv(df_training, v = 10, strata = LUNG_CANCER)\n",
    "\n",
    "# Definindo as métricas\n",
    "metrics <- metric_set(recall, accuracy)\n",
    "\n",
    "# Ajustando do modelo com validação cruzada e tunagem de hiperparâmetros\n",
    "tune_results <- tune_grid(\n",
    "  rf_workflow,\n",
    "  resamples = folds,\n",
    "  grid = rf_grid,\n",
    "  metrics = metrics,  \n",
    "  control = control_grid(save_pred = TRUE)\n",
    ")\n",
    "\n",
    "# Visualizando os resultados\n",
    "tune_results %>% collect_metrics()"
   ]
  },
  {
   "cell_type": "code",
   "execution_count": 75,
   "id": "4e18936b",
   "metadata": {},
   "outputs": [
    {
     "data": {
      "text/html": [
       "<table class=\"dataframe\">\n",
       "<caption>A tibble: 1 × 9</caption>\n",
       "<thead>\n",
       "\t<tr><th scope=col>mtry</th><th scope=col>trees</th><th scope=col>min_n</th><th scope=col>.metric</th><th scope=col>.estimator</th><th scope=col>mean</th><th scope=col>n</th><th scope=col>std_err</th><th scope=col>.config</th></tr>\n",
       "\t<tr><th scope=col>&lt;int&gt;</th><th scope=col>&lt;int&gt;</th><th scope=col>&lt;int&gt;</th><th scope=col>&lt;chr&gt;</th><th scope=col>&lt;chr&gt;</th><th scope=col>&lt;dbl&gt;</th><th scope=col>&lt;int&gt;</th><th scope=col>&lt;dbl&gt;</th><th scope=col>&lt;chr&gt;</th></tr>\n",
       "</thead>\n",
       "<tbody>\n",
       "\t<tr><td>1</td><td>50</td><td>10</td><td>recall</td><td>binary</td><td>0.7833333</td><td>10</td><td>0.07876359</td><td>Preprocessor1_Model65</td></tr>\n",
       "</tbody>\n",
       "</table>\n"
      ],
      "text/latex": [
       "A tibble: 1 × 9\n",
       "\\begin{tabular}{lllllllll}\n",
       " mtry & trees & min\\_n & .metric & .estimator & mean & n & std\\_err & .config\\\\\n",
       " <int> & <int> & <int> & <chr> & <chr> & <dbl> & <int> & <dbl> & <chr>\\\\\n",
       "\\hline\n",
       "\t 1 & 50 & 10 & recall & binary & 0.7833333 & 10 & 0.07876359 & Preprocessor1\\_Model65\\\\\n",
       "\\end{tabular}\n"
      ],
      "text/markdown": [
       "\n",
       "A tibble: 1 × 9\n",
       "\n",
       "| mtry &lt;int&gt; | trees &lt;int&gt; | min_n &lt;int&gt; | .metric &lt;chr&gt; | .estimator &lt;chr&gt; | mean &lt;dbl&gt; | n &lt;int&gt; | std_err &lt;dbl&gt; | .config &lt;chr&gt; |\n",
       "|---|---|---|---|---|---|---|---|---|\n",
       "| 1 | 50 | 10 | recall | binary | 0.7833333 | 10 | 0.07876359 | Preprocessor1_Model65 |\n",
       "\n"
      ],
      "text/plain": [
       "  mtry trees min_n .metric .estimator mean      n  std_err   \n",
       "1 1    50    10    recall  binary     0.7833333 10 0.07876359\n",
       "  .config              \n",
       "1 Preprocessor1_Model65"
      ]
     },
     "metadata": {},
     "output_type": "display_data"
    }
   ],
   "source": [
    "# Coletando e exibindo as métricas dos melhores parâmetros\n",
    "best_metrics <- show_best(tune_results, metric = 'recall', n = 1)\n",
    "best_metrics"
   ]
  },
  {
   "cell_type": "markdown",
   "id": "57238865",
   "metadata": {},
   "source": [
    "### KNN\n",
    "- O  KNN não permite explicitar os pesos da classe, desta forma, usaremos outras abordagens:\n",
    "- SMOTE gera exemplos sintéticos interpolando entre exemplos existentes da classe minoritária"
   ]
  },
  {
   "cell_type": "code",
   "execution_count": 76,
   "id": "4ee9f802",
   "metadata": {},
   "outputs": [
    {
     "data": {
      "text/html": [
       "<table class=\"dataframe\">\n",
       "<caption>A tibble: 126 × 8</caption>\n",
       "<thead>\n",
       "\t<tr><th scope=col>neighbors</th><th scope=col>weight_func</th><th scope=col>.metric</th><th scope=col>.estimator</th><th scope=col>mean</th><th scope=col>n</th><th scope=col>std_err</th><th scope=col>.config</th></tr>\n",
       "\t<tr><th scope=col>&lt;int&gt;</th><th scope=col>&lt;chr&gt;</th><th scope=col>&lt;chr&gt;</th><th scope=col>&lt;chr&gt;</th><th scope=col>&lt;dbl&gt;</th><th scope=col>&lt;int&gt;</th><th scope=col>&lt;dbl&gt;</th><th scope=col>&lt;chr&gt;</th></tr>\n",
       "</thead>\n",
       "<tbody>\n",
       "\t<tr><td> 2</td><td>epanechnikov</td><td>accuracy </td><td>binary</td><td>0.9001318</td><td>10</td><td>0.01479631</td><td>Preprocessor1_Model01</td></tr>\n",
       "\t<tr><td> 2</td><td>epanechnikov</td><td>precision</td><td>binary</td><td>0.6016667</td><td>10</td><td>0.06480979</td><td>Preprocessor1_Model01</td></tr>\n",
       "\t<tr><td> 2</td><td>epanechnikov</td><td>recall   </td><td>binary</td><td>0.7166667</td><td>10</td><td>0.07049210</td><td>Preprocessor1_Model01</td></tr>\n",
       "\t<tr><td> 3</td><td>epanechnikov</td><td>accuracy </td><td>binary</td><td>0.9001318</td><td>10</td><td>0.01479631</td><td>Preprocessor1_Model02</td></tr>\n",
       "\t<tr><td> 3</td><td>epanechnikov</td><td>precision</td><td>binary</td><td>0.6016667</td><td>10</td><td>0.06480979</td><td>Preprocessor1_Model02</td></tr>\n",
       "\t<tr><td> 3</td><td>epanechnikov</td><td>recall   </td><td>binary</td><td>0.7166667</td><td>10</td><td>0.07049210</td><td>Preprocessor1_Model02</td></tr>\n",
       "\t<tr><td> 4</td><td>epanechnikov</td><td>accuracy </td><td>binary</td><td>0.8912385</td><td>10</td><td>0.01668811</td><td>Preprocessor1_Model03</td></tr>\n",
       "\t<tr><td> 4</td><td>epanechnikov</td><td>precision</td><td>binary</td><td>0.5766667</td><td>10</td><td>0.06908574</td><td>Preprocessor1_Model03</td></tr>\n",
       "\t<tr><td> 4</td><td>epanechnikov</td><td>recall   </td><td>binary</td><td>0.7166667</td><td>10</td><td>0.07049210</td><td>Preprocessor1_Model03</td></tr>\n",
       "\t<tr><td> 5</td><td>epanechnikov</td><td>accuracy </td><td>binary</td><td>0.8914196</td><td>10</td><td>0.01524108</td><td>Preprocessor1_Model04</td></tr>\n",
       "\t<tr><td> 5</td><td>epanechnikov</td><td>precision</td><td>binary</td><td>0.5766667</td><td>10</td><td>0.06446360</td><td>Preprocessor1_Model04</td></tr>\n",
       "\t<tr><td> 5</td><td>epanechnikov</td><td>recall   </td><td>binary</td><td>0.7500000</td><td>10</td><td>0.05692750</td><td>Preprocessor1_Model04</td></tr>\n",
       "\t<tr><td> 6</td><td>epanechnikov</td><td>accuracy </td><td>binary</td><td>0.8738307</td><td>10</td><td>0.01718093</td><td>Preprocessor1_Model05</td></tr>\n",
       "\t<tr><td> 6</td><td>epanechnikov</td><td>precision</td><td>binary</td><td>0.5395238</td><td>10</td><td>0.06559628</td><td>Preprocessor1_Model05</td></tr>\n",
       "\t<tr><td> 6</td><td>epanechnikov</td><td>recall   </td><td>binary</td><td>0.7500000</td><td>10</td><td>0.05692750</td><td>Preprocessor1_Model05</td></tr>\n",
       "\t<tr><td> 7</td><td>epanechnikov</td><td>accuracy </td><td>binary</td><td>0.8781785</td><td>10</td><td>0.01636945</td><td>Preprocessor1_Model06</td></tr>\n",
       "\t<tr><td> 7</td><td>epanechnikov</td><td>precision</td><td>binary</td><td>0.5495238</td><td>10</td><td>0.06397515</td><td>Preprocessor1_Model06</td></tr>\n",
       "\t<tr><td> 7</td><td>epanechnikov</td><td>recall   </td><td>binary</td><td>0.7833333</td><td>10</td><td>0.06111111</td><td>Preprocessor1_Model06</td></tr>\n",
       "\t<tr><td> 8</td><td>epanechnikov</td><td>accuracy </td><td>binary</td><td>0.8696640</td><td>10</td><td>0.01764831</td><td>Preprocessor1_Model07</td></tr>\n",
       "\t<tr><td> 8</td><td>epanechnikov</td><td>precision</td><td>binary</td><td>0.5228571</td><td>10</td><td>0.06875343</td><td>Preprocessor1_Model07</td></tr>\n",
       "\t<tr><td> 8</td><td>epanechnikov</td><td>recall   </td><td>binary</td><td>0.7500000</td><td>10</td><td>0.07556373</td><td>Preprocessor1_Model07</td></tr>\n",
       "\t<tr><td> 9</td><td>epanechnikov</td><td>accuracy </td><td>binary</td><td>0.8653162</td><td>10</td><td>0.02035873</td><td>Preprocessor1_Model08</td></tr>\n",
       "\t<tr><td> 9</td><td>epanechnikov</td><td>precision</td><td>binary</td><td>0.4990476</td><td>10</td><td>0.06732779</td><td>Preprocessor1_Model08</td></tr>\n",
       "\t<tr><td> 9</td><td>epanechnikov</td><td>recall   </td><td>binary</td><td>0.8166667</td><td>10</td><td>0.08031573</td><td>Preprocessor1_Model08</td></tr>\n",
       "\t<tr><td>10</td><td>epanechnikov</td><td>accuracy </td><td>binary</td><td>0.8655138</td><td>10</td><td>0.01899487</td><td>Preprocessor1_Model09</td></tr>\n",
       "\t<tr><td>10</td><td>epanechnikov</td><td>precision</td><td>binary</td><td>0.4969048</td><td>10</td><td>0.06544617</td><td>Preprocessor1_Model09</td></tr>\n",
       "\t<tr><td>10</td><td>epanechnikov</td><td>recall   </td><td>binary</td><td>0.8166667</td><td>10</td><td>0.08031573</td><td>Preprocessor1_Model09</td></tr>\n",
       "\t<tr><td>11</td><td>epanechnikov</td><td>accuracy </td><td>binary</td><td>0.8655138</td><td>10</td><td>0.01899487</td><td>Preprocessor1_Model10</td></tr>\n",
       "\t<tr><td>11</td><td>epanechnikov</td><td>precision</td><td>binary</td><td>0.4969048</td><td>10</td><td>0.06544617</td><td>Preprocessor1_Model10</td></tr>\n",
       "\t<tr><td>11</td><td>epanechnikov</td><td>recall   </td><td>binary</td><td>0.8166667</td><td>10</td><td>0.08031573</td><td>Preprocessor1_Model10</td></tr>\n",
       "\t<tr><td>⋮</td><td>⋮</td><td>⋮</td><td>⋮</td><td>⋮</td><td>⋮</td><td>⋮</td><td>⋮</td></tr>\n",
       "\t<tr><td> 6</td><td>triangular</td><td>accuracy </td><td>binary</td><td>0.8783762</td><td>10</td><td>0.01461920</td><td>Preprocessor1_Model33</td></tr>\n",
       "\t<tr><td> 6</td><td>triangular</td><td>precision</td><td>binary</td><td>0.5445238</td><td>10</td><td>0.06285399</td><td>Preprocessor1_Model33</td></tr>\n",
       "\t<tr><td> 6</td><td>triangular</td><td>recall   </td><td>binary</td><td>0.7500000</td><td>10</td><td>0.05692750</td><td>Preprocessor1_Model33</td></tr>\n",
       "\t<tr><td> 7</td><td>triangular</td><td>accuracy </td><td>binary</td><td>0.8738307</td><td>10</td><td>0.01718093</td><td>Preprocessor1_Model34</td></tr>\n",
       "\t<tr><td> 7</td><td>triangular</td><td>precision</td><td>binary</td><td>0.5395238</td><td>10</td><td>0.06559628</td><td>Preprocessor1_Model34</td></tr>\n",
       "\t<tr><td> 7</td><td>triangular</td><td>recall   </td><td>binary</td><td>0.7500000</td><td>10</td><td>0.05692750</td><td>Preprocessor1_Model34</td></tr>\n",
       "\t<tr><td> 8</td><td>triangular</td><td>accuracy </td><td>binary</td><td>0.8696640</td><td>10</td><td>0.01764831</td><td>Preprocessor1_Model35</td></tr>\n",
       "\t<tr><td> 8</td><td>triangular</td><td>precision</td><td>binary</td><td>0.5228571</td><td>10</td><td>0.06875343</td><td>Preprocessor1_Model35</td></tr>\n",
       "\t<tr><td> 8</td><td>triangular</td><td>recall   </td><td>binary</td><td>0.7500000</td><td>10</td><td>0.07556373</td><td>Preprocessor1_Model35</td></tr>\n",
       "\t<tr><td> 9</td><td>triangular</td><td>accuracy </td><td>binary</td><td>0.8609684</td><td>10</td><td>0.01741414</td><td>Preprocessor1_Model36</td></tr>\n",
       "\t<tr><td> 9</td><td>triangular</td><td>precision</td><td>binary</td><td>0.4961905</td><td>10</td><td>0.06771958</td><td>Preprocessor1_Model36</td></tr>\n",
       "\t<tr><td> 9</td><td>triangular</td><td>recall   </td><td>binary</td><td>0.7500000</td><td>10</td><td>0.07556373</td><td>Preprocessor1_Model36</td></tr>\n",
       "\t<tr><td>10</td><td>triangular</td><td>accuracy </td><td>binary</td><td>0.8698617</td><td>10</td><td>0.01848283</td><td>Preprocessor1_Model37</td></tr>\n",
       "\t<tr><td>10</td><td>triangular</td><td>precision</td><td>binary</td><td>0.5040476</td><td>10</td><td>0.06500581</td><td>Preprocessor1_Model37</td></tr>\n",
       "\t<tr><td>10</td><td>triangular</td><td>recall   </td><td>binary</td><td>0.8166667</td><td>10</td><td>0.08031573</td><td>Preprocessor1_Model37</td></tr>\n",
       "\t<tr><td>11</td><td>triangular</td><td>accuracy </td><td>binary</td><td>0.8698617</td><td>10</td><td>0.01848283</td><td>Preprocessor1_Model38</td></tr>\n",
       "\t<tr><td>11</td><td>triangular</td><td>precision</td><td>binary</td><td>0.5040476</td><td>10</td><td>0.06500581</td><td>Preprocessor1_Model38</td></tr>\n",
       "\t<tr><td>11</td><td>triangular</td><td>recall   </td><td>binary</td><td>0.8166667</td><td>10</td><td>0.08031573</td><td>Preprocessor1_Model38</td></tr>\n",
       "\t<tr><td>12</td><td>triangular</td><td>accuracy </td><td>binary</td><td>0.8698617</td><td>10</td><td>0.01848283</td><td>Preprocessor1_Model39</td></tr>\n",
       "\t<tr><td>12</td><td>triangular</td><td>precision</td><td>binary</td><td>0.5040476</td><td>10</td><td>0.06500581</td><td>Preprocessor1_Model39</td></tr>\n",
       "\t<tr><td>12</td><td>triangular</td><td>recall   </td><td>binary</td><td>0.8166667</td><td>10</td><td>0.08031573</td><td>Preprocessor1_Model39</td></tr>\n",
       "\t<tr><td>13</td><td>triangular</td><td>accuracy </td><td>binary</td><td>0.8698617</td><td>10</td><td>0.01848283</td><td>Preprocessor1_Model40</td></tr>\n",
       "\t<tr><td>13</td><td>triangular</td><td>precision</td><td>binary</td><td>0.5040476</td><td>10</td><td>0.06500581</td><td>Preprocessor1_Model40</td></tr>\n",
       "\t<tr><td>13</td><td>triangular</td><td>recall   </td><td>binary</td><td>0.8166667</td><td>10</td><td>0.08031573</td><td>Preprocessor1_Model40</td></tr>\n",
       "\t<tr><td>14</td><td>triangular</td><td>accuracy </td><td>binary</td><td>0.8611660</td><td>10</td><td>0.01938541</td><td>Preprocessor1_Model41</td></tr>\n",
       "\t<tr><td>14</td><td>triangular</td><td>precision</td><td>binary</td><td>0.4869048</td><td>10</td><td>0.06615378</td><td>Preprocessor1_Model41</td></tr>\n",
       "\t<tr><td>14</td><td>triangular</td><td>recall   </td><td>binary</td><td>0.8166667</td><td>10</td><td>0.08031573</td><td>Preprocessor1_Model41</td></tr>\n",
       "\t<tr><td>15</td><td>triangular</td><td>accuracy </td><td>binary</td><td>0.8611660</td><td>10</td><td>0.01938541</td><td>Preprocessor1_Model42</td></tr>\n",
       "\t<tr><td>15</td><td>triangular</td><td>precision</td><td>binary</td><td>0.4869048</td><td>10</td><td>0.06615378</td><td>Preprocessor1_Model42</td></tr>\n",
       "\t<tr><td>15</td><td>triangular</td><td>recall   </td><td>binary</td><td>0.8166667</td><td>10</td><td>0.08031573</td><td>Preprocessor1_Model42</td></tr>\n",
       "</tbody>\n",
       "</table>\n"
      ],
      "text/latex": [
       "A tibble: 126 × 8\n",
       "\\begin{tabular}{llllllll}\n",
       " neighbors & weight\\_func & .metric & .estimator & mean & n & std\\_err & .config\\\\\n",
       " <int> & <chr> & <chr> & <chr> & <dbl> & <int> & <dbl> & <chr>\\\\\n",
       "\\hline\n",
       "\t  2 & epanechnikov & accuracy  & binary & 0.9001318 & 10 & 0.01479631 & Preprocessor1\\_Model01\\\\\n",
       "\t  2 & epanechnikov & precision & binary & 0.6016667 & 10 & 0.06480979 & Preprocessor1\\_Model01\\\\\n",
       "\t  2 & epanechnikov & recall    & binary & 0.7166667 & 10 & 0.07049210 & Preprocessor1\\_Model01\\\\\n",
       "\t  3 & epanechnikov & accuracy  & binary & 0.9001318 & 10 & 0.01479631 & Preprocessor1\\_Model02\\\\\n",
       "\t  3 & epanechnikov & precision & binary & 0.6016667 & 10 & 0.06480979 & Preprocessor1\\_Model02\\\\\n",
       "\t  3 & epanechnikov & recall    & binary & 0.7166667 & 10 & 0.07049210 & Preprocessor1\\_Model02\\\\\n",
       "\t  4 & epanechnikov & accuracy  & binary & 0.8912385 & 10 & 0.01668811 & Preprocessor1\\_Model03\\\\\n",
       "\t  4 & epanechnikov & precision & binary & 0.5766667 & 10 & 0.06908574 & Preprocessor1\\_Model03\\\\\n",
       "\t  4 & epanechnikov & recall    & binary & 0.7166667 & 10 & 0.07049210 & Preprocessor1\\_Model03\\\\\n",
       "\t  5 & epanechnikov & accuracy  & binary & 0.8914196 & 10 & 0.01524108 & Preprocessor1\\_Model04\\\\\n",
       "\t  5 & epanechnikov & precision & binary & 0.5766667 & 10 & 0.06446360 & Preprocessor1\\_Model04\\\\\n",
       "\t  5 & epanechnikov & recall    & binary & 0.7500000 & 10 & 0.05692750 & Preprocessor1\\_Model04\\\\\n",
       "\t  6 & epanechnikov & accuracy  & binary & 0.8738307 & 10 & 0.01718093 & Preprocessor1\\_Model05\\\\\n",
       "\t  6 & epanechnikov & precision & binary & 0.5395238 & 10 & 0.06559628 & Preprocessor1\\_Model05\\\\\n",
       "\t  6 & epanechnikov & recall    & binary & 0.7500000 & 10 & 0.05692750 & Preprocessor1\\_Model05\\\\\n",
       "\t  7 & epanechnikov & accuracy  & binary & 0.8781785 & 10 & 0.01636945 & Preprocessor1\\_Model06\\\\\n",
       "\t  7 & epanechnikov & precision & binary & 0.5495238 & 10 & 0.06397515 & Preprocessor1\\_Model06\\\\\n",
       "\t  7 & epanechnikov & recall    & binary & 0.7833333 & 10 & 0.06111111 & Preprocessor1\\_Model06\\\\\n",
       "\t  8 & epanechnikov & accuracy  & binary & 0.8696640 & 10 & 0.01764831 & Preprocessor1\\_Model07\\\\\n",
       "\t  8 & epanechnikov & precision & binary & 0.5228571 & 10 & 0.06875343 & Preprocessor1\\_Model07\\\\\n",
       "\t  8 & epanechnikov & recall    & binary & 0.7500000 & 10 & 0.07556373 & Preprocessor1\\_Model07\\\\\n",
       "\t  9 & epanechnikov & accuracy  & binary & 0.8653162 & 10 & 0.02035873 & Preprocessor1\\_Model08\\\\\n",
       "\t  9 & epanechnikov & precision & binary & 0.4990476 & 10 & 0.06732779 & Preprocessor1\\_Model08\\\\\n",
       "\t  9 & epanechnikov & recall    & binary & 0.8166667 & 10 & 0.08031573 & Preprocessor1\\_Model08\\\\\n",
       "\t 10 & epanechnikov & accuracy  & binary & 0.8655138 & 10 & 0.01899487 & Preprocessor1\\_Model09\\\\\n",
       "\t 10 & epanechnikov & precision & binary & 0.4969048 & 10 & 0.06544617 & Preprocessor1\\_Model09\\\\\n",
       "\t 10 & epanechnikov & recall    & binary & 0.8166667 & 10 & 0.08031573 & Preprocessor1\\_Model09\\\\\n",
       "\t 11 & epanechnikov & accuracy  & binary & 0.8655138 & 10 & 0.01899487 & Preprocessor1\\_Model10\\\\\n",
       "\t 11 & epanechnikov & precision & binary & 0.4969048 & 10 & 0.06544617 & Preprocessor1\\_Model10\\\\\n",
       "\t 11 & epanechnikov & recall    & binary & 0.8166667 & 10 & 0.08031573 & Preprocessor1\\_Model10\\\\\n",
       "\t ⋮ & ⋮ & ⋮ & ⋮ & ⋮ & ⋮ & ⋮ & ⋮\\\\\n",
       "\t  6 & triangular & accuracy  & binary & 0.8783762 & 10 & 0.01461920 & Preprocessor1\\_Model33\\\\\n",
       "\t  6 & triangular & precision & binary & 0.5445238 & 10 & 0.06285399 & Preprocessor1\\_Model33\\\\\n",
       "\t  6 & triangular & recall    & binary & 0.7500000 & 10 & 0.05692750 & Preprocessor1\\_Model33\\\\\n",
       "\t  7 & triangular & accuracy  & binary & 0.8738307 & 10 & 0.01718093 & Preprocessor1\\_Model34\\\\\n",
       "\t  7 & triangular & precision & binary & 0.5395238 & 10 & 0.06559628 & Preprocessor1\\_Model34\\\\\n",
       "\t  7 & triangular & recall    & binary & 0.7500000 & 10 & 0.05692750 & Preprocessor1\\_Model34\\\\\n",
       "\t  8 & triangular & accuracy  & binary & 0.8696640 & 10 & 0.01764831 & Preprocessor1\\_Model35\\\\\n",
       "\t  8 & triangular & precision & binary & 0.5228571 & 10 & 0.06875343 & Preprocessor1\\_Model35\\\\\n",
       "\t  8 & triangular & recall    & binary & 0.7500000 & 10 & 0.07556373 & Preprocessor1\\_Model35\\\\\n",
       "\t  9 & triangular & accuracy  & binary & 0.8609684 & 10 & 0.01741414 & Preprocessor1\\_Model36\\\\\n",
       "\t  9 & triangular & precision & binary & 0.4961905 & 10 & 0.06771958 & Preprocessor1\\_Model36\\\\\n",
       "\t  9 & triangular & recall    & binary & 0.7500000 & 10 & 0.07556373 & Preprocessor1\\_Model36\\\\\n",
       "\t 10 & triangular & accuracy  & binary & 0.8698617 & 10 & 0.01848283 & Preprocessor1\\_Model37\\\\\n",
       "\t 10 & triangular & precision & binary & 0.5040476 & 10 & 0.06500581 & Preprocessor1\\_Model37\\\\\n",
       "\t 10 & triangular & recall    & binary & 0.8166667 & 10 & 0.08031573 & Preprocessor1\\_Model37\\\\\n",
       "\t 11 & triangular & accuracy  & binary & 0.8698617 & 10 & 0.01848283 & Preprocessor1\\_Model38\\\\\n",
       "\t 11 & triangular & precision & binary & 0.5040476 & 10 & 0.06500581 & Preprocessor1\\_Model38\\\\\n",
       "\t 11 & triangular & recall    & binary & 0.8166667 & 10 & 0.08031573 & Preprocessor1\\_Model38\\\\\n",
       "\t 12 & triangular & accuracy  & binary & 0.8698617 & 10 & 0.01848283 & Preprocessor1\\_Model39\\\\\n",
       "\t 12 & triangular & precision & binary & 0.5040476 & 10 & 0.06500581 & Preprocessor1\\_Model39\\\\\n",
       "\t 12 & triangular & recall    & binary & 0.8166667 & 10 & 0.08031573 & Preprocessor1\\_Model39\\\\\n",
       "\t 13 & triangular & accuracy  & binary & 0.8698617 & 10 & 0.01848283 & Preprocessor1\\_Model40\\\\\n",
       "\t 13 & triangular & precision & binary & 0.5040476 & 10 & 0.06500581 & Preprocessor1\\_Model40\\\\\n",
       "\t 13 & triangular & recall    & binary & 0.8166667 & 10 & 0.08031573 & Preprocessor1\\_Model40\\\\\n",
       "\t 14 & triangular & accuracy  & binary & 0.8611660 & 10 & 0.01938541 & Preprocessor1\\_Model41\\\\\n",
       "\t 14 & triangular & precision & binary & 0.4869048 & 10 & 0.06615378 & Preprocessor1\\_Model41\\\\\n",
       "\t 14 & triangular & recall    & binary & 0.8166667 & 10 & 0.08031573 & Preprocessor1\\_Model41\\\\\n",
       "\t 15 & triangular & accuracy  & binary & 0.8611660 & 10 & 0.01938541 & Preprocessor1\\_Model42\\\\\n",
       "\t 15 & triangular & precision & binary & 0.4869048 & 10 & 0.06615378 & Preprocessor1\\_Model42\\\\\n",
       "\t 15 & triangular & recall    & binary & 0.8166667 & 10 & 0.08031573 & Preprocessor1\\_Model42\\\\\n",
       "\\end{tabular}\n"
      ],
      "text/markdown": [
       "\n",
       "A tibble: 126 × 8\n",
       "\n",
       "| neighbors &lt;int&gt; | weight_func &lt;chr&gt; | .metric &lt;chr&gt; | .estimator &lt;chr&gt; | mean &lt;dbl&gt; | n &lt;int&gt; | std_err &lt;dbl&gt; | .config &lt;chr&gt; |\n",
       "|---|---|---|---|---|---|---|---|\n",
       "|  2 | epanechnikov | accuracy  | binary | 0.9001318 | 10 | 0.01479631 | Preprocessor1_Model01 |\n",
       "|  2 | epanechnikov | precision | binary | 0.6016667 | 10 | 0.06480979 | Preprocessor1_Model01 |\n",
       "|  2 | epanechnikov | recall    | binary | 0.7166667 | 10 | 0.07049210 | Preprocessor1_Model01 |\n",
       "|  3 | epanechnikov | accuracy  | binary | 0.9001318 | 10 | 0.01479631 | Preprocessor1_Model02 |\n",
       "|  3 | epanechnikov | precision | binary | 0.6016667 | 10 | 0.06480979 | Preprocessor1_Model02 |\n",
       "|  3 | epanechnikov | recall    | binary | 0.7166667 | 10 | 0.07049210 | Preprocessor1_Model02 |\n",
       "|  4 | epanechnikov | accuracy  | binary | 0.8912385 | 10 | 0.01668811 | Preprocessor1_Model03 |\n",
       "|  4 | epanechnikov | precision | binary | 0.5766667 | 10 | 0.06908574 | Preprocessor1_Model03 |\n",
       "|  4 | epanechnikov | recall    | binary | 0.7166667 | 10 | 0.07049210 | Preprocessor1_Model03 |\n",
       "|  5 | epanechnikov | accuracy  | binary | 0.8914196 | 10 | 0.01524108 | Preprocessor1_Model04 |\n",
       "|  5 | epanechnikov | precision | binary | 0.5766667 | 10 | 0.06446360 | Preprocessor1_Model04 |\n",
       "|  5 | epanechnikov | recall    | binary | 0.7500000 | 10 | 0.05692750 | Preprocessor1_Model04 |\n",
       "|  6 | epanechnikov | accuracy  | binary | 0.8738307 | 10 | 0.01718093 | Preprocessor1_Model05 |\n",
       "|  6 | epanechnikov | precision | binary | 0.5395238 | 10 | 0.06559628 | Preprocessor1_Model05 |\n",
       "|  6 | epanechnikov | recall    | binary | 0.7500000 | 10 | 0.05692750 | Preprocessor1_Model05 |\n",
       "|  7 | epanechnikov | accuracy  | binary | 0.8781785 | 10 | 0.01636945 | Preprocessor1_Model06 |\n",
       "|  7 | epanechnikov | precision | binary | 0.5495238 | 10 | 0.06397515 | Preprocessor1_Model06 |\n",
       "|  7 | epanechnikov | recall    | binary | 0.7833333 | 10 | 0.06111111 | Preprocessor1_Model06 |\n",
       "|  8 | epanechnikov | accuracy  | binary | 0.8696640 | 10 | 0.01764831 | Preprocessor1_Model07 |\n",
       "|  8 | epanechnikov | precision | binary | 0.5228571 | 10 | 0.06875343 | Preprocessor1_Model07 |\n",
       "|  8 | epanechnikov | recall    | binary | 0.7500000 | 10 | 0.07556373 | Preprocessor1_Model07 |\n",
       "|  9 | epanechnikov | accuracy  | binary | 0.8653162 | 10 | 0.02035873 | Preprocessor1_Model08 |\n",
       "|  9 | epanechnikov | precision | binary | 0.4990476 | 10 | 0.06732779 | Preprocessor1_Model08 |\n",
       "|  9 | epanechnikov | recall    | binary | 0.8166667 | 10 | 0.08031573 | Preprocessor1_Model08 |\n",
       "| 10 | epanechnikov | accuracy  | binary | 0.8655138 | 10 | 0.01899487 | Preprocessor1_Model09 |\n",
       "| 10 | epanechnikov | precision | binary | 0.4969048 | 10 | 0.06544617 | Preprocessor1_Model09 |\n",
       "| 10 | epanechnikov | recall    | binary | 0.8166667 | 10 | 0.08031573 | Preprocessor1_Model09 |\n",
       "| 11 | epanechnikov | accuracy  | binary | 0.8655138 | 10 | 0.01899487 | Preprocessor1_Model10 |\n",
       "| 11 | epanechnikov | precision | binary | 0.4969048 | 10 | 0.06544617 | Preprocessor1_Model10 |\n",
       "| 11 | epanechnikov | recall    | binary | 0.8166667 | 10 | 0.08031573 | Preprocessor1_Model10 |\n",
       "| ⋮ | ⋮ | ⋮ | ⋮ | ⋮ | ⋮ | ⋮ | ⋮ |\n",
       "|  6 | triangular | accuracy  | binary | 0.8783762 | 10 | 0.01461920 | Preprocessor1_Model33 |\n",
       "|  6 | triangular | precision | binary | 0.5445238 | 10 | 0.06285399 | Preprocessor1_Model33 |\n",
       "|  6 | triangular | recall    | binary | 0.7500000 | 10 | 0.05692750 | Preprocessor1_Model33 |\n",
       "|  7 | triangular | accuracy  | binary | 0.8738307 | 10 | 0.01718093 | Preprocessor1_Model34 |\n",
       "|  7 | triangular | precision | binary | 0.5395238 | 10 | 0.06559628 | Preprocessor1_Model34 |\n",
       "|  7 | triangular | recall    | binary | 0.7500000 | 10 | 0.05692750 | Preprocessor1_Model34 |\n",
       "|  8 | triangular | accuracy  | binary | 0.8696640 | 10 | 0.01764831 | Preprocessor1_Model35 |\n",
       "|  8 | triangular | precision | binary | 0.5228571 | 10 | 0.06875343 | Preprocessor1_Model35 |\n",
       "|  8 | triangular | recall    | binary | 0.7500000 | 10 | 0.07556373 | Preprocessor1_Model35 |\n",
       "|  9 | triangular | accuracy  | binary | 0.8609684 | 10 | 0.01741414 | Preprocessor1_Model36 |\n",
       "|  9 | triangular | precision | binary | 0.4961905 | 10 | 0.06771958 | Preprocessor1_Model36 |\n",
       "|  9 | triangular | recall    | binary | 0.7500000 | 10 | 0.07556373 | Preprocessor1_Model36 |\n",
       "| 10 | triangular | accuracy  | binary | 0.8698617 | 10 | 0.01848283 | Preprocessor1_Model37 |\n",
       "| 10 | triangular | precision | binary | 0.5040476 | 10 | 0.06500581 | Preprocessor1_Model37 |\n",
       "| 10 | triangular | recall    | binary | 0.8166667 | 10 | 0.08031573 | Preprocessor1_Model37 |\n",
       "| 11 | triangular | accuracy  | binary | 0.8698617 | 10 | 0.01848283 | Preprocessor1_Model38 |\n",
       "| 11 | triangular | precision | binary | 0.5040476 | 10 | 0.06500581 | Preprocessor1_Model38 |\n",
       "| 11 | triangular | recall    | binary | 0.8166667 | 10 | 0.08031573 | Preprocessor1_Model38 |\n",
       "| 12 | triangular | accuracy  | binary | 0.8698617 | 10 | 0.01848283 | Preprocessor1_Model39 |\n",
       "| 12 | triangular | precision | binary | 0.5040476 | 10 | 0.06500581 | Preprocessor1_Model39 |\n",
       "| 12 | triangular | recall    | binary | 0.8166667 | 10 | 0.08031573 | Preprocessor1_Model39 |\n",
       "| 13 | triangular | accuracy  | binary | 0.8698617 | 10 | 0.01848283 | Preprocessor1_Model40 |\n",
       "| 13 | triangular | precision | binary | 0.5040476 | 10 | 0.06500581 | Preprocessor1_Model40 |\n",
       "| 13 | triangular | recall    | binary | 0.8166667 | 10 | 0.08031573 | Preprocessor1_Model40 |\n",
       "| 14 | triangular | accuracy  | binary | 0.8611660 | 10 | 0.01938541 | Preprocessor1_Model41 |\n",
       "| 14 | triangular | precision | binary | 0.4869048 | 10 | 0.06615378 | Preprocessor1_Model41 |\n",
       "| 14 | triangular | recall    | binary | 0.8166667 | 10 | 0.08031573 | Preprocessor1_Model41 |\n",
       "| 15 | triangular | accuracy  | binary | 0.8611660 | 10 | 0.01938541 | Preprocessor1_Model42 |\n",
       "| 15 | triangular | precision | binary | 0.4869048 | 10 | 0.06615378 | Preprocessor1_Model42 |\n",
       "| 15 | triangular | recall    | binary | 0.8166667 | 10 | 0.08031573 | Preprocessor1_Model42 |\n",
       "\n"
      ],
      "text/plain": [
       "    neighbors weight_func  .metric   .estimator mean      n  std_err   \n",
       "1    2        epanechnikov accuracy  binary     0.9001318 10 0.01479631\n",
       "2    2        epanechnikov precision binary     0.6016667 10 0.06480979\n",
       "3    2        epanechnikov recall    binary     0.7166667 10 0.07049210\n",
       "4    3        epanechnikov accuracy  binary     0.9001318 10 0.01479631\n",
       "5    3        epanechnikov precision binary     0.6016667 10 0.06480979\n",
       "6    3        epanechnikov recall    binary     0.7166667 10 0.07049210\n",
       "7    4        epanechnikov accuracy  binary     0.8912385 10 0.01668811\n",
       "8    4        epanechnikov precision binary     0.5766667 10 0.06908574\n",
       "9    4        epanechnikov recall    binary     0.7166667 10 0.07049210\n",
       "10   5        epanechnikov accuracy  binary     0.8914196 10 0.01524108\n",
       "11   5        epanechnikov precision binary     0.5766667 10 0.06446360\n",
       "12   5        epanechnikov recall    binary     0.7500000 10 0.05692750\n",
       "13   6        epanechnikov accuracy  binary     0.8738307 10 0.01718093\n",
       "14   6        epanechnikov precision binary     0.5395238 10 0.06559628\n",
       "15   6        epanechnikov recall    binary     0.7500000 10 0.05692750\n",
       "16   7        epanechnikov accuracy  binary     0.8781785 10 0.01636945\n",
       "17   7        epanechnikov precision binary     0.5495238 10 0.06397515\n",
       "18   7        epanechnikov recall    binary     0.7833333 10 0.06111111\n",
       "19   8        epanechnikov accuracy  binary     0.8696640 10 0.01764831\n",
       "20   8        epanechnikov precision binary     0.5228571 10 0.06875343\n",
       "21   8        epanechnikov recall    binary     0.7500000 10 0.07556373\n",
       "22   9        epanechnikov accuracy  binary     0.8653162 10 0.02035873\n",
       "23   9        epanechnikov precision binary     0.4990476 10 0.06732779\n",
       "24   9        epanechnikov recall    binary     0.8166667 10 0.08031573\n",
       "25  10        epanechnikov accuracy  binary     0.8655138 10 0.01899487\n",
       "26  10        epanechnikov precision binary     0.4969048 10 0.06544617\n",
       "27  10        epanechnikov recall    binary     0.8166667 10 0.08031573\n",
       "28  11        epanechnikov accuracy  binary     0.8655138 10 0.01899487\n",
       "29  11        epanechnikov precision binary     0.4969048 10 0.06544617\n",
       "30  11        epanechnikov recall    binary     0.8166667 10 0.08031573\n",
       "⋮   ⋮         ⋮            ⋮         ⋮          ⋮         ⋮  ⋮         \n",
       "97   6        triangular   accuracy  binary     0.8783762 10 0.01461920\n",
       "98   6        triangular   precision binary     0.5445238 10 0.06285399\n",
       "99   6        triangular   recall    binary     0.7500000 10 0.05692750\n",
       "100  7        triangular   accuracy  binary     0.8738307 10 0.01718093\n",
       "101  7        triangular   precision binary     0.5395238 10 0.06559628\n",
       "102  7        triangular   recall    binary     0.7500000 10 0.05692750\n",
       "103  8        triangular   accuracy  binary     0.8696640 10 0.01764831\n",
       "104  8        triangular   precision binary     0.5228571 10 0.06875343\n",
       "105  8        triangular   recall    binary     0.7500000 10 0.07556373\n",
       "106  9        triangular   accuracy  binary     0.8609684 10 0.01741414\n",
       "107  9        triangular   precision binary     0.4961905 10 0.06771958\n",
       "108  9        triangular   recall    binary     0.7500000 10 0.07556373\n",
       "109 10        triangular   accuracy  binary     0.8698617 10 0.01848283\n",
       "110 10        triangular   precision binary     0.5040476 10 0.06500581\n",
       "111 10        triangular   recall    binary     0.8166667 10 0.08031573\n",
       "112 11        triangular   accuracy  binary     0.8698617 10 0.01848283\n",
       "113 11        triangular   precision binary     0.5040476 10 0.06500581\n",
       "114 11        triangular   recall    binary     0.8166667 10 0.08031573\n",
       "115 12        triangular   accuracy  binary     0.8698617 10 0.01848283\n",
       "116 12        triangular   precision binary     0.5040476 10 0.06500581\n",
       "117 12        triangular   recall    binary     0.8166667 10 0.08031573\n",
       "118 13        triangular   accuracy  binary     0.8698617 10 0.01848283\n",
       "119 13        triangular   precision binary     0.5040476 10 0.06500581\n",
       "120 13        triangular   recall    binary     0.8166667 10 0.08031573\n",
       "121 14        triangular   accuracy  binary     0.8611660 10 0.01938541\n",
       "122 14        triangular   precision binary     0.4869048 10 0.06615378\n",
       "123 14        triangular   recall    binary     0.8166667 10 0.08031573\n",
       "124 15        triangular   accuracy  binary     0.8611660 10 0.01938541\n",
       "125 15        triangular   precision binary     0.4869048 10 0.06615378\n",
       "126 15        triangular   recall    binary     0.8166667 10 0.08031573\n",
       "    .config              \n",
       "1   Preprocessor1_Model01\n",
       "2   Preprocessor1_Model01\n",
       "3   Preprocessor1_Model01\n",
       "4   Preprocessor1_Model02\n",
       "5   Preprocessor1_Model02\n",
       "6   Preprocessor1_Model02\n",
       "7   Preprocessor1_Model03\n",
       "8   Preprocessor1_Model03\n",
       "9   Preprocessor1_Model03\n",
       "10  Preprocessor1_Model04\n",
       "11  Preprocessor1_Model04\n",
       "12  Preprocessor1_Model04\n",
       "13  Preprocessor1_Model05\n",
       "14  Preprocessor1_Model05\n",
       "15  Preprocessor1_Model05\n",
       "16  Preprocessor1_Model06\n",
       "17  Preprocessor1_Model06\n",
       "18  Preprocessor1_Model06\n",
       "19  Preprocessor1_Model07\n",
       "20  Preprocessor1_Model07\n",
       "21  Preprocessor1_Model07\n",
       "22  Preprocessor1_Model08\n",
       "23  Preprocessor1_Model08\n",
       "24  Preprocessor1_Model08\n",
       "25  Preprocessor1_Model09\n",
       "26  Preprocessor1_Model09\n",
       "27  Preprocessor1_Model09\n",
       "28  Preprocessor1_Model10\n",
       "29  Preprocessor1_Model10\n",
       "30  Preprocessor1_Model10\n",
       "⋮   ⋮                    \n",
       "97  Preprocessor1_Model33\n",
       "98  Preprocessor1_Model33\n",
       "99  Preprocessor1_Model33\n",
       "100 Preprocessor1_Model34\n",
       "101 Preprocessor1_Model34\n",
       "102 Preprocessor1_Model34\n",
       "103 Preprocessor1_Model35\n",
       "104 Preprocessor1_Model35\n",
       "105 Preprocessor1_Model35\n",
       "106 Preprocessor1_Model36\n",
       "107 Preprocessor1_Model36\n",
       "108 Preprocessor1_Model36\n",
       "109 Preprocessor1_Model37\n",
       "110 Preprocessor1_Model37\n",
       "111 Preprocessor1_Model37\n",
       "112 Preprocessor1_Model38\n",
       "113 Preprocessor1_Model38\n",
       "114 Preprocessor1_Model38\n",
       "115 Preprocessor1_Model39\n",
       "116 Preprocessor1_Model39\n",
       "117 Preprocessor1_Model39\n",
       "118 Preprocessor1_Model40\n",
       "119 Preprocessor1_Model40\n",
       "120 Preprocessor1_Model40\n",
       "121 Preprocessor1_Model41\n",
       "122 Preprocessor1_Model41\n",
       "123 Preprocessor1_Model41\n",
       "124 Preprocessor1_Model42\n",
       "125 Preprocessor1_Model42\n",
       "126 Preprocessor1_Model42"
      ]
     },
     "metadata": {},
     "output_type": "display_data"
    }
   ],
   "source": [
    "library(kknn)\n",
    "library(themis)\n",
    "\n",
    "# Semente para reprodutibilidade\n",
    "set.seed(1234)\n",
    "\n",
    "# Definindo a receita \n",
    "lung_cancer_recipe <- \n",
    "  recipe(LUNG_CANCER ~ ., data = df_training) %>%\n",
    "  step_dummy(GENDER) %>%            # Converte GENDER em dummy\n",
    "  step_zv(all_predictors()) %>%     # Remove variáveis com zero variância\n",
    "  step_normalize(all_predictors()) %>%  # Normaliza todas as variáveis preditoras\n",
    "  step_smote(LUNG_CANCER)            # Aplica a técnica SMOTE para lidar com desbalanceamento\n",
    "\n",
    "# Especificação do modelo KNN\n",
    "knn_mod <- \n",
    "  nearest_neighbor(neighbors = tune(), weight_func = tune()) %>% \n",
    "  set_engine('kknn') %>% \n",
    "  set_mode('classification')\n",
    "\n",
    "# Criando o workflow\n",
    "knn_workflow <- \n",
    "  workflow() %>% \n",
    "  add_model(knn_mod) %>% \n",
    "  add_recipe(lung_cancer_recipe)\n",
    "\n",
    "# Definindo a grade de hiperparâmetros\n",
    "knn_grid <- grid_regular(\n",
    "  neighbors(range = c(2, 15)),  # Número de vizinhos a serem considerados\n",
    "  weight_func(c('rectangular', 'triangular', 'epanechnikov')),  # Métodos de ponderação \n",
    "  levels = c(14, 3)             # 14 níveis para neighbors e 3 para weight_func\n",
    ")\n",
    "\n",
    "# Validação cruzada estratificada\n",
    "folds <- vfold_cv(df_training, v = 10, strata = LUNG_CANCER)\n",
    "\n",
    "# Definindo as métricas\n",
    "metrics <- metric_set(recall, accuracy, precision)\n",
    "\n",
    "# Ajuste do modelo com validação cruzada e tunagem de hiperparâmetros\n",
    "tune_results <- tune_grid(\n",
    "  knn_workflow,\n",
    "  resamples = folds,\n",
    "  grid = knn_grid,\n",
    "  metrics = metrics,\n",
    "  control = control_grid(save_pred = TRUE)\n",
    ")\n",
    "\n",
    "# Visualizando os resultados\n",
    "tune_results %>% collect_metrics()"
   ]
  },
  {
   "cell_type": "code",
   "execution_count": 77,
   "id": "7a0230df",
   "metadata": {},
   "outputs": [
    {
     "data": {
      "text/html": [
       "<table class=\"dataframe\">\n",
       "<caption>A tibble: 1 × 8</caption>\n",
       "<thead>\n",
       "\t<tr><th scope=col>neighbors</th><th scope=col>weight_func</th><th scope=col>.metric</th><th scope=col>.estimator</th><th scope=col>mean</th><th scope=col>n</th><th scope=col>std_err</th><th scope=col>.config</th></tr>\n",
       "\t<tr><th scope=col>&lt;int&gt;</th><th scope=col>&lt;chr&gt;</th><th scope=col>&lt;chr&gt;</th><th scope=col>&lt;chr&gt;</th><th scope=col>&lt;dbl&gt;</th><th scope=col>&lt;int&gt;</th><th scope=col>&lt;dbl&gt;</th><th scope=col>&lt;chr&gt;</th></tr>\n",
       "</thead>\n",
       "<tbody>\n",
       "\t<tr><td>7</td><td>rectangular</td><td>recall</td><td>binary</td><td>0.85</td><td>10</td><td>0.06309898</td><td>Preprocessor1_Model20</td></tr>\n",
       "</tbody>\n",
       "</table>\n"
      ],
      "text/latex": [
       "A tibble: 1 × 8\n",
       "\\begin{tabular}{llllllll}\n",
       " neighbors & weight\\_func & .metric & .estimator & mean & n & std\\_err & .config\\\\\n",
       " <int> & <chr> & <chr> & <chr> & <dbl> & <int> & <dbl> & <chr>\\\\\n",
       "\\hline\n",
       "\t 7 & rectangular & recall & binary & 0.85 & 10 & 0.06309898 & Preprocessor1\\_Model20\\\\\n",
       "\\end{tabular}\n"
      ],
      "text/markdown": [
       "\n",
       "A tibble: 1 × 8\n",
       "\n",
       "| neighbors &lt;int&gt; | weight_func &lt;chr&gt; | .metric &lt;chr&gt; | .estimator &lt;chr&gt; | mean &lt;dbl&gt; | n &lt;int&gt; | std_err &lt;dbl&gt; | .config &lt;chr&gt; |\n",
       "|---|---|---|---|---|---|---|---|\n",
       "| 7 | rectangular | recall | binary | 0.85 | 10 | 0.06309898 | Preprocessor1_Model20 |\n",
       "\n"
      ],
      "text/plain": [
       "  neighbors weight_func .metric .estimator mean n  std_err   \n",
       "1 7         rectangular recall  binary     0.85 10 0.06309898\n",
       "  .config              \n",
       "1 Preprocessor1_Model20"
      ]
     },
     "metadata": {},
     "output_type": "display_data"
    }
   ],
   "source": [
    "# Coletando e exibindo as métricas dos melhores parâmetros\n",
    "best_metrics <- show_best(tune_results, metric = 'recall', n = 1)\n",
    "best_metrics"
   ]
  },
  {
   "cell_type": "markdown",
   "id": "e839c23c",
   "metadata": {},
   "source": [
    " - ADASYN gera exemplos sintéticos adaptando-se à distribuição das instâncias minoritárias, gerando mais exemplos sintéticos para instâncias minoritárias mais difíceis de classificar."
   ]
  },
  {
   "cell_type": "code",
   "execution_count": 78,
   "id": "e7cc0371",
   "metadata": {},
   "outputs": [
    {
     "data": {
      "text/html": [
       "<table class=\"dataframe\">\n",
       "<caption>A tibble: 126 × 8</caption>\n",
       "<thead>\n",
       "\t<tr><th scope=col>neighbors</th><th scope=col>weight_func</th><th scope=col>.metric</th><th scope=col>.estimator</th><th scope=col>mean</th><th scope=col>n</th><th scope=col>std_err</th><th scope=col>.config</th></tr>\n",
       "\t<tr><th scope=col>&lt;int&gt;</th><th scope=col>&lt;chr&gt;</th><th scope=col>&lt;chr&gt;</th><th scope=col>&lt;chr&gt;</th><th scope=col>&lt;dbl&gt;</th><th scope=col>&lt;int&gt;</th><th scope=col>&lt;dbl&gt;</th><th scope=col>&lt;chr&gt;</th></tr>\n",
       "</thead>\n",
       "<tbody>\n",
       "\t<tr><td> 2</td><td>epanechnikov</td><td>accuracy </td><td>binary</td><td>0.9046607</td><td>10</td><td>0.01426794</td><td>Preprocessor1_Model01</td></tr>\n",
       "\t<tr><td> 2</td><td>epanechnikov</td><td>precision</td><td>binary</td><td>0.6166667</td><td>10</td><td>0.06166416</td><td>Preprocessor1_Model01</td></tr>\n",
       "\t<tr><td> 2</td><td>epanechnikov</td><td>recall   </td><td>binary</td><td>0.7166667</td><td>10</td><td>0.07049210</td><td>Preprocessor1_Model01</td></tr>\n",
       "\t<tr><td> 3</td><td>epanechnikov</td><td>accuracy </td><td>binary</td><td>0.8914196</td><td>10</td><td>0.01656196</td><td>Preprocessor1_Model02</td></tr>\n",
       "\t<tr><td> 3</td><td>epanechnikov</td><td>precision</td><td>binary</td><td>0.5766667</td><td>10</td><td>0.06908574</td><td>Preprocessor1_Model02</td></tr>\n",
       "\t<tr><td> 3</td><td>epanechnikov</td><td>recall   </td><td>binary</td><td>0.7166667</td><td>10</td><td>0.07049210</td><td>Preprocessor1_Model02</td></tr>\n",
       "\t<tr><td> 4</td><td>epanechnikov</td><td>accuracy </td><td>binary</td><td>0.8914196</td><td>10</td><td>0.01656196</td><td>Preprocessor1_Model03</td></tr>\n",
       "\t<tr><td> 4</td><td>epanechnikov</td><td>precision</td><td>binary</td><td>0.5766667</td><td>10</td><td>0.06908574</td><td>Preprocessor1_Model03</td></tr>\n",
       "\t<tr><td> 4</td><td>epanechnikov</td><td>recall   </td><td>binary</td><td>0.7166667</td><td>10</td><td>0.07049210</td><td>Preprocessor1_Model03</td></tr>\n",
       "\t<tr><td> 5</td><td>epanechnikov</td><td>accuracy </td><td>binary</td><td>0.8955863</td><td>10</td><td>0.01662697</td><td>Preprocessor1_Model04</td></tr>\n",
       "\t<tr><td> 5</td><td>epanechnikov</td><td>precision</td><td>binary</td><td>0.5866667</td><td>10</td><td>0.06857455</td><td>Preprocessor1_Model04</td></tr>\n",
       "\t<tr><td> 5</td><td>epanechnikov</td><td>recall   </td><td>binary</td><td>0.7500000</td><td>10</td><td>0.07556373</td><td>Preprocessor1_Model04</td></tr>\n",
       "\t<tr><td> 6</td><td>epanechnikov</td><td>accuracy </td><td>binary</td><td>0.8955863</td><td>10</td><td>0.01531170</td><td>Preprocessor1_Model05</td></tr>\n",
       "\t<tr><td> 6</td><td>epanechnikov</td><td>precision</td><td>binary</td><td>0.5866667</td><td>10</td><td>0.06391545</td><td>Preprocessor1_Model05</td></tr>\n",
       "\t<tr><td> 6</td><td>epanechnikov</td><td>recall   </td><td>binary</td><td>0.7833333</td><td>10</td><td>0.06111111</td><td>Preprocessor1_Model05</td></tr>\n",
       "\t<tr><td> 7</td><td>epanechnikov</td><td>accuracy </td><td>binary</td><td>0.8957675</td><td>10</td><td>0.01772271</td><td>Preprocessor1_Model06</td></tr>\n",
       "\t<tr><td> 7</td><td>epanechnikov</td><td>precision</td><td>binary</td><td>0.5700000</td><td>10</td><td>0.06377042</td><td>Preprocessor1_Model06</td></tr>\n",
       "\t<tr><td> 7</td><td>epanechnikov</td><td>recall   </td><td>binary</td><td>0.8166667</td><td>10</td><td>0.06309898</td><td>Preprocessor1_Model06</td></tr>\n",
       "\t<tr><td> 8</td><td>epanechnikov</td><td>accuracy </td><td>binary</td><td>0.8825264</td><td>10</td><td>0.01904091</td><td>Preprocessor1_Model07</td></tr>\n",
       "\t<tr><td> 8</td><td>epanechnikov</td><td>precision</td><td>binary</td><td>0.5400000</td><td>10</td><td>0.06359595</td><td>Preprocessor1_Model07</td></tr>\n",
       "\t<tr><td> 8</td><td>epanechnikov</td><td>recall   </td><td>binary</td><td>0.8166667</td><td>10</td><td>0.06309898</td><td>Preprocessor1_Model07</td></tr>\n",
       "\t<tr><td> 9</td><td>epanechnikov</td><td>accuracy </td><td>binary</td><td>0.8781785</td><td>10</td><td>0.01984900</td><td>Preprocessor1_Model08</td></tr>\n",
       "\t<tr><td> 9</td><td>epanechnikov</td><td>precision</td><td>binary</td><td>0.5300000</td><td>10</td><td>0.06506407</td><td>Preprocessor1_Model08</td></tr>\n",
       "\t<tr><td> 9</td><td>epanechnikov</td><td>recall   </td><td>binary</td><td>0.8166667</td><td>10</td><td>0.06309898</td><td>Preprocessor1_Model08</td></tr>\n",
       "\t<tr><td>10</td><td>epanechnikov</td><td>accuracy </td><td>binary</td><td>0.8651350</td><td>10</td><td>0.01946898</td><td>Preprocessor1_Model09</td></tr>\n",
       "\t<tr><td>10</td><td>epanechnikov</td><td>precision</td><td>binary</td><td>0.5028571</td><td>10</td><td>0.06455148</td><td>Preprocessor1_Model09</td></tr>\n",
       "\t<tr><td>10</td><td>epanechnikov</td><td>recall   </td><td>binary</td><td>0.8166667</td><td>10</td><td>0.06309898</td><td>Preprocessor1_Model09</td></tr>\n",
       "\t<tr><td>11</td><td>epanechnikov</td><td>accuracy </td><td>binary</td><td>0.8390316</td><td>10</td><td>0.02409763</td><td>Preprocessor1_Model10</td></tr>\n",
       "\t<tr><td>11</td><td>epanechnikov</td><td>precision</td><td>binary</td><td>0.4565476</td><td>10</td><td>0.07020721</td><td>Preprocessor1_Model10</td></tr>\n",
       "\t<tr><td>11</td><td>epanechnikov</td><td>recall   </td><td>binary</td><td>0.7833333</td><td>10</td><td>0.07876359</td><td>Preprocessor1_Model10</td></tr>\n",
       "\t<tr><td>⋮</td><td>⋮</td><td>⋮</td><td>⋮</td><td>⋮</td><td>⋮</td><td>⋮</td><td>⋮</td></tr>\n",
       "\t<tr><td> 6</td><td>triangular</td><td>accuracy </td><td>binary</td><td>0.8955863</td><td>10</td><td>0.01531170</td><td>Preprocessor1_Model33</td></tr>\n",
       "\t<tr><td> 6</td><td>triangular</td><td>precision</td><td>binary</td><td>0.5866667</td><td>10</td><td>0.06391545</td><td>Preprocessor1_Model33</td></tr>\n",
       "\t<tr><td> 6</td><td>triangular</td><td>recall   </td><td>binary</td><td>0.7833333</td><td>10</td><td>0.06111111</td><td>Preprocessor1_Model33</td></tr>\n",
       "\t<tr><td> 7</td><td>triangular</td><td>accuracy </td><td>binary</td><td>0.8914196</td><td>10</td><td>0.01524108</td><td>Preprocessor1_Model34</td></tr>\n",
       "\t<tr><td> 7</td><td>triangular</td><td>precision</td><td>binary</td><td>0.5700000</td><td>10</td><td>0.06377042</td><td>Preprocessor1_Model34</td></tr>\n",
       "\t<tr><td> 7</td><td>triangular</td><td>recall   </td><td>binary</td><td>0.7833333</td><td>10</td><td>0.06111111</td><td>Preprocessor1_Model34</td></tr>\n",
       "\t<tr><td> 8</td><td>triangular</td><td>accuracy </td><td>binary</td><td>0.8870718</td><td>10</td><td>0.01372200</td><td>Preprocessor1_Model35</td></tr>\n",
       "\t<tr><td> 8</td><td>triangular</td><td>precision</td><td>binary</td><td>0.5550000</td><td>10</td><td>0.06075909</td><td>Preprocessor1_Model35</td></tr>\n",
       "\t<tr><td> 8</td><td>triangular</td><td>recall   </td><td>binary</td><td>0.7833333</td><td>10</td><td>0.06111111</td><td>Preprocessor1_Model35</td></tr>\n",
       "\t<tr><td> 9</td><td>triangular</td><td>accuracy </td><td>binary</td><td>0.8827240</td><td>10</td><td>0.01755356</td><td>Preprocessor1_Model36</td></tr>\n",
       "\t<tr><td> 9</td><td>triangular</td><td>precision</td><td>binary</td><td>0.5350000</td><td>10</td><td>0.06238322</td><td>Preprocessor1_Model36</td></tr>\n",
       "\t<tr><td> 9</td><td>triangular</td><td>recall   </td><td>binary</td><td>0.8166667</td><td>10</td><td>0.06309898</td><td>Preprocessor1_Model36</td></tr>\n",
       "\t<tr><td>10</td><td>triangular</td><td>accuracy </td><td>binary</td><td>0.8781785</td><td>10</td><td>0.01984900</td><td>Preprocessor1_Model37</td></tr>\n",
       "\t<tr><td>10</td><td>triangular</td><td>precision</td><td>binary</td><td>0.5300000</td><td>10</td><td>0.06506407</td><td>Preprocessor1_Model37</td></tr>\n",
       "\t<tr><td>10</td><td>triangular</td><td>recall   </td><td>binary</td><td>0.8166667</td><td>10</td><td>0.06309898</td><td>Preprocessor1_Model37</td></tr>\n",
       "\t<tr><td>11</td><td>triangular</td><td>accuracy </td><td>binary</td><td>0.8653162</td><td>10</td><td>0.02035873</td><td>Preprocessor1_Model38</td></tr>\n",
       "\t<tr><td>11</td><td>triangular</td><td>precision</td><td>binary</td><td>0.4961905</td><td>10</td><td>0.06771958</td><td>Preprocessor1_Model38</td></tr>\n",
       "\t<tr><td>11</td><td>triangular</td><td>recall   </td><td>binary</td><td>0.7833333</td><td>10</td><td>0.07876359</td><td>Preprocessor1_Model38</td></tr>\n",
       "\t<tr><td>12</td><td>triangular</td><td>accuracy </td><td>binary</td><td>0.8522727</td><td>10</td><td>0.02112511</td><td>Preprocessor1_Model39</td></tr>\n",
       "\t<tr><td>12</td><td>triangular</td><td>precision</td><td>binary</td><td>0.4723810</td><td>10</td><td>0.06816088</td><td>Preprocessor1_Model39</td></tr>\n",
       "\t<tr><td>12</td><td>triangular</td><td>recall   </td><td>binary</td><td>0.7833333</td><td>10</td><td>0.07876359</td><td>Preprocessor1_Model39</td></tr>\n",
       "\t<tr><td>13</td><td>triangular</td><td>accuracy </td><td>binary</td><td>0.8479249</td><td>10</td><td>0.02117702</td><td>Preprocessor1_Model40</td></tr>\n",
       "\t<tr><td>13</td><td>triangular</td><td>precision</td><td>binary</td><td>0.4652381</td><td>10</td><td>0.06821354</td><td>Preprocessor1_Model40</td></tr>\n",
       "\t<tr><td>13</td><td>triangular</td><td>recall   </td><td>binary</td><td>0.7833333</td><td>10</td><td>0.07876359</td><td>Preprocessor1_Model40</td></tr>\n",
       "\t<tr><td>14</td><td>triangular</td><td>accuracy </td><td>binary</td><td>0.8435771</td><td>10</td><td>0.02210134</td><td>Preprocessor1_Model41</td></tr>\n",
       "\t<tr><td>14</td><td>triangular</td><td>precision</td><td>binary</td><td>0.4598810</td><td>10</td><td>0.06874181</td><td>Preprocessor1_Model41</td></tr>\n",
       "\t<tr><td>14</td><td>triangular</td><td>recall   </td><td>binary</td><td>0.7833333</td><td>10</td><td>0.07876359</td><td>Preprocessor1_Model41</td></tr>\n",
       "\t<tr><td>15</td><td>triangular</td><td>accuracy </td><td>binary</td><td>0.8435771</td><td>10</td><td>0.02210134</td><td>Preprocessor1_Model42</td></tr>\n",
       "\t<tr><td>15</td><td>triangular</td><td>precision</td><td>binary</td><td>0.4598810</td><td>10</td><td>0.06874181</td><td>Preprocessor1_Model42</td></tr>\n",
       "\t<tr><td>15</td><td>triangular</td><td>recall   </td><td>binary</td><td>0.7833333</td><td>10</td><td>0.07876359</td><td>Preprocessor1_Model42</td></tr>\n",
       "</tbody>\n",
       "</table>\n"
      ],
      "text/latex": [
       "A tibble: 126 × 8\n",
       "\\begin{tabular}{llllllll}\n",
       " neighbors & weight\\_func & .metric & .estimator & mean & n & std\\_err & .config\\\\\n",
       " <int> & <chr> & <chr> & <chr> & <dbl> & <int> & <dbl> & <chr>\\\\\n",
       "\\hline\n",
       "\t  2 & epanechnikov & accuracy  & binary & 0.9046607 & 10 & 0.01426794 & Preprocessor1\\_Model01\\\\\n",
       "\t  2 & epanechnikov & precision & binary & 0.6166667 & 10 & 0.06166416 & Preprocessor1\\_Model01\\\\\n",
       "\t  2 & epanechnikov & recall    & binary & 0.7166667 & 10 & 0.07049210 & Preprocessor1\\_Model01\\\\\n",
       "\t  3 & epanechnikov & accuracy  & binary & 0.8914196 & 10 & 0.01656196 & Preprocessor1\\_Model02\\\\\n",
       "\t  3 & epanechnikov & precision & binary & 0.5766667 & 10 & 0.06908574 & Preprocessor1\\_Model02\\\\\n",
       "\t  3 & epanechnikov & recall    & binary & 0.7166667 & 10 & 0.07049210 & Preprocessor1\\_Model02\\\\\n",
       "\t  4 & epanechnikov & accuracy  & binary & 0.8914196 & 10 & 0.01656196 & Preprocessor1\\_Model03\\\\\n",
       "\t  4 & epanechnikov & precision & binary & 0.5766667 & 10 & 0.06908574 & Preprocessor1\\_Model03\\\\\n",
       "\t  4 & epanechnikov & recall    & binary & 0.7166667 & 10 & 0.07049210 & Preprocessor1\\_Model03\\\\\n",
       "\t  5 & epanechnikov & accuracy  & binary & 0.8955863 & 10 & 0.01662697 & Preprocessor1\\_Model04\\\\\n",
       "\t  5 & epanechnikov & precision & binary & 0.5866667 & 10 & 0.06857455 & Preprocessor1\\_Model04\\\\\n",
       "\t  5 & epanechnikov & recall    & binary & 0.7500000 & 10 & 0.07556373 & Preprocessor1\\_Model04\\\\\n",
       "\t  6 & epanechnikov & accuracy  & binary & 0.8955863 & 10 & 0.01531170 & Preprocessor1\\_Model05\\\\\n",
       "\t  6 & epanechnikov & precision & binary & 0.5866667 & 10 & 0.06391545 & Preprocessor1\\_Model05\\\\\n",
       "\t  6 & epanechnikov & recall    & binary & 0.7833333 & 10 & 0.06111111 & Preprocessor1\\_Model05\\\\\n",
       "\t  7 & epanechnikov & accuracy  & binary & 0.8957675 & 10 & 0.01772271 & Preprocessor1\\_Model06\\\\\n",
       "\t  7 & epanechnikov & precision & binary & 0.5700000 & 10 & 0.06377042 & Preprocessor1\\_Model06\\\\\n",
       "\t  7 & epanechnikov & recall    & binary & 0.8166667 & 10 & 0.06309898 & Preprocessor1\\_Model06\\\\\n",
       "\t  8 & epanechnikov & accuracy  & binary & 0.8825264 & 10 & 0.01904091 & Preprocessor1\\_Model07\\\\\n",
       "\t  8 & epanechnikov & precision & binary & 0.5400000 & 10 & 0.06359595 & Preprocessor1\\_Model07\\\\\n",
       "\t  8 & epanechnikov & recall    & binary & 0.8166667 & 10 & 0.06309898 & Preprocessor1\\_Model07\\\\\n",
       "\t  9 & epanechnikov & accuracy  & binary & 0.8781785 & 10 & 0.01984900 & Preprocessor1\\_Model08\\\\\n",
       "\t  9 & epanechnikov & precision & binary & 0.5300000 & 10 & 0.06506407 & Preprocessor1\\_Model08\\\\\n",
       "\t  9 & epanechnikov & recall    & binary & 0.8166667 & 10 & 0.06309898 & Preprocessor1\\_Model08\\\\\n",
       "\t 10 & epanechnikov & accuracy  & binary & 0.8651350 & 10 & 0.01946898 & Preprocessor1\\_Model09\\\\\n",
       "\t 10 & epanechnikov & precision & binary & 0.5028571 & 10 & 0.06455148 & Preprocessor1\\_Model09\\\\\n",
       "\t 10 & epanechnikov & recall    & binary & 0.8166667 & 10 & 0.06309898 & Preprocessor1\\_Model09\\\\\n",
       "\t 11 & epanechnikov & accuracy  & binary & 0.8390316 & 10 & 0.02409763 & Preprocessor1\\_Model10\\\\\n",
       "\t 11 & epanechnikov & precision & binary & 0.4565476 & 10 & 0.07020721 & Preprocessor1\\_Model10\\\\\n",
       "\t 11 & epanechnikov & recall    & binary & 0.7833333 & 10 & 0.07876359 & Preprocessor1\\_Model10\\\\\n",
       "\t ⋮ & ⋮ & ⋮ & ⋮ & ⋮ & ⋮ & ⋮ & ⋮\\\\\n",
       "\t  6 & triangular & accuracy  & binary & 0.8955863 & 10 & 0.01531170 & Preprocessor1\\_Model33\\\\\n",
       "\t  6 & triangular & precision & binary & 0.5866667 & 10 & 0.06391545 & Preprocessor1\\_Model33\\\\\n",
       "\t  6 & triangular & recall    & binary & 0.7833333 & 10 & 0.06111111 & Preprocessor1\\_Model33\\\\\n",
       "\t  7 & triangular & accuracy  & binary & 0.8914196 & 10 & 0.01524108 & Preprocessor1\\_Model34\\\\\n",
       "\t  7 & triangular & precision & binary & 0.5700000 & 10 & 0.06377042 & Preprocessor1\\_Model34\\\\\n",
       "\t  7 & triangular & recall    & binary & 0.7833333 & 10 & 0.06111111 & Preprocessor1\\_Model34\\\\\n",
       "\t  8 & triangular & accuracy  & binary & 0.8870718 & 10 & 0.01372200 & Preprocessor1\\_Model35\\\\\n",
       "\t  8 & triangular & precision & binary & 0.5550000 & 10 & 0.06075909 & Preprocessor1\\_Model35\\\\\n",
       "\t  8 & triangular & recall    & binary & 0.7833333 & 10 & 0.06111111 & Preprocessor1\\_Model35\\\\\n",
       "\t  9 & triangular & accuracy  & binary & 0.8827240 & 10 & 0.01755356 & Preprocessor1\\_Model36\\\\\n",
       "\t  9 & triangular & precision & binary & 0.5350000 & 10 & 0.06238322 & Preprocessor1\\_Model36\\\\\n",
       "\t  9 & triangular & recall    & binary & 0.8166667 & 10 & 0.06309898 & Preprocessor1\\_Model36\\\\\n",
       "\t 10 & triangular & accuracy  & binary & 0.8781785 & 10 & 0.01984900 & Preprocessor1\\_Model37\\\\\n",
       "\t 10 & triangular & precision & binary & 0.5300000 & 10 & 0.06506407 & Preprocessor1\\_Model37\\\\\n",
       "\t 10 & triangular & recall    & binary & 0.8166667 & 10 & 0.06309898 & Preprocessor1\\_Model37\\\\\n",
       "\t 11 & triangular & accuracy  & binary & 0.8653162 & 10 & 0.02035873 & Preprocessor1\\_Model38\\\\\n",
       "\t 11 & triangular & precision & binary & 0.4961905 & 10 & 0.06771958 & Preprocessor1\\_Model38\\\\\n",
       "\t 11 & triangular & recall    & binary & 0.7833333 & 10 & 0.07876359 & Preprocessor1\\_Model38\\\\\n",
       "\t 12 & triangular & accuracy  & binary & 0.8522727 & 10 & 0.02112511 & Preprocessor1\\_Model39\\\\\n",
       "\t 12 & triangular & precision & binary & 0.4723810 & 10 & 0.06816088 & Preprocessor1\\_Model39\\\\\n",
       "\t 12 & triangular & recall    & binary & 0.7833333 & 10 & 0.07876359 & Preprocessor1\\_Model39\\\\\n",
       "\t 13 & triangular & accuracy  & binary & 0.8479249 & 10 & 0.02117702 & Preprocessor1\\_Model40\\\\\n",
       "\t 13 & triangular & precision & binary & 0.4652381 & 10 & 0.06821354 & Preprocessor1\\_Model40\\\\\n",
       "\t 13 & triangular & recall    & binary & 0.7833333 & 10 & 0.07876359 & Preprocessor1\\_Model40\\\\\n",
       "\t 14 & triangular & accuracy  & binary & 0.8435771 & 10 & 0.02210134 & Preprocessor1\\_Model41\\\\\n",
       "\t 14 & triangular & precision & binary & 0.4598810 & 10 & 0.06874181 & Preprocessor1\\_Model41\\\\\n",
       "\t 14 & triangular & recall    & binary & 0.7833333 & 10 & 0.07876359 & Preprocessor1\\_Model41\\\\\n",
       "\t 15 & triangular & accuracy  & binary & 0.8435771 & 10 & 0.02210134 & Preprocessor1\\_Model42\\\\\n",
       "\t 15 & triangular & precision & binary & 0.4598810 & 10 & 0.06874181 & Preprocessor1\\_Model42\\\\\n",
       "\t 15 & triangular & recall    & binary & 0.7833333 & 10 & 0.07876359 & Preprocessor1\\_Model42\\\\\n",
       "\\end{tabular}\n"
      ],
      "text/markdown": [
       "\n",
       "A tibble: 126 × 8\n",
       "\n",
       "| neighbors &lt;int&gt; | weight_func &lt;chr&gt; | .metric &lt;chr&gt; | .estimator &lt;chr&gt; | mean &lt;dbl&gt; | n &lt;int&gt; | std_err &lt;dbl&gt; | .config &lt;chr&gt; |\n",
       "|---|---|---|---|---|---|---|---|\n",
       "|  2 | epanechnikov | accuracy  | binary | 0.9046607 | 10 | 0.01426794 | Preprocessor1_Model01 |\n",
       "|  2 | epanechnikov | precision | binary | 0.6166667 | 10 | 0.06166416 | Preprocessor1_Model01 |\n",
       "|  2 | epanechnikov | recall    | binary | 0.7166667 | 10 | 0.07049210 | Preprocessor1_Model01 |\n",
       "|  3 | epanechnikov | accuracy  | binary | 0.8914196 | 10 | 0.01656196 | Preprocessor1_Model02 |\n",
       "|  3 | epanechnikov | precision | binary | 0.5766667 | 10 | 0.06908574 | Preprocessor1_Model02 |\n",
       "|  3 | epanechnikov | recall    | binary | 0.7166667 | 10 | 0.07049210 | Preprocessor1_Model02 |\n",
       "|  4 | epanechnikov | accuracy  | binary | 0.8914196 | 10 | 0.01656196 | Preprocessor1_Model03 |\n",
       "|  4 | epanechnikov | precision | binary | 0.5766667 | 10 | 0.06908574 | Preprocessor1_Model03 |\n",
       "|  4 | epanechnikov | recall    | binary | 0.7166667 | 10 | 0.07049210 | Preprocessor1_Model03 |\n",
       "|  5 | epanechnikov | accuracy  | binary | 0.8955863 | 10 | 0.01662697 | Preprocessor1_Model04 |\n",
       "|  5 | epanechnikov | precision | binary | 0.5866667 | 10 | 0.06857455 | Preprocessor1_Model04 |\n",
       "|  5 | epanechnikov | recall    | binary | 0.7500000 | 10 | 0.07556373 | Preprocessor1_Model04 |\n",
       "|  6 | epanechnikov | accuracy  | binary | 0.8955863 | 10 | 0.01531170 | Preprocessor1_Model05 |\n",
       "|  6 | epanechnikov | precision | binary | 0.5866667 | 10 | 0.06391545 | Preprocessor1_Model05 |\n",
       "|  6 | epanechnikov | recall    | binary | 0.7833333 | 10 | 0.06111111 | Preprocessor1_Model05 |\n",
       "|  7 | epanechnikov | accuracy  | binary | 0.8957675 | 10 | 0.01772271 | Preprocessor1_Model06 |\n",
       "|  7 | epanechnikov | precision | binary | 0.5700000 | 10 | 0.06377042 | Preprocessor1_Model06 |\n",
       "|  7 | epanechnikov | recall    | binary | 0.8166667 | 10 | 0.06309898 | Preprocessor1_Model06 |\n",
       "|  8 | epanechnikov | accuracy  | binary | 0.8825264 | 10 | 0.01904091 | Preprocessor1_Model07 |\n",
       "|  8 | epanechnikov | precision | binary | 0.5400000 | 10 | 0.06359595 | Preprocessor1_Model07 |\n",
       "|  8 | epanechnikov | recall    | binary | 0.8166667 | 10 | 0.06309898 | Preprocessor1_Model07 |\n",
       "|  9 | epanechnikov | accuracy  | binary | 0.8781785 | 10 | 0.01984900 | Preprocessor1_Model08 |\n",
       "|  9 | epanechnikov | precision | binary | 0.5300000 | 10 | 0.06506407 | Preprocessor1_Model08 |\n",
       "|  9 | epanechnikov | recall    | binary | 0.8166667 | 10 | 0.06309898 | Preprocessor1_Model08 |\n",
       "| 10 | epanechnikov | accuracy  | binary | 0.8651350 | 10 | 0.01946898 | Preprocessor1_Model09 |\n",
       "| 10 | epanechnikov | precision | binary | 0.5028571 | 10 | 0.06455148 | Preprocessor1_Model09 |\n",
       "| 10 | epanechnikov | recall    | binary | 0.8166667 | 10 | 0.06309898 | Preprocessor1_Model09 |\n",
       "| 11 | epanechnikov | accuracy  | binary | 0.8390316 | 10 | 0.02409763 | Preprocessor1_Model10 |\n",
       "| 11 | epanechnikov | precision | binary | 0.4565476 | 10 | 0.07020721 | Preprocessor1_Model10 |\n",
       "| 11 | epanechnikov | recall    | binary | 0.7833333 | 10 | 0.07876359 | Preprocessor1_Model10 |\n",
       "| ⋮ | ⋮ | ⋮ | ⋮ | ⋮ | ⋮ | ⋮ | ⋮ |\n",
       "|  6 | triangular | accuracy  | binary | 0.8955863 | 10 | 0.01531170 | Preprocessor1_Model33 |\n",
       "|  6 | triangular | precision | binary | 0.5866667 | 10 | 0.06391545 | Preprocessor1_Model33 |\n",
       "|  6 | triangular | recall    | binary | 0.7833333 | 10 | 0.06111111 | Preprocessor1_Model33 |\n",
       "|  7 | triangular | accuracy  | binary | 0.8914196 | 10 | 0.01524108 | Preprocessor1_Model34 |\n",
       "|  7 | triangular | precision | binary | 0.5700000 | 10 | 0.06377042 | Preprocessor1_Model34 |\n",
       "|  7 | triangular | recall    | binary | 0.7833333 | 10 | 0.06111111 | Preprocessor1_Model34 |\n",
       "|  8 | triangular | accuracy  | binary | 0.8870718 | 10 | 0.01372200 | Preprocessor1_Model35 |\n",
       "|  8 | triangular | precision | binary | 0.5550000 | 10 | 0.06075909 | Preprocessor1_Model35 |\n",
       "|  8 | triangular | recall    | binary | 0.7833333 | 10 | 0.06111111 | Preprocessor1_Model35 |\n",
       "|  9 | triangular | accuracy  | binary | 0.8827240 | 10 | 0.01755356 | Preprocessor1_Model36 |\n",
       "|  9 | triangular | precision | binary | 0.5350000 | 10 | 0.06238322 | Preprocessor1_Model36 |\n",
       "|  9 | triangular | recall    | binary | 0.8166667 | 10 | 0.06309898 | Preprocessor1_Model36 |\n",
       "| 10 | triangular | accuracy  | binary | 0.8781785 | 10 | 0.01984900 | Preprocessor1_Model37 |\n",
       "| 10 | triangular | precision | binary | 0.5300000 | 10 | 0.06506407 | Preprocessor1_Model37 |\n",
       "| 10 | triangular | recall    | binary | 0.8166667 | 10 | 0.06309898 | Preprocessor1_Model37 |\n",
       "| 11 | triangular | accuracy  | binary | 0.8653162 | 10 | 0.02035873 | Preprocessor1_Model38 |\n",
       "| 11 | triangular | precision | binary | 0.4961905 | 10 | 0.06771958 | Preprocessor1_Model38 |\n",
       "| 11 | triangular | recall    | binary | 0.7833333 | 10 | 0.07876359 | Preprocessor1_Model38 |\n",
       "| 12 | triangular | accuracy  | binary | 0.8522727 | 10 | 0.02112511 | Preprocessor1_Model39 |\n",
       "| 12 | triangular | precision | binary | 0.4723810 | 10 | 0.06816088 | Preprocessor1_Model39 |\n",
       "| 12 | triangular | recall    | binary | 0.7833333 | 10 | 0.07876359 | Preprocessor1_Model39 |\n",
       "| 13 | triangular | accuracy  | binary | 0.8479249 | 10 | 0.02117702 | Preprocessor1_Model40 |\n",
       "| 13 | triangular | precision | binary | 0.4652381 | 10 | 0.06821354 | Preprocessor1_Model40 |\n",
       "| 13 | triangular | recall    | binary | 0.7833333 | 10 | 0.07876359 | Preprocessor1_Model40 |\n",
       "| 14 | triangular | accuracy  | binary | 0.8435771 | 10 | 0.02210134 | Preprocessor1_Model41 |\n",
       "| 14 | triangular | precision | binary | 0.4598810 | 10 | 0.06874181 | Preprocessor1_Model41 |\n",
       "| 14 | triangular | recall    | binary | 0.7833333 | 10 | 0.07876359 | Preprocessor1_Model41 |\n",
       "| 15 | triangular | accuracy  | binary | 0.8435771 | 10 | 0.02210134 | Preprocessor1_Model42 |\n",
       "| 15 | triangular | precision | binary | 0.4598810 | 10 | 0.06874181 | Preprocessor1_Model42 |\n",
       "| 15 | triangular | recall    | binary | 0.7833333 | 10 | 0.07876359 | Preprocessor1_Model42 |\n",
       "\n"
      ],
      "text/plain": [
       "    neighbors weight_func  .metric   .estimator mean      n  std_err   \n",
       "1    2        epanechnikov accuracy  binary     0.9046607 10 0.01426794\n",
       "2    2        epanechnikov precision binary     0.6166667 10 0.06166416\n",
       "3    2        epanechnikov recall    binary     0.7166667 10 0.07049210\n",
       "4    3        epanechnikov accuracy  binary     0.8914196 10 0.01656196\n",
       "5    3        epanechnikov precision binary     0.5766667 10 0.06908574\n",
       "6    3        epanechnikov recall    binary     0.7166667 10 0.07049210\n",
       "7    4        epanechnikov accuracy  binary     0.8914196 10 0.01656196\n",
       "8    4        epanechnikov precision binary     0.5766667 10 0.06908574\n",
       "9    4        epanechnikov recall    binary     0.7166667 10 0.07049210\n",
       "10   5        epanechnikov accuracy  binary     0.8955863 10 0.01662697\n",
       "11   5        epanechnikov precision binary     0.5866667 10 0.06857455\n",
       "12   5        epanechnikov recall    binary     0.7500000 10 0.07556373\n",
       "13   6        epanechnikov accuracy  binary     0.8955863 10 0.01531170\n",
       "14   6        epanechnikov precision binary     0.5866667 10 0.06391545\n",
       "15   6        epanechnikov recall    binary     0.7833333 10 0.06111111\n",
       "16   7        epanechnikov accuracy  binary     0.8957675 10 0.01772271\n",
       "17   7        epanechnikov precision binary     0.5700000 10 0.06377042\n",
       "18   7        epanechnikov recall    binary     0.8166667 10 0.06309898\n",
       "19   8        epanechnikov accuracy  binary     0.8825264 10 0.01904091\n",
       "20   8        epanechnikov precision binary     0.5400000 10 0.06359595\n",
       "21   8        epanechnikov recall    binary     0.8166667 10 0.06309898\n",
       "22   9        epanechnikov accuracy  binary     0.8781785 10 0.01984900\n",
       "23   9        epanechnikov precision binary     0.5300000 10 0.06506407\n",
       "24   9        epanechnikov recall    binary     0.8166667 10 0.06309898\n",
       "25  10        epanechnikov accuracy  binary     0.8651350 10 0.01946898\n",
       "26  10        epanechnikov precision binary     0.5028571 10 0.06455148\n",
       "27  10        epanechnikov recall    binary     0.8166667 10 0.06309898\n",
       "28  11        epanechnikov accuracy  binary     0.8390316 10 0.02409763\n",
       "29  11        epanechnikov precision binary     0.4565476 10 0.07020721\n",
       "30  11        epanechnikov recall    binary     0.7833333 10 0.07876359\n",
       "⋮   ⋮         ⋮            ⋮         ⋮          ⋮         ⋮  ⋮         \n",
       "97   6        triangular   accuracy  binary     0.8955863 10 0.01531170\n",
       "98   6        triangular   precision binary     0.5866667 10 0.06391545\n",
       "99   6        triangular   recall    binary     0.7833333 10 0.06111111\n",
       "100  7        triangular   accuracy  binary     0.8914196 10 0.01524108\n",
       "101  7        triangular   precision binary     0.5700000 10 0.06377042\n",
       "102  7        triangular   recall    binary     0.7833333 10 0.06111111\n",
       "103  8        triangular   accuracy  binary     0.8870718 10 0.01372200\n",
       "104  8        triangular   precision binary     0.5550000 10 0.06075909\n",
       "105  8        triangular   recall    binary     0.7833333 10 0.06111111\n",
       "106  9        triangular   accuracy  binary     0.8827240 10 0.01755356\n",
       "107  9        triangular   precision binary     0.5350000 10 0.06238322\n",
       "108  9        triangular   recall    binary     0.8166667 10 0.06309898\n",
       "109 10        triangular   accuracy  binary     0.8781785 10 0.01984900\n",
       "110 10        triangular   precision binary     0.5300000 10 0.06506407\n",
       "111 10        triangular   recall    binary     0.8166667 10 0.06309898\n",
       "112 11        triangular   accuracy  binary     0.8653162 10 0.02035873\n",
       "113 11        triangular   precision binary     0.4961905 10 0.06771958\n",
       "114 11        triangular   recall    binary     0.7833333 10 0.07876359\n",
       "115 12        triangular   accuracy  binary     0.8522727 10 0.02112511\n",
       "116 12        triangular   precision binary     0.4723810 10 0.06816088\n",
       "117 12        triangular   recall    binary     0.7833333 10 0.07876359\n",
       "118 13        triangular   accuracy  binary     0.8479249 10 0.02117702\n",
       "119 13        triangular   precision binary     0.4652381 10 0.06821354\n",
       "120 13        triangular   recall    binary     0.7833333 10 0.07876359\n",
       "121 14        triangular   accuracy  binary     0.8435771 10 0.02210134\n",
       "122 14        triangular   precision binary     0.4598810 10 0.06874181\n",
       "123 14        triangular   recall    binary     0.7833333 10 0.07876359\n",
       "124 15        triangular   accuracy  binary     0.8435771 10 0.02210134\n",
       "125 15        triangular   precision binary     0.4598810 10 0.06874181\n",
       "126 15        triangular   recall    binary     0.7833333 10 0.07876359\n",
       "    .config              \n",
       "1   Preprocessor1_Model01\n",
       "2   Preprocessor1_Model01\n",
       "3   Preprocessor1_Model01\n",
       "4   Preprocessor1_Model02\n",
       "5   Preprocessor1_Model02\n",
       "6   Preprocessor1_Model02\n",
       "7   Preprocessor1_Model03\n",
       "8   Preprocessor1_Model03\n",
       "9   Preprocessor1_Model03\n",
       "10  Preprocessor1_Model04\n",
       "11  Preprocessor1_Model04\n",
       "12  Preprocessor1_Model04\n",
       "13  Preprocessor1_Model05\n",
       "14  Preprocessor1_Model05\n",
       "15  Preprocessor1_Model05\n",
       "16  Preprocessor1_Model06\n",
       "17  Preprocessor1_Model06\n",
       "18  Preprocessor1_Model06\n",
       "19  Preprocessor1_Model07\n",
       "20  Preprocessor1_Model07\n",
       "21  Preprocessor1_Model07\n",
       "22  Preprocessor1_Model08\n",
       "23  Preprocessor1_Model08\n",
       "24  Preprocessor1_Model08\n",
       "25  Preprocessor1_Model09\n",
       "26  Preprocessor1_Model09\n",
       "27  Preprocessor1_Model09\n",
       "28  Preprocessor1_Model10\n",
       "29  Preprocessor1_Model10\n",
       "30  Preprocessor1_Model10\n",
       "⋮   ⋮                    \n",
       "97  Preprocessor1_Model33\n",
       "98  Preprocessor1_Model33\n",
       "99  Preprocessor1_Model33\n",
       "100 Preprocessor1_Model34\n",
       "101 Preprocessor1_Model34\n",
       "102 Preprocessor1_Model34\n",
       "103 Preprocessor1_Model35\n",
       "104 Preprocessor1_Model35\n",
       "105 Preprocessor1_Model35\n",
       "106 Preprocessor1_Model36\n",
       "107 Preprocessor1_Model36\n",
       "108 Preprocessor1_Model36\n",
       "109 Preprocessor1_Model37\n",
       "110 Preprocessor1_Model37\n",
       "111 Preprocessor1_Model37\n",
       "112 Preprocessor1_Model38\n",
       "113 Preprocessor1_Model38\n",
       "114 Preprocessor1_Model38\n",
       "115 Preprocessor1_Model39\n",
       "116 Preprocessor1_Model39\n",
       "117 Preprocessor1_Model39\n",
       "118 Preprocessor1_Model40\n",
       "119 Preprocessor1_Model40\n",
       "120 Preprocessor1_Model40\n",
       "121 Preprocessor1_Model41\n",
       "122 Preprocessor1_Model41\n",
       "123 Preprocessor1_Model41\n",
       "124 Preprocessor1_Model42\n",
       "125 Preprocessor1_Model42\n",
       "126 Preprocessor1_Model42"
      ]
     },
     "metadata": {},
     "output_type": "display_data"
    }
   ],
   "source": [
    "# Semente para reprodutibilidade\n",
    "set.seed(1234)\n",
    "\n",
    "# Definindo a receita \n",
    "lung_cancer_recipe <- \n",
    "  recipe(LUNG_CANCER ~ ., data = df_training) %>%\n",
    "  step_dummy(GENDER) %>%            # Converte GENDER em dummy\n",
    "  step_zv(all_predictors()) %>%     # Remove variáveis com zero variância\n",
    "  step_normalize(all_predictors()) %>%  # Normaliza todas as variáveis preditoras\n",
    "  step_adasyn(LUNG_CANCER)            # Aplica a técnica adasyn para lidar com desbalanceamento\n",
    "\n",
    "# Especificação do modelo KNN\n",
    "knn_mod <- \n",
    "  nearest_neighbor(neighbors = tune(), weight_func = tune()) %>% \n",
    "  set_engine('kknn') %>% \n",
    "  set_mode('classification')\n",
    "\n",
    "# Criando o workflow\n",
    "knn_workflow <- \n",
    "  workflow() %>% \n",
    "  add_model(knn_mod) %>% \n",
    "  add_recipe(lung_cancer_recipe)\n",
    "\n",
    "# Definindo a grade de hiperparâmetros\n",
    "knn_grid <- grid_regular(\n",
    "  neighbors(range = c(2, 15)),  # Número de vizinhos a serem considerados\n",
    "  weight_func(c('rectangular', 'triangular', 'epanechnikov')),  # Métodos de ponderação \n",
    "  levels = c(14, 3)             # 14 níveis para neighbors e 3 para weight_func\n",
    ")\n",
    "\n",
    "# Validação cruzada estratificada\n",
    "folds <- vfold_cv(df_training, v = 10, strata = LUNG_CANCER)\n",
    "\n",
    "# Definindo as métricas\n",
    "metrics <- metric_set(recall, accuracy, precision)\n",
    "\n",
    "# Ajuste do modelo com validação cruzada e tunagem de hiperparâmetros\n",
    "tune_results <- tune_grid(\n",
    "  knn_workflow,\n",
    "  resamples = folds,\n",
    "  grid = knn_grid,\n",
    "  metrics = metrics,\n",
    "  control = control_grid(save_pred = TRUE)\n",
    ")\n",
    "\n",
    "# Visualizando os resultados\n",
    "tune_results %>% collect_metrics()"
   ]
  },
  {
   "cell_type": "code",
   "execution_count": 79,
   "id": "308b295a",
   "metadata": {},
   "outputs": [
    {
     "data": {
      "text/html": [
       "<table class=\"dataframe\">\n",
       "<caption>A tibble: 1 × 8</caption>\n",
       "<thead>\n",
       "\t<tr><th scope=col>neighbors</th><th scope=col>weight_func</th><th scope=col>.metric</th><th scope=col>.estimator</th><th scope=col>mean</th><th scope=col>n</th><th scope=col>std_err</th><th scope=col>.config</th></tr>\n",
       "\t<tr><th scope=col>&lt;int&gt;</th><th scope=col>&lt;chr&gt;</th><th scope=col>&lt;chr&gt;</th><th scope=col>&lt;chr&gt;</th><th scope=col>&lt;dbl&gt;</th><th scope=col>&lt;int&gt;</th><th scope=col>&lt;dbl&gt;</th><th scope=col>&lt;chr&gt;</th></tr>\n",
       "</thead>\n",
       "<tbody>\n",
       "\t<tr><td>9</td><td>rectangular</td><td>recall</td><td>binary</td><td>0.9</td><td>10</td><td>0.05091751</td><td>Preprocessor1_Model22</td></tr>\n",
       "</tbody>\n",
       "</table>\n"
      ],
      "text/latex": [
       "A tibble: 1 × 8\n",
       "\\begin{tabular}{llllllll}\n",
       " neighbors & weight\\_func & .metric & .estimator & mean & n & std\\_err & .config\\\\\n",
       " <int> & <chr> & <chr> & <chr> & <dbl> & <int> & <dbl> & <chr>\\\\\n",
       "\\hline\n",
       "\t 9 & rectangular & recall & binary & 0.9 & 10 & 0.05091751 & Preprocessor1\\_Model22\\\\\n",
       "\\end{tabular}\n"
      ],
      "text/markdown": [
       "\n",
       "A tibble: 1 × 8\n",
       "\n",
       "| neighbors &lt;int&gt; | weight_func &lt;chr&gt; | .metric &lt;chr&gt; | .estimator &lt;chr&gt; | mean &lt;dbl&gt; | n &lt;int&gt; | std_err &lt;dbl&gt; | .config &lt;chr&gt; |\n",
       "|---|---|---|---|---|---|---|---|\n",
       "| 9 | rectangular | recall | binary | 0.9 | 10 | 0.05091751 | Preprocessor1_Model22 |\n",
       "\n"
      ],
      "text/plain": [
       "  neighbors weight_func .metric .estimator mean n  std_err   \n",
       "1 9         rectangular recall  binary     0.9  10 0.05091751\n",
       "  .config              \n",
       "1 Preprocessor1_Model22"
      ]
     },
     "metadata": {},
     "output_type": "display_data"
    }
   ],
   "source": [
    "# Coletando e exibindo as métricas dos melhores parâmetros\n",
    "best_metrics <- show_best(tune_results, metric = 'recall', n = 1)\n",
    "best_metrics"
   ]
  },
  {
   "cell_type": "code",
   "execution_count": 80,
   "id": "bdf17f39",
   "metadata": {},
   "outputs": [
    {
     "data": {
      "text/plain": [
       "══ Workflow [trained] ══════════════════════════════════════════════════════════════════════════════════════════════════\n",
       "\u001b[3mPreprocessor:\u001b[23m Recipe\n",
       "\u001b[3mModel:\u001b[23m nearest_neighbor()\n",
       "\n",
       "── Preprocessor ────────────────────────────────────────────────────────────────────────────────────────────────────────\n",
       "4 Recipe Steps\n",
       "\n",
       "• step_dummy()\n",
       "• step_zv()\n",
       "• step_normalize()\n",
       "• step_adasyn()\n",
       "\n",
       "── Model ───────────────────────────────────────────────────────────────────────────────────────────────────────────────\n",
       "\n",
       "Call:\n",
       "kknn::train.kknn(formula = ..y ~ ., data = data, ks = min_rows(9L,     data, 5), kernel = ~\"rectangular\")\n",
       "\n",
       "Type of response variable: nominal\n",
       "Minimal misclassification: 0.0990099\n",
       "Best kernel: rectangular\n",
       "Best k: 9"
      ]
     },
     "metadata": {},
     "output_type": "display_data"
    }
   ],
   "source": [
    "# Selecionando os melhores hiperparâmetros\n",
    "best_params <- select_best(tune_results, metric = 'recall')\n",
    "\n",
    "# Finalizando o workflow com os melhores hiperparâmetros\n",
    "final_knn_workflow <- knn_workflow %>%\n",
    "  finalize_workflow(best_params)\n",
    "\n",
    "# Ajustando o modelo final com todo o conjunto de dados de treinamento\n",
    "final_knn_model <- final_knn_workflow %>%\n",
    "  fit(data = df_training)\n",
    "\n",
    "final_knn_model"
   ]
  },
  {
   "cell_type": "code",
   "execution_count": 81,
   "id": "485092fa",
   "metadata": {},
   "outputs": [
    {
     "data": {
      "text/html": [
       "<table class=\"dataframe\">\n",
       "<caption>A tibble: 6 × 1</caption>\n",
       "<thead>\n",
       "\t<tr><th scope=col>.pred_class</th></tr>\n",
       "\t<tr><th scope=col>&lt;fct&gt;</th></tr>\n",
       "</thead>\n",
       "<tbody>\n",
       "\t<tr><td>YES</td></tr>\n",
       "\t<tr><td>NO </td></tr>\n",
       "\t<tr><td>YES</td></tr>\n",
       "\t<tr><td>YES</td></tr>\n",
       "\t<tr><td>NO </td></tr>\n",
       "\t<tr><td>YES</td></tr>\n",
       "</tbody>\n",
       "</table>\n"
      ],
      "text/latex": [
       "A tibble: 6 × 1\n",
       "\\begin{tabular}{l}\n",
       " .pred\\_class\\\\\n",
       " <fct>\\\\\n",
       "\\hline\n",
       "\t YES\\\\\n",
       "\t NO \\\\\n",
       "\t YES\\\\\n",
       "\t YES\\\\\n",
       "\t NO \\\\\n",
       "\t YES\\\\\n",
       "\\end{tabular}\n"
      ],
      "text/markdown": [
       "\n",
       "A tibble: 6 × 1\n",
       "\n",
       "| .pred_class &lt;fct&gt; |\n",
       "|---|\n",
       "| YES |\n",
       "| NO  |\n",
       "| YES |\n",
       "| YES |\n",
       "| NO  |\n",
       "| YES |\n",
       "\n"
      ],
      "text/plain": [
       "  .pred_class\n",
       "1 YES        \n",
       "2 NO         \n",
       "3 YES        \n",
       "4 YES        \n",
       "5 NO         \n",
       "6 YES        "
      ]
     },
     "metadata": {},
     "output_type": "display_data"
    }
   ],
   "source": [
    "# Fazendo previsões nos dados de teste\n",
    "predictions <- predict(final_knn_model, new_data = df_test)\n",
    "head(predictions)"
   ]
  },
  {
   "cell_type": "code",
   "execution_count": 82,
   "id": "ed40edbb",
   "metadata": {},
   "outputs": [
    {
     "data": {
      "text/html": [
       "<table class=\"dataframe\">\n",
       "<caption>A tibble: 3 × 3</caption>\n",
       "<thead>\n",
       "\t<tr><th scope=col>.metric</th><th scope=col>.estimator</th><th scope=col>.estimate</th></tr>\n",
       "\t<tr><th scope=col>&lt;chr&gt;</th><th scope=col>&lt;chr&gt;</th><th scope=col>&lt;dbl&gt;</th></tr>\n",
       "</thead>\n",
       "<tbody>\n",
       "\t<tr><td>recall   </td><td>binary</td><td>0.9000000</td></tr>\n",
       "\t<tr><td>accuracy </td><td>binary</td><td>0.8589744</td></tr>\n",
       "\t<tr><td>precision</td><td>binary</td><td>0.4736842</td></tr>\n",
       "</tbody>\n",
       "</table>\n"
      ],
      "text/latex": [
       "A tibble: 3 × 3\n",
       "\\begin{tabular}{lll}\n",
       " .metric & .estimator & .estimate\\\\\n",
       " <chr> & <chr> & <dbl>\\\\\n",
       "\\hline\n",
       "\t recall    & binary & 0.9000000\\\\\n",
       "\t accuracy  & binary & 0.8589744\\\\\n",
       "\t precision & binary & 0.4736842\\\\\n",
       "\\end{tabular}\n"
      ],
      "text/markdown": [
       "\n",
       "A tibble: 3 × 3\n",
       "\n",
       "| .metric &lt;chr&gt; | .estimator &lt;chr&gt; | .estimate &lt;dbl&gt; |\n",
       "|---|---|---|\n",
       "| recall    | binary | 0.9000000 |\n",
       "| accuracy  | binary | 0.8589744 |\n",
       "| precision | binary | 0.4736842 |\n",
       "\n"
      ],
      "text/plain": [
       "  .metric   .estimator .estimate\n",
       "1 recall    binary     0.9000000\n",
       "2 accuracy  binary     0.8589744\n",
       "3 precision binary     0.4736842"
      ]
     },
     "metadata": {},
     "output_type": "display_data"
    }
   ],
   "source": [
    "# Avaliando as previsões\n",
    "prediction_results <- predictions %>%\n",
    "  bind_cols(df_test) %>%\n",
    "  metrics(truth = LUNG_CANCER, estimate = .pred_class)\n",
    "\n",
    "prediction_results"
   ]
  },
  {
   "cell_type": "code",
   "execution_count": 83,
   "id": "8dc2d1dc",
   "metadata": {},
   "outputs": [
    {
     "name": "stderr",
     "output_type": "stream",
     "text": [
      "\u001b[1m\u001b[22mScale for \u001b[32mfill\u001b[39m is already present.\n",
      "Adding another scale for \u001b[32mfill\u001b[39m, which will replace the existing scale.\n"
     ]
    },
    {
     "data": {
      "image/png": "[encoded data removed]",
      "text/plain": [
       "plot without title"
      ]
     },
     "metadata": {
      "image/png": {
       "height": 420,
       "width": 420
      }
     },
     "output_type": "display_data"
    }
   ],
   "source": [
    "# Gerando a matriz de confusão\n",
    "confusion_matrix <- predictions %>%\n",
    "  bind_cols(df_test) %>%\n",
    "  conf_mat(truth = LUNG_CANCER, estimate = .pred_class)\n",
    "\n",
    "# Visualizando a matriz de confusão como plot \n",
    "autoplot(confusion_matrix, type = 'heatmap') +\n",
    "  labs(title = 'Matriz de Confusão KNN',\n",
    "       x = \"Valores Preditos\",\n",
    "       y = 'Valores Reais') +\n",
    "  scale_fill_gradient(low = 'white', high = 'blue') +\n",
    "    theme_minimal() +\n",
    "  theme(\n",
    "    plot.title = element_text(size = 18, face = \"bold\"),\n",
    "    axis.title = element_text(size = 18),\n",
    "    axis.text = element_text(size = 18)\n",
    "  )"
   ]
  },
  {
   "cell_type": "code",
   "execution_count": 84,
   "id": "72706169",
   "metadata": {},
   "outputs": [
    {
     "data": {
      "text/html": [
       "<table class=\"dataframe\">\n",
       "<caption>A tibble: 6 × 18</caption>\n",
       "<thead>\n",
       "\t<tr><th scope=col>.pred_NO</th><th scope=col>.pred_YES</th><th scope=col>GENDER</th><th scope=col>AGE</th><th scope=col>SMOKING</th><th scope=col>YELLOW_FINGERS</th><th scope=col>ANXIETY</th><th scope=col>PEER_PRESSURE</th><th scope=col>CHRONIC DISEASE</th><th scope=col>FATIGUE</th><th scope=col>ALLERGY</th><th scope=col>WHEEZING</th><th scope=col>ALCOHOL CONSUMING</th><th scope=col>COUGHING</th><th scope=col>SHORTNESS OF BREATH</th><th scope=col>SWALLOWING DIFFICULTY</th><th scope=col>CHEST PAIN</th><th scope=col>LUNG_CANCER</th></tr>\n",
       "\t<tr><th scope=col>&lt;dbl&gt;</th><th scope=col>&lt;dbl&gt;</th><th scope=col>&lt;chr&gt;</th><th scope=col>&lt;dbl&gt;</th><th scope=col>&lt;dbl&gt;</th><th scope=col>&lt;dbl&gt;</th><th scope=col>&lt;dbl&gt;</th><th scope=col>&lt;dbl&gt;</th><th scope=col>&lt;dbl&gt;</th><th scope=col>&lt;dbl&gt;</th><th scope=col>&lt;dbl&gt;</th><th scope=col>&lt;dbl&gt;</th><th scope=col>&lt;dbl&gt;</th><th scope=col>&lt;dbl&gt;</th><th scope=col>&lt;dbl&gt;</th><th scope=col>&lt;dbl&gt;</th><th scope=col>&lt;dbl&gt;</th><th scope=col>&lt;fct&gt;</th></tr>\n",
       "</thead>\n",
       "<tbody>\n",
       "\t<tr><td>0.4444444</td><td>0.5555556</td><td>M</td><td>74</td><td>2</td><td>1</td><td>1</td><td>1</td><td>2</td><td>2</td><td>2</td><td>1</td><td>1</td><td>1</td><td>2</td><td>2</td><td>2</td><td>YES</td></tr>\n",
       "\t<tr><td>0.6666667</td><td>0.3333333</td><td>F</td><td>59</td><td>1</td><td>1</td><td>1</td><td>2</td><td>1</td><td>2</td><td>1</td><td>2</td><td>1</td><td>2</td><td>2</td><td>1</td><td>2</td><td>NO </td></tr>\n",
       "\t<tr><td>0.3333333</td><td>0.6666667</td><td>M</td><td>63</td><td>2</td><td>2</td><td>2</td><td>1</td><td>1</td><td>1</td><td>1</td><td>1</td><td>2</td><td>1</td><td>1</td><td>2</td><td>2</td><td>NO </td></tr>\n",
       "\t<tr><td>0.2222222</td><td>0.7777778</td><td>F</td><td>75</td><td>1</td><td>2</td><td>1</td><td>1</td><td>2</td><td>2</td><td>2</td><td>2</td><td>1</td><td>2</td><td>2</td><td>1</td><td>1</td><td>YES</td></tr>\n",
       "\t<tr><td>0.8888889</td><td>0.1111111</td><td>M</td><td>69</td><td>2</td><td>1</td><td>1</td><td>1</td><td>1</td><td>1</td><td>2</td><td>2</td><td>2</td><td>2</td><td>1</td><td>1</td><td>2</td><td>NO </td></tr>\n",
       "\t<tr><td>0.0000000</td><td>1.0000000</td><td>M</td><td>57</td><td>2</td><td>2</td><td>2</td><td>2</td><td>2</td><td>1</td><td>1</td><td>1</td><td>2</td><td>1</td><td>1</td><td>2</td><td>2</td><td>YES</td></tr>\n",
       "</tbody>\n",
       "</table>\n"
      ],
      "text/latex": [
       "A tibble: 6 × 18\n",
       "\\begin{tabular}{llllllllllllllllll}\n",
       " .pred\\_NO & .pred\\_YES & GENDER & AGE & SMOKING & YELLOW\\_FINGERS & ANXIETY & PEER\\_PRESSURE & CHRONIC DISEASE & FATIGUE & ALLERGY & WHEEZING & ALCOHOL CONSUMING & COUGHING & SHORTNESS OF BREATH & SWALLOWING DIFFICULTY & CHEST PAIN & LUNG\\_CANCER\\\\\n",
       " <dbl> & <dbl> & <chr> & <dbl> & <dbl> & <dbl> & <dbl> & <dbl> & <dbl> & <dbl> & <dbl> & <dbl> & <dbl> & <dbl> & <dbl> & <dbl> & <dbl> & <fct>\\\\\n",
       "\\hline\n",
       "\t 0.4444444 & 0.5555556 & M & 74 & 2 & 1 & 1 & 1 & 2 & 2 & 2 & 1 & 1 & 1 & 2 & 2 & 2 & YES\\\\\n",
       "\t 0.6666667 & 0.3333333 & F & 59 & 1 & 1 & 1 & 2 & 1 & 2 & 1 & 2 & 1 & 2 & 2 & 1 & 2 & NO \\\\\n",
       "\t 0.3333333 & 0.6666667 & M & 63 & 2 & 2 & 2 & 1 & 1 & 1 & 1 & 1 & 2 & 1 & 1 & 2 & 2 & NO \\\\\n",
       "\t 0.2222222 & 0.7777778 & F & 75 & 1 & 2 & 1 & 1 & 2 & 2 & 2 & 2 & 1 & 2 & 2 & 1 & 1 & YES\\\\\n",
       "\t 0.8888889 & 0.1111111 & M & 69 & 2 & 1 & 1 & 1 & 1 & 1 & 2 & 2 & 2 & 2 & 1 & 1 & 2 & NO \\\\\n",
       "\t 0.0000000 & 1.0000000 & M & 57 & 2 & 2 & 2 & 2 & 2 & 1 & 1 & 1 & 2 & 1 & 1 & 2 & 2 & YES\\\\\n",
       "\\end{tabular}\n"
      ],
      "text/markdown": [
       "\n",
       "A tibble: 6 × 18\n",
       "\n",
       "| .pred_NO &lt;dbl&gt; | .pred_YES &lt;dbl&gt; | GENDER &lt;chr&gt; | AGE &lt;dbl&gt; | SMOKING &lt;dbl&gt; | YELLOW_FINGERS &lt;dbl&gt; | ANXIETY &lt;dbl&gt; | PEER_PRESSURE &lt;dbl&gt; | CHRONIC DISEASE &lt;dbl&gt; | FATIGUE &lt;dbl&gt; | ALLERGY &lt;dbl&gt; | WHEEZING &lt;dbl&gt; | ALCOHOL CONSUMING &lt;dbl&gt; | COUGHING &lt;dbl&gt; | SHORTNESS OF BREATH &lt;dbl&gt; | SWALLOWING DIFFICULTY &lt;dbl&gt; | CHEST PAIN &lt;dbl&gt; | LUNG_CANCER &lt;fct&gt; |\n",
       "|---|---|---|---|---|---|---|---|---|---|---|---|---|---|---|---|---|---|\n",
       "| 0.4444444 | 0.5555556 | M | 74 | 2 | 1 | 1 | 1 | 2 | 2 | 2 | 1 | 1 | 1 | 2 | 2 | 2 | YES |\n",
       "| 0.6666667 | 0.3333333 | F | 59 | 1 | 1 | 1 | 2 | 1 | 2 | 1 | 2 | 1 | 2 | 2 | 1 | 2 | NO  |\n",
       "| 0.3333333 | 0.6666667 | M | 63 | 2 | 2 | 2 | 1 | 1 | 1 | 1 | 1 | 2 | 1 | 1 | 2 | 2 | NO  |\n",
       "| 0.2222222 | 0.7777778 | F | 75 | 1 | 2 | 1 | 1 | 2 | 2 | 2 | 2 | 1 | 2 | 2 | 1 | 1 | YES |\n",
       "| 0.8888889 | 0.1111111 | M | 69 | 2 | 1 | 1 | 1 | 1 | 1 | 2 | 2 | 2 | 2 | 1 | 1 | 2 | NO  |\n",
       "| 0.0000000 | 1.0000000 | M | 57 | 2 | 2 | 2 | 2 | 2 | 1 | 1 | 1 | 2 | 1 | 1 | 2 | 2 | YES |\n",
       "\n"
      ],
      "text/plain": [
       "  .pred_NO  .pred_YES GENDER AGE SMOKING YELLOW_FINGERS ANXIETY PEER_PRESSURE\n",
       "1 0.4444444 0.5555556 M      74  2       1              1       1            \n",
       "2 0.6666667 0.3333333 F      59  1       1              1       2            \n",
       "3 0.3333333 0.6666667 M      63  2       2              2       1            \n",
       "4 0.2222222 0.7777778 F      75  1       2              1       1            \n",
       "5 0.8888889 0.1111111 M      69  2       1              1       1            \n",
       "6 0.0000000 1.0000000 M      57  2       2              2       2            \n",
       "  CHRONIC DISEASE FATIGUE ALLERGY WHEEZING ALCOHOL CONSUMING COUGHING\n",
       "1 2               2       2       1        1                 1       \n",
       "2 1               2       1       2        1                 2       \n",
       "3 1               1       1       1        2                 1       \n",
       "4 2               2       2       2        1                 2       \n",
       "5 1               1       2       2        2                 2       \n",
       "6 2               1       1       1        2                 1       \n",
       "  SHORTNESS OF BREATH SWALLOWING DIFFICULTY CHEST PAIN LUNG_CANCER\n",
       "1 2                   2                     2          YES        \n",
       "2 2                   1                     2          NO         \n",
       "3 1                   2                     2          NO         \n",
       "4 2                   1                     1          YES        \n",
       "5 1                   1                     2          NO         \n",
       "6 1                   2                     2          YES        "
      ]
     },
     "metadata": {},
     "output_type": "display_data"
    }
   ],
   "source": [
    "# Fazendo previsões com probabilidades\n",
    "prob_predictions <- predict(final_knn_model, new_data = df_test, type = 'prob')\n",
    "\n",
    "# Combinar as previsões com os dados de teste\n",
    "prob_predictions <- prob_predictions %>%\n",
    "  bind_cols(df_test) \n",
    "\n",
    "head(prob_predictions)"
   ]
  },
  {
   "cell_type": "code",
   "execution_count": 85,
   "id": "313eb9a0",
   "metadata": {},
   "outputs": [
    {
     "name": "stderr",
     "output_type": "stream",
     "text": [
      "Type 'citation(\"pROC\")' for a citation.\n",
      "\n",
      "\n",
      "Anexando pacote: 'pROC'\n",
      "\n",
      "\n",
      "Os seguintes objetos são mascarados por 'package:stats':\n",
      "\n",
      "    cov, smooth, var\n",
      "\n",
      "\n",
      "Setting levels: control = NO, case = YES\n",
      "\n",
      "Setting direction: controls < cases\n",
      "\n"
     ]
    },
    {
     "data": {
      "image/png": "[encoded data removed]",
      "text/plain": [
       "Plot with title \"Curva ROC\""
      ]
     },
     "metadata": {
      "image/png": {
       "height": 420,
       "width": 420
      }
     },
     "output_type": "display_data"
    }
   ],
   "source": [
    "# Carregar a biblioteca pROC\n",
    "library(pROC)\n",
    "\n",
    "# Calcular a curva ROC\n",
    "roc_result <- roc(prob_predictions$LUNG_CANCER, prob_predictions$.pred_YES)\n",
    "\n",
    "# Plotar a curva ROC com modificações\n",
    "plot(roc_result, main = 'Curva ROC', col = 'blue', lwd = 2.5, \n",
    "     xlab = 'Taxa de Falso Positivo (1 - Especificidade)', ylab = 'Taxa de Verdadeiro Positivo (Sensibilidade)', \n",
    "     cex.lab = 1.5, cex.axis = 1.5, cex.main = 1.5, cex.sub = 1.5)\n",
    "\n",
    "# Adicionando a linha diagonal \n",
    "lines(x = c(1, 0), y = c(0, 1), col = 'red', lwd = 1.6)"
   ]
  },
  {
   "cell_type": "markdown",
   "id": "df0c9268",
   "metadata": {},
   "source": [
    "### Ajuste de probabilidade, se necessário"
   ]
  },
  {
   "cell_type": "code",
   "execution_count": 86,
   "id": "65c8935a",
   "metadata": {},
   "outputs": [],
   "source": [
    "# Fazendo previsões nos dados de teste\n",
    "# prob_predictions <- predict(final_knn_model, new_data = df_test, type = 'prob')\n",
    "\n",
    "# Definindo um novo limiar de decisão\n",
    "# limiar <- 0.4\n",
    "\n",
    "# Classificando com base no novo limiar\n",
    "# class_predictions <- ifelse(prob_predictions$.pred_YES > limiar, 'YES', 'NO')\n",
    "\n",
    "# Convertendo para fator\n",
    "# class_predictions <- as.factor(class_predictions)\n",
    "\n",
    "# Gerando um novo data frame que é uma cópia de df_test, com a coluna adicional predictions\n",
    "# df_test_results <- df_test %>%\n",
    "#   mutate(predictions = class_predictions)\n",
    "\n",
    "# Calculando a matriz de confusão\n",
    "# conf_matrix <- conf_mat(df_test_results, truth = LUNG_CANCER, estimate = predictions)\n",
    "\n",
    "# Resumindo as métricas da matriz de confusão\n",
    "# conf_matrix_summary <- conf_matrix %>% summary()\n",
    "# conf_matrix_summary\n",
    "\n",
    "# Visualizando a matriz de confusão\n",
    "# autoplot(conf_matrix, type = 'heatmap') +\n",
    "#   labs(title = 'Matriz de Confusão KNN',\n",
    "#        x = 'Valores Preditos',\n",
    "#        y = 'Valores Reais') +\n",
    "#   scale_fill_gradient(low = 'white', high = 'blue', na.value = 'white') +\n",
    "#   theme_minimal() +\n",
    "#   theme(\n",
    "#     plot.title = element_text(size = 18, face = 'bold'),\n",
    "#     axis.title = element_text(size = 18),\n",
    "#     axis.text = element_text(size = 18)\n",
    "#   )\n"
   ]
  },
  {
   "cell_type": "code",
   "execution_count": 87,
   "id": "ad2381f2",
   "metadata": {},
   "outputs": [],
   "source": [
    "# Salvando o modelo final\n",
    "saveRDS(final_knn_model, 'final_knn_model.rds')"
   ]
  },
  {
   "cell_type": "markdown",
   "id": "d0634cdc",
   "metadata": {},
   "source": [
    "## 4 - Conclusões modelo preditivo \n",
    "- Foram desenvolvidos cinco modelos de machine learning para a previsão de câncer de pulmão. O modelo de regressão logística, sem levar em conta o desbalanceamento das classes, atingiu um recall de 0.61 nos dados de treino. Em seguida, uma Random Forest, também sem tratar o desbalanceamento das classes, alcançou um recall de 0.58. Para melhorar o desempenho, aplicamos o método de case weights, que considera os pesos das classes, na Random Forest, resultando em um recall de 0.78.\n",
    "- Para os modelos K-Nearest Neighbors (KNN), utilizamos técnicas de oversampling, já que o KNN não permite a inserção do método case weights, para lidar com o desbalanceamento das classes. O primeiro modelo KNN foi treinado com o método SMOTE (Synthetic Minority Over-sampling Technique), que cria exemplos sintéticos interpolando entre exemplos existentes da classe minoritária, e obteve um recall de 0.85. O segundo modelo KNN utilizou o método ADASYN (Adaptive Synthetic Sampling), que gera exemplos sintéticos adaptando-se à distribuição das instâncias minoritárias e criando mais exemplos para as instâncias minoritárias mais difíceis de classificar. Este modelo alcançou um recall de 0.90 nos dados de treino e teste.\n",
    "- Esses resultados indicam que há espaço para melhorar ainda mais os modelos de machine learning, especialmente no que diz respeito ao recall. Um recall maior que 0.90 é preferível, pois aumenta a capacidade do modelo de identificar corretamente a maioria dos casos positivos de câncer de pulmão, minimizando o risco de falsos negativos e possibilitando intervenções precoces e mais eficazes."
   ]
  },
  {
   "attachments": {
    "image.png": {
     "image/png": "[encoded data removed]"
    }
   },
   "cell_type": "markdown",
   "id": "eb475732",
   "metadata": {},
   "source": [
    "## 5 - Deploy\n",
    "- O segundo objetivo deste projeto era realizar o deploy do modelo para um serviço de nuvem utilizando a AWS, por meio das bibliotecas Vetiver e Plumber. A biblioteca Vetiver permite gerenciar e versionar modelos de machine learning de maneira eficiente, facilitando a integração e o deploy desses modelos em ambientes de produção. A Vetiver também gera um arquivo Docker, que em seguida é usado para criar uma imagem Docker.\n",
    "- Já a Plumber permite a criação de APIs RESTful em R, facilitando a exposição dos modelos de machine learning como serviços web. Com a API criada, o arquivo Docker gerado pela Vetiver pode ser hospedado no serviço ECS (Elastic Container Service) da AWS, permitindo que o modelo seja acessível de maneira escalável e segura pela internet. Esse processo de deploy na nuvem garante que o modelo esteja disponível para uso contínuo, possibilitando a realização de previsões em tempo real e integrando-se perfeitamente com outras aplicações e serviços\n",
    "Referências : https://juliasilge.com/blog/lego-sets/\n",
    "\n",
    "![image.png](attachment:image.png)"
   ]
  },
  {
   "cell_type": "code",
   "execution_count": 88,
   "id": "a9d77e70",
   "metadata": {},
   "outputs": [
    {
     "name": "stderr",
     "output_type": "stream",
     "text": [
      "\n",
      "Anexando pacote: 'vetiver'\n",
      "\n",
      "\n",
      "O seguinte objeto é mascarado por 'package:tune':\n",
      "\n",
      "    load_pkgs\n",
      "\n",
      "\n"
     ]
    }
   ],
   "source": [
    "library('plumber')\n",
    "library('pins')\n",
    "library('vetiver')"
   ]
  },
  {
   "cell_type": "markdown",
   "id": "585384c4",
   "metadata": {},
   "source": [
    "- **pins:** O pacote pins permite publicar conjuntos de dados, modelos e outros recursos em um 'board', facilitando o compartilhamento com outros e o acesso em diferentes sessões. É uma biblioteca geral para compartilhar e versionar qualquer tipo de recurso (dados, modelos, etc.).\n",
    "- **vetiver:** É uma biblioteca especializada em versionamento e implantação de modelos de machine learning, oferecendo integração com APIs para facilitar o uso desses modelos em produção.\n",
    "- **plumber:** O pacote plumber permite transformar funções R em APIs RESTful. Isso é útil para expor modelos de machine learning como serviços web, que podem ser consumidos por outras aplicações ou usuários."
   ]
  },
  {
   "cell_type": "code",
   "execution_count": 89,
   "id": "c49d2c96",
   "metadata": {},
   "outputs": [],
   "source": [
    "# Carregando o modelo salvo\n",
    "final_knn_model <- readRDS('final_knn_model.rds')"
   ]
  },
  {
   "cell_type": "code",
   "execution_count": 90,
   "id": "4910d2a6",
   "metadata": {},
   "outputs": [
    {
     "data": {
      "text/plain": [
       "\n",
       "── \u001b[3m\u001b[3mfinal_knn_model\u001b[3m\u001b[23m ─ \u001b[34m\u001b[34m<bundled_workflow>\u001b[34m\u001b[39m model for deployment \n",
       "A kknn classification modeling workflow using 15 features"
      ]
     },
     "metadata": {},
     "output_type": "display_data"
    }
   ],
   "source": [
    "# Criando um objeto vetiver a partir do modelo carregado\n",
    "v <- vetiver_model(final_knn_model, model_name = 'final_knn_model')\n",
    "v"
   ]
  },
  {
   "cell_type": "code",
   "execution_count": 91,
   "id": "6dc4e5ac",
   "metadata": {},
   "outputs": [
    {
     "data": {
      "text/plain": [
       "Pin board \u001b[34m<pins_board_folder>\u001b[39m\n",
       "Path: 'pins-r'\n",
       "Cache size: 0"
      ]
     },
     "metadata": {},
     "output_type": "display_data"
    }
   ],
   "source": [
    "# Criando um board para armazenar o modelo\n",
    "model_board <- board_folder(path = \"pins-r\", versioned = TRUE)\n",
    "model_board"
   ]
  },
  {
   "cell_type": "code",
   "execution_count": 92,
   "id": "c6bffa45",
   "metadata": {},
   "outputs": [
    {
     "name": "stderr",
     "output_type": "stream",
     "text": [
      "\u001b[1m\u001b[22mCreating new version '20240702T224204Z-88d75'\n",
      "\u001b[1m\u001b[22mWriting to pin 'final_knn_model'\n",
      "\n",
      "Create a Model Card for your published model\n",
      "\u001b[36m•\u001b[39m Model Cards provide a framework for transparent, responsible reporting\n",
      "\u001b[36m•\u001b[39m Use the vetiver `.Rmd` template as a place to start\n",
      "\u001b[90mThis message is displayed once per session.\u001b[39m\n"
     ]
    }
   ],
   "source": [
    "# Salvando o modelo Vetiver no board\n",
    "vetiver_pin_write(model_board, v)"
   ]
  },
  {
   "cell_type": "code",
   "execution_count": 93,
   "id": "502d2708",
   "metadata": {},
   "outputs": [],
   "source": [
    "#Criando a API usando o Plumber e Vetiver:\n",
    "vetiver_write_plumber(model_board, 'final_knn_model')"
   ]
  },
  {
   "attachments": {
    "image.png": {
     "image/png": "[encoded data removed]"
    }
   },
   "cell_type": "markdown",
   "id": "8203d5d9",
   "metadata": {},
   "source": [
    "- **Um arquivo plumber.R será gerado pelo comando vetiver_write_plumber, este arquivo contém o código necessário para criar uma API Plumber. O Arquivo plumber será copiado para um contêiner Docker.**\n",
    "- **O comando vetiver_write_docker() cria um arquivo Dockerfile que podemos usar para construir uma imagem Docker do seu modelo. Isso permite a implantação do modelo em um ambiente Dockerizado.**\n",
    "- **Este comando também cria arquivo renv.lock que captura o estado do ambiente R (incluindo todas as dependências e suas versões) no momento em que o modelo foi salvo. Isso ajuda a garantir a reprodutibilidade ao implantar o modelo em diferentes ambientes.**\n",
    "---\n",
    "- Aparência do dockerfile:\n",
    "![image.png](attachment:image.png)"
   ]
  },
  {
   "cell_type": "code",
   "execution_count": 94,
   "id": "5f7ec418",
   "metadata": {},
   "outputs": [
    {
     "name": "stdout",
     "output_type": "stream",
     "text": [
      "- The lockfile is already up to date.\n"
     ]
    }
   ],
   "source": [
    "vetiver_write_docker(v)"
   ]
  },
  {
   "attachments": {
    "image-2.png": {
     "image/png": "[encoded data removed]"
    },
    "image-3.png": {
     "image/png": "[encoded data removed]"
    },
    "image-4.png": {
     "image/png": "[encoded data removed]"
    },
    "image-6.png": {
     "image/png": "[encoded data removed]"
    },
    "image-7.png": {
     "image/png": "[encoded data removed]"
    },
    "image-8.png": {
     "image/png": "[encoded data removed]"
    },
    "image-9.png": {
     "image/png": "[encoded data removed]"
    }
   },
   "cell_type": "markdown",
   "id": "433204af",
   "metadata": {},
   "source": [
    "### Agora precisamor ir até o terminal do nosso sistema operacional:\n",
    "\n",
    "- É necessário ter o Docker instalado: https://www.docker.com/\n",
    "- Usuários de Windows: É necessário instalar o WSL. Utilize o comando abaixo para atualizar o WSL: wsl --update\n",
    "- Passos para Construir e Executar a Imagem Docker\n",
    "    - Navegar até o Diretório do Dockerfile: cd C:\\caminho\\para\\seu\\diretorio\n",
    "    - Atualizar o Dockerfile\n",
    "        - **Insira esta linha no seu Dockerfile: COPY pins-r /opt/ml/pins-r**\n",
    "- Construir a Imagem Docker\n",
    "    - Execute o comando para construir a imagem Docker: docker build -t nomeimagem .\n",
    "- Executar o Contêiner Docker\n",
    "    - Posteriormente, execute o comando para executar o contêiner: docker run --rm -p 8000:8000 nomeimagem\n",
    "- Verificar a API Localmente\n",
    "    - Você pode verificar a API localmente pelo endereço: http://127.0.0.1:8000/__docs__/\n",
    "\n",
    "![image-2.png](attachment:image-2.png)\n",
    "\n",
    "### Upload para Docker Hub\n",
    "- Para facilitar o processo de deploy do modelo em qualquer serviço de cloud, vamos enviar a imagem recém criada para o Docker Hub.\n",
    "- Faça login na sua conta do Docker Hub e clique em \"Create Repository\" para criar um novo repositório onde a imagem Docker será armazenada.\n",
    "![image-3.png](attachment:image-3.png)\n",
    "---\n",
    "- Liste suas imagens:\n",
    "\n",
    "![image-4.png](attachment:image-4.png)\n",
    "\n",
    "- Agora, tagueie a sua imagem Docker local com o nome do repositório do Docker Hub.\n",
    "    - No meu caso, o comando é: docker tag final_knn_model:latest leticiadluz/pred-lung-cancer:latest\n",
    "- Depois, envie a imagem para o Docker Hub usando o comando docker push: \n",
    "    - No meu caso, o comando é: docker push leticiadluz/pred-lung-cancer:latest\n",
    "    \n",
    "![image-6.png](attachment:image-6.png)\n",
    "\n",
    "---\n",
    "- Agora a imagem está no Docker Hub:\n",
    "![image-7.png](attachment:image-7.png)\n",
    "\n",
    "---\n",
    "### Deploy para ECS da AWS:\n",
    "\n",
    "- **Criar uma Conta na AWS:**\n",
    "    - Antes de começar, é necessário criar uma conta na AWS. Acesse AWS Sign Up e siga as instruções para criar sua conta.\n",
    "- **Instalar AWS CLI:**\n",
    "    - https://docs.aws.amazon.com/cli/latest/userguide/getting-started-install.html\n",
    "    - AWS CLI (Command Line Interface) permite realizar comandos no AWS diretamente do terminal.\n",
    "\n",
    "- **Configurar IAM (Identity and Access Management):**\n",
    "    - Acesse o console do IAM na AWS.\n",
    "    - Clique em Usuários.\n",
    "    - Selecione Adicionar usuário.\n",
    "    - Defina um nome para o usuário\n",
    "    - Clique em anexar políticas diretamente\n",
    "    - Selecione AdministratorAccess\n",
    "    - Clique em Criar usuário\n",
    "    - Clique em Visualizar usuário\n",
    "    - Gere uma chave de acesso (Access Key) e uma chave secreta (Secret Access Key).\n",
    "    - Anote-as\n",
    "- **Configurar AWS CLI:**\n",
    "    - No terminal, execute o comando aws configure.\n",
    "    - Insira a Access Key e a Secret Access Key geradas no passo anterior.\n",
    "    - Configure a região e o formato de saída.\n",
    "\n",
    "![image-8.png](attachment:image-8.png)\n",
    "\n",
    "---\n",
    "\n",
    "### Passo a Passo para Configurar o Elastic Container Service (ECS) na AWS\n",
    "- Vá para a AWS Management Console.\n",
    "- No menu de serviços, selecione Elastic Container Service (ECS).\n",
    "- Clique em Task Definitions (Definições de Tarefa) no painel de navegação.\n",
    "- Clique no botão Create new Task Definition (Criar nova Definição de Tarefa).\n",
    "- Especifique um nome de família da definição de tarefa (Task Definition Family Name).\n",
    "- Deixe os requisitos de infraestrutura como padrão.\n",
    "- Dê um nome para seu contêiner.\n",
    "- Insira a URL da imagem do Docker que você deseja usar.\n",
    "- Deixe todas as demais configurações padrão.\n",
    "- Revise suas configurações e clique em \"Create\" (Criar) para finalizar a criação da definição de tarefa.\n",
    "\n",
    "![image-9.png](attachment:image-9.png)\n",
    "\n",
    "---\n",
    "- Clique no botão \"Create Cluster\" (Criar Cluster).\n",
    "- Insira um nome para o seu cluster. Este nome será usado para identificar seu cluster no ECS\n",
    "- Deixe as definições padrão selecionadas.\n",
    "- Revise suas configurações e clique em \"Create\" (Criar) para finalizar a criação do cluster.\n",
    "\n",
    "---\n",
    "- Após criar o cluster, abra o cluster clicando no nome do cluster na lista de clusters.\n",
    "- No painel do cluster, clique em \"Create Service\" (Criar Serviço).\n",
    "- Na seção \"Launch type\" (Tipo de Inicialização), deixe a opção padrão selecionada.\n",
    "- Na seção \"Task Definition\" (Definição de Tarefa), selecione a família e a revisão da definição de tarefa que você criou anteriormente.\n",
    "- Insira um nome para o seu serviço. Este nome será usado para identificar seu serviço no ECS.\n",
    "- Deixe todas as demais configurações padrão.\n",
    "- Revise suas configurações e clique em \"Create Service\" (Criar Serviço) para finalizar a criação do serviço.\n",
    "--- \n",
    "- Posteriormente à criação de um contêiner no AWS Elastic Container Service (ECS), um IP público será disponibilizado. Esse IP público pode ser usado para acessar o serviço implantado.\n",
    "- No caso desta API Vetiver, o IP público pode ser inserido no endereço da API para realizar os testes, onde é possível realizar requisições de teste e obter previsões do modelo KNN.\n",
    "### Embora uma aplicação mais robusta e voltada ao usuário final possa ser desenvolvida utilizando, por exemplo, a biblioteca Shiny, o objetivo deste projeto foi descrever detalhadamente como seria a implementação de uma API utilizando Vetiver e Plumber. O processo incluiu a criação da imagem Docker e o deploy para o AWS.\n",
    "- Para demonstrar a criação e funcionamento do contêiner no AWS ECS e da aplicação, fiz um vídeo detalhando o processo, pois o serviço não ficará ativo para evitar custos futuros.\n",
    "- Link:https://drive.google.com/drive/folders/1CjE35TrdnHBjZnJEEKLZ7MxsMdNOz_wU?usp=sharing\n",
    "\n",
    "## 6 - Conclusões\n",
    "- Apesar das limitações associadas ao tamanho e desbalanceamento do conjunto de dados, bem como à falta de informação sobre a fonte dos dados, o desenvolvimento deste modelo de previsão oferece um potencial significativo para melhorar a detecção precoce e a gestão do câncer de pulmão. Ao integrar este tipo de ferramenta preditiva nos fluxos de trabalho clínicos, é possível não apenas melhorar a eficiência do diagnóstico, mas também possibilitar intervenções preventivas.\n",
    "- Além disso, este projeto permitiu demonstrar de forma introdutória como funciona a parte de MLOps (Machine Learning Operations). MLOps é a prática de colaboração e comunicação entre cientistas de dados e profissionais de operações para gerenciar o ciclo de vida de modelos de machine learning"
   ]
  }
 ],
 "metadata": {
  "kernelspec": {
   "display_name": "R",
   "language": "R",
   "name": "ir"
  },
  "language_info": {
   "codemirror_mode": "r",
   "file_extension": ".r",
   "mimetype": "text/x-r-source",
   "name": "R",
   "pygments_lexer": "r",
   "version": "4.4.1"
  }
 },
 "nbformat": 4,
 "nbformat_minor": 5
}
